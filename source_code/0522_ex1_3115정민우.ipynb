{
 "cells": [
  {
   "cell_type": "code",
   "execution_count": 1,
   "metadata": {},
   "outputs": [],
   "source": [
    "#크롤링 실습"
   ]
  },
  {
   "cell_type": "code",
   "execution_count": 1,
   "metadata": {},
   "outputs": [],
   "source": [
    "from urllib.request import urlopen\n",
    "from bs4 import BeautifulSoup"
   ]
  },
  {
   "cell_type": "code",
   "execution_count": 2,
   "metadata": {},
   "outputs": [],
   "source": [
    "url = 'https://www.innogov.go.kr/ucms/ogp/sug/list.do?pnum=1&menuNo=300011'"
   ]
  },
  {
   "cell_type": "code",
   "execution_count": 3,
   "metadata": {},
   "outputs": [],
   "source": [
    "html = urlopen(url)"
   ]
  },
  {
   "cell_type": "code",
   "execution_count": 4,
   "metadata": {},
   "outputs": [],
   "source": [
    "soup = BeautifulSoup(html, 'html.parser')"
   ]
  },
  {
   "cell_type": "code",
   "execution_count": 5,
   "metadata": {},
   "outputs": [
    {
     "name": "stdout",
     "output_type": "stream",
     "text": [
      "제목: 행정기관 소속 위원회 위원 개인정보 및 안건 공개 기준...\n",
      "링크: /ucms/ogp/sug/view.do?menuNo=300011&sgId=280&pnum=1\n"
     ]
    }
   ],
   "source": [
    "result = soup.select_one('#content > div.suggestion_list > ul > li:nth-child(1) > dl > dt > p > a')\n",
    "print(\"제목: \" + result.string)\n",
    "print(\"링크: \" + result.attrs.get('href'))"
   ]
  },
  {
   "cell_type": "code",
   "execution_count": 6,
   "metadata": {
    "scrolled": true
   },
   "outputs": [
    {
     "name": "stdout",
     "output_type": "stream",
     "text": [
      "제목: 행정기관 소속 위원회 위원 개인정보 및 안건 공개 기준...\n",
      "링크: /ucms/ogp/sug/view.do?menuNo=300011&sgId=280&pnum=1\n",
      "\n",
      "제목: 초과근무 줄이기!\n",
      "링크: /ucms/ogp/sug/view.do?menuNo=300011&sgId=279&pnum=1\n",
      "\n",
      "제목: 원스톱 의원요구자료 제출 시스템 구축\n",
      "링크: /ucms/ogp/sug/view.do?menuNo=300011&sgId=278&pnum=1\n",
      "\n",
      "제목: 예산을 공평하게 분배\n",
      "링크: /ucms/ogp/sug/view.do?menuNo=300011&sgId=277&pnum=1\n",
      "\n",
      "제목: 공무원 인트라넷 통합메신저\n",
      "링크: /ucms/ogp/sug/view.do?menuNo=300011&sgId=276&pnum=1\n",
      "\n"
     ]
    }
   ],
   "source": [
    "results = soup.select('#content > div.suggestion_list > ul > li > dl > dt > p > a')\n",
    "for i in results:\n",
    "    print(\"제목: \" + i.string)\n",
    "    print(\"링크: \" + i.attrs.get('href'))\n",
    "    print(\"\")"
   ]
  },
  {
   "cell_type": "code",
   "execution_count": 8,
   "metadata": {},
   "outputs": [
    {
     "name": "stdout",
     "output_type": "stream",
     "text": [
      "크롤링 페이지 입력 : 3\n",
      "\n",
      "1 페이지\n",
      "\n",
      "제목: 행정기관 소속 위원회 위원 개인정보 및 안건 공개 기준...\n",
      "링크: /ucms/ogp/sug/view.do?menuNo=300011&sgId=280&pnum=1\n",
      "\n",
      "제목: 초과근무 줄이기!\n",
      "링크: /ucms/ogp/sug/view.do?menuNo=300011&sgId=279&pnum=1\n",
      "\n",
      "제목: 원스톱 의원요구자료 제출 시스템 구축\n",
      "링크: /ucms/ogp/sug/view.do?menuNo=300011&sgId=278&pnum=1\n",
      "\n",
      "제목: 예산을 공평하게 분배\n",
      "링크: /ucms/ogp/sug/view.do?menuNo=300011&sgId=277&pnum=1\n",
      "\n",
      "제목: 공무원 인트라넷 통합메신저\n",
      "링크: /ucms/ogp/sug/view.do?menuNo=300011&sgId=276&pnum=1\n",
      "\n",
      "2 페이지\n",
      "\n",
      "제목: 임대아파트 이웃 주민들에게 피해를 주는 입주민에 대한 ...\n",
      "링크: /ucms/ogp/sug/view.do?menuNo=300011&sgId=275&pnum=2\n",
      "\n",
      "제목: 천차만별인 지역 유류가격을 지자체별로 저가 순위 주유소...\n",
      "링크: /ucms/ogp/sug/view.do?menuNo=300011&sgId=274&pnum=2\n",
      "\n",
      "제목: 행안부 생활공감정책추진단 제안에 대한 검토방식 개선\n",
      "링크: /ucms/ogp/sug/view.do?menuNo=300011&sgId=272&pnum=2\n",
      "\n",
      "제목: 주거형 오피스텔 차별 해소 필요\n",
      "링크: /ucms/ogp/sug/view.do?menuNo=300011&sgId=271&pnum=2\n",
      "\n",
      "제목: 국민연금불입금담보대출\n",
      "링크: /ucms/ogp/sug/view.do?menuNo=300011&sgId=270&pnum=2\n",
      "\n",
      "3 페이지\n",
      "\n",
      "제목: 한 말씀\n",
      "링크: /ucms/ogp/sug/view.do?menuNo=300011&sgId=269&pnum=3\n",
      "\n",
      "제목: 65세 경로대상자   사전안내\n",
      "링크: /ucms/ogp/sug/view.do?menuNo=300011&sgId=268&pnum=3\n",
      "\n",
      "제목: 한표.두표  10인 이내 투표 활용도   궁금!\n",
      "링크: /ucms/ogp/sug/view.do?menuNo=300011&sgId=267&pnum=3\n",
      "\n",
      "제목: 우리가  이용하는 식당 이상한점?\n",
      "링크: /ucms/ogp/sug/view.do?menuNo=300011&sgId=266&pnum=3\n",
      "\n",
      "제목: 빌고빌고 또 합니다\n",
      "링크: /ucms/ogp/sug/view.do?menuNo=300011&sgId=265&pnum=3\n",
      "\n"
     ]
    }
   ],
   "source": [
    "i = input(\"크롤링 페이지 입력 : \")\n",
    "print(\"\")\n",
    "p = int(i)\n",
    "n = 1;\n",
    "\n",
    "while n<=p:\n",
    "    url = f'https://www.innogov.go.kr/ucms/ogp/sug/list.do?pnum={n}&menuNo=300011#none'\n",
    "    html = urlopen(url)\n",
    "    soup = BeautifulSoup(html, 'html.parser')\n",
    "    results = soup.select('#content > div.suggestion_list > ul > li > dl > dt > p > a')\n",
    "    print(f\"{n} 페이지\")\n",
    "    print(\"\")\n",
    "    n+=1\n",
    "    for i in results:\n",
    "        print(\"제목: \" + i.string)\n",
    "        print(\"링크: \" + i.attrs.get('href'))\n",
    "        print(\"\")"
   ]
  },
  {
   "cell_type": "code",
   "execution_count": 7,
   "metadata": {},
   "outputs": [
    {
     "name": "stdout",
     "output_type": "stream",
     "text": [
      "크롤링 페이지 입력 : 14\n",
      "Search Text : 근무\n",
      "1 페이지\n",
      "제목: 초과근무 줄이기!\n",
      "링크: /ucms/ogp/sug/view.do?menuNo=300011&sgId=279&pnum=1\n",
      "제목: 암행국(어)사제도 신설\n",
      "링크: /ucms/ogp/sug/view.do?menuNo=300011&sgId=264&pnum=1\n",
      "제목: 시간선택제공무원 근무시간 확대와 관련된 규정 개정 요청\n",
      "링크: /ucms/ogp/sug/view.do?menuNo=300011&sgId=260&pnum=1\n",
      "제목: 청와대공무직공개채용\n",
      "링크: /ucms/ogp/sug/view.do?menuNo=300011&sgId=240&pnum=1\n",
      "제목: 정부조직법 부처 개편 일부 개정안(추가 일부 변경)\n",
      "링크: /ucms/ogp/sug/view.do?menuNo=300011&sgId=222&pnum=1\n",
      "\n",
      "2 페이지\n",
      "제목: 연가 기부제 도입\n",
      "링크: /ucms/ogp/sug/view.do?menuNo=300011&sgId=214&pnum=2\n",
      "제목: 어린이집교사 근무환경개선\n",
      "링크: /ucms/ogp/sug/view.do?menuNo=300011&sgId=210&pnum=2\n",
      "제목: 육아시간 사용 관련 건의\n",
      "링크: /ucms/ogp/sug/view.do?menuNo=300011&sgId=207&pnum=2\n",
      "제목: 체당금 관련 법안에 관해서 건의드립니다.\n",
      "링크: /ucms/ogp/sug/view.do?menuNo=300011&sgId=169&pnum=2\n",
      "제목: 2019년 함안군문화시설사업소 기간제근로자(단순노무원)...\n",
      "링크: /ucms/ogp/sug/view.do?menuNo=300011&sgId=150&pnum=2\n",
      "\n",
      "3 페이지\n",
      "제목: 사회복무요원  직무교육 내용 개선이 필요합니다\n",
      "링크: /ucms/ogp/sug/view.do?menuNo=300011&sgId=149&pnum=3\n",
      "제목: 새해부터는 공무원들의 근무시간 특별히 점심시간을 잘 지...\n",
      "링크: /ucms/ogp/sug/view.do?menuNo=300011&sgId=139&pnum=3\n",
      "제목: 복지시설 명칭재고\n",
      "링크: /ucms/ogp/sug/view.do?menuNo=300011&sgId=82&pnum=3\n",
      "제목: 서울특별시청소년수련관 직원정년나이 ,기관장(대표)과 같...\n",
      "링크: /ucms/ogp/sug/view.do?menuNo=300011&sgId=75&pnum=3\n",
      "제목: 공무국외여행 경비절감 및 효율화 방안\n",
      "링크: /ucms/ogp/sug/view.do?menuNo=300011&sgId=69&pnum=3\n",
      "\n",
      "4 페이지\n",
      "제목: 국민생활  5일근무제로 함께 가자.\n",
      "링크: /ucms/ogp/sug/view.do?menuNo=300011&sgId=61&pnum=4\n",
      "제목: 공무원 조직경쟁력 강화 목적인 개방형직위 운용 체계를 ...\n",
      "링크: /ucms/ogp/sug/view.do?menuNo=300011&sgId=49&pnum=4\n",
      "제목: 장애인 주차공간에 대해 장애인 및 거동이 불편한 어르신...\n",
      "링크: /ucms/ogp/sug/view.do?menuNo=300011&sgId=35&pnum=4\n",
      "제목: 종이 당직일지 이제는 안녕!\n",
      "링크: /ucms/ogp/sug/view.do?menuNo=300011&sgId=32&pnum=4\n",
      "제목: 하계 반바지 허용 등 근무복장 자율화를 통한 생산적인 ...\n",
      "링크: /ucms/ogp/sug/view.do?menuNo=300011&sgId=7&pnum=4\n",
      "\n",
      "5 페이지\n",
      "제목: 공무원 전입시험의 투명성 확보방안\n",
      "링크: /ucms/ogp/sug/view.do?menuNo=300011&sgId=2&pnum=5\n",
      "\n",
      "6 페이지\n",
      "\n",
      "7 페이지\n",
      "\n",
      "8 페이지\n",
      "\n",
      "9 페이지\n",
      "\n",
      "10 페이지\n",
      "\n",
      "11 페이지\n",
      "\n",
      "12 페이지\n",
      "\n",
      "13 페이지\n",
      "\n",
      "14 페이지\n",
      "\n"
     ]
    },
    {
     "data": {
      "text/plain": [
       "21"
      ]
     },
     "execution_count": 7,
     "metadata": {},
     "output_type": "execute_result"
    }
   ],
   "source": [
    "from urllib.parse import quote_plus\n",
    "num = int(input(\"크롤링 페이지 입력 : \"))\n",
    "query = quote_plus(input(\"Search Text : \"))\n",
    "\n",
    "links = []\n",
    "\n",
    "for i in range(num):\n",
    "    url = f'http://www.innogov.go.kr/ucms/ogp/sug/list.do?pnum={i+1}&menuNo=300011&searchText={query}'\n",
    "\n",
    "    html = urlopen(url)\n",
    "    soup = BeautifulSoup(html, 'html.parser')\n",
    "\n",
    "    results = soup.select('#content > div.suggestion_list > ul > li > dl > dt > p > a')\n",
    "\n",
    "    print(f'{i + 1} 페이지')\n",
    "    for res in results:\n",
    "        print(\"제목: \" + res.string)\n",
    "        print(\"링크: \" + res.attrs.get('href'))\n",
    "        links.append(res.attrs.get('href'))\n",
    "    print()\n",
    "\n",
    "len(links)"
   ]
  },
  {
   "cell_type": "markdown",
   "metadata": {},
   "source": [
    "## num = int(input(\"크롤링 페이지 입력 : \"))\n",
    "query = quote_plus(input(\"Search Text : \"))\n",
    "\n",
    "links = []\n",
    "\n",
    "for i in range(num):\n",
    "    url = f'http://www.innogov.go.kr/ucms/ogp/sug/list.do?pnum={i+1}&menuNo=300011&searchText={query}'\n",
    "\n",
    "    html = urlopen(url)\n",
    "    soup = BeautifulSoup(html, 'html.parser')\n",
    "\n",
    "    results = soup.select('#content > div.suggestion_list > ul > li > dl > dt > p > a')\n",
    "\n",
    "    for res in results:\n",
    "        links.append(res.attrs.get('href'))\n",
    "\n",
    "len(links)"
   ]
  },
  {
   "cell_type": "code",
   "execution_count": 8,
   "metadata": {},
   "outputs": [
    {
     "name": "stdout",
     "output_type": "stream",
     "text": [
      "3\n",
      "title : 예산을 공평하게 분배\n",
      "vote : 3\n"
     ]
    }
   ],
   "source": [
    "url = '/ucms/ogp/sug/view.do?menuNo=300011&sgId=277'\n",
    "baseurl = f'http://www.innogov.go.kr{url}'\n",
    "\n",
    "html = urlopen(baseurl)\n",
    "soup = BeautifulSoup(html, 'html.parser')\n",
    "\n",
    "counter = soup.select_one('#counter').string\n",
    "print(counter)\n",
    "\n",
    "title = soup.find('dl', class_='vveiw_titl1').find('dt').string\n",
    "\n",
    "vote = soup.select_one('#counter').string\n",
    "\n",
    "\n",
    "print(f\"title : {title}\")\n",
    "print(f'vote : {vote}')"
   ]
  },
  {
   "cell_type": "code",
   "execution_count": 9,
   "metadata": {},
   "outputs": [
    {
     "name": "stdout",
     "output_type": "stream",
     "text": [
      "title : 예산을 공평하게 분배\n",
      "vote : 3\n"
     ]
    },
    {
     "data": {
      "text/plain": [
       "'279'"
      ]
     },
     "execution_count": 9,
     "metadata": {},
     "output_type": "execute_result"
    }
   ],
   "source": [
    "url = 'https://www.innogov.go.kr/ucms/ogp/sug/view.do?menuNo=300011&sgId=279&pnum=1'\n",
    "# url = '/ucms/ogp/sug/view.do?menuNo=300011&sgId=277'\n",
    "# baseurl = f'http://www.innogov.go.kr{url}'\n",
    "\n",
    "html = urlopen(baseurl)\n",
    "soup = BeautifulSoup(html, 'html.parser')\n",
    "\n",
    "title = soup.find('dl', class_='vveiw_titl1').find('dt').string\n",
    "vote = soup.select_one('#counter').string\n",
    "\n",
    "\n",
    "print(f\"title : {title}\")\n",
    "print(f'vote : {vote}')\n",
    "\n",
    "url.split('=')[2].split('&')[0]"
   ]
  },
  {
   "cell_type": "code",
   "execution_count": 10,
   "metadata": {},
   "outputs": [],
   "source": [
    "def get(url):    \n",
    "    baseurl = f'http://www.innogov.go.kr{url}'\n",
    "    \n",
    "    html = urlopen(baseurl)\n",
    "    soup = BeautifulSoup(html, 'html.parser')\n",
    "    \n",
    "    data = []\n",
    "    \n",
    "    data.append(url.split('=')[-2].split('&')[0])\n",
    "    data.append(soup.select_one('#content > div.vveiw_box1 > dl > dt').string)\n",
    "    data.append(soup.select_one('#content > div.vveiw_box1 > div.vveiw_name > ul > li:nth-child(1) > dl > dd').string)\n",
    "    data.append(soup.select_one('#content > div.vveiw_box1 > div.vveiw_name > ul > li:nth-child(2) > dl > dd').string)\n",
    "    data.append(soup.select_one('#content > div.vveiw_box1 > div.vveiw_name > ul > li:nth-child(3) > dl > dd').string)\n",
    "    data.append(soup.select_one('#counter').string)\n",
    "    data.append(soup.select_one('#content > div.vveiw_box1 > div.vveiw_name > ul > li:nth-child(4) > dl > dd').string)\n",
    "\n",
    "    return data"
   ]
  },
  {
   "cell_type": "code",
   "execution_count": 11,
   "metadata": {},
   "outputs": [
    {
     "name": "stdout",
     "output_type": "stream",
     "text": [
      "['136', '대국민 정부성과 전파방법', '기타', '2018.12.31', '2019.03.30', '3', '연하의숨결']\n"
     ]
    }
   ],
   "source": [
    "print(get('/ucms/ogp/sug/view.do?menuNo=300011&sgId=136&pnum=1'))"
   ]
  },
  {
   "cell_type": "code",
   "execution_count": 12,
   "metadata": {},
   "outputs": [
    {
     "name": "stdout",
     "output_type": "stream",
     "text": [
      "['279', '초과근무 줄이기!', '일반행정', '2019.10.16', '2020.01.13', '2', 'ㅁㄴㅁ']\n",
      "['264', '암행국(어)사제도 신설', '사회통합', '2019.09.07', '2019.12.05', '5', '청류']\n",
      "['260', '시간선택제공무원 근무시간 확대와 관련된 규정 개정 요청', '일반행정', '2019.09.04', '2019.12.02', '14', '청운']\n",
      "['240', '청와대공무직공개채용', '일반행정', '2019.08.28', '2019.11.25', '17', '인생2모작']\n",
      "['222', '정부조직법 부처 개편 일부 개정안(추가 일부 변경)', '일반행정', '2019.07.16', '2019.10.13', '2', 'jong176']\n",
      "['214', '연가 기부제 도입', '일반행정', '2019.06.24', '2019.09.21', '7', '탱크']\n",
      "['210', '어린이집교사 근무환경개선', '환경', '2019.06.22', '2019.09.19', '7', '꾸꾸바라기']\n",
      "['207', '육아시간 사용 관련 건의', '보건복지', '2019.06.20', '2019.09.17', '1', '청운']\n",
      "['169', '체당금 관련 법안에 관해서 건의드립니다.', '보건복지', '2019.05.02', '2019.07.30', '13', '꿀떵이맘']\n",
      "['150', '2019년 함안군문화시설사업소 기간제근로자(단순노무원) 채용계획 공고', '국민참여', '2019.02.09', '2019.05.09', '2', '백우']\n",
      "['149', '사회복무요원  직무교육 내용 개선이 필요합니다', '일반행정', '2019.01.30', '2019.04.29', '4', '국민위원활동']\n",
      "['139', '새해부터는 공무원들의 근무시간 특별히 점심시간을 잘 지켜주시는 제안을 합니다.', '일반행정', '2019.01.08', '2019.04.07', '6', '걷자']\n",
      "['82', '복지시설 명칭재고', '보건복지', '2018.10.17', '2019.01.14', '1', '활력']\n",
      "['75', '서울특별시청소년수련관 직원정년나이 ,기관장(대표)과 같게 조례변경이 되어야 합니다', '일반행정', '2018.10.14', '2019.01.11', '9', '백희']\n",
      "['69', '공무국외여행 경비절감 및 효율화 방안', '반부패청렴', '2018.10.08', '2019.01.05', '11', '제안토론왕']\n",
      "['61', '국민생활  5일근무제로 함께 가자.', '보건복지', '2018.10.01', '2018.12.29', '0', '정부혁신제안,정부혁신토론']\n",
      "['49', '공무원 조직경쟁력 강화 목적인 개방형직위 운용 체계를 휙기적으로 개선', '일반행정', '2018.09.28', '2018.12.26', '4', '제안토론왕']\n",
      "['35', '장애인 주차공간에 대해 장애인 및 거동이 불편한 어르신 등을 챙기는 기관 근무자에게 권한 부여를 검토해 주세요.', '보건복지', '2018.09.07', '2018.12.05', '2', '밀양인']\n",
      "['32', '종이 당직일지 이제는 안녕!', '일반행정', '2018.09.04', '2018.12.02', '167', None]\n",
      "['7', '하계 반바지 허용 등 근무복장 자율화를 통한 생산적인 근무환경 조성', '일반행정', '2018.08.06', '2018.09.05', '5', '통혁신']\n",
      "['2', '공무원 전입시험의 투명성 확보방안', '반부패청렴', '2018.08.01', '2018.08.31', '7', '음지가양지된다']\n"
     ]
    }
   ],
   "source": [
    "data = []\n",
    "for link in links:\n",
    "    temp = get(link)\n",
    "    data.append(temp)\n",
    "    print(temp)"
   ]
  },
  {
   "cell_type": "code",
   "execution_count": 27,
   "metadata": {},
   "outputs": [
    {
     "data": {
      "text/plain": [
       "[['279', '초과근무 줄이기!', '일반행정', '2019.10.16', '2020.01.13', '2', 'ㅁㄴㅁ'],\n",
       " ['264', '암행국(어)사제도 신설', '사회통합', '2019.09.07', '2019.12.05', '5', '청류'],\n",
       " ['260',\n",
       "  '시간선택제공무원 근무시간 확대와 관련된 규정 개정 요청',\n",
       "  '일반행정',\n",
       "  '2019.09.04',\n",
       "  '2019.12.02',\n",
       "  '14',\n",
       "  '청운'],\n",
       " ['240', '청와대공무직공개채용', '일반행정', '2019.08.28', '2019.11.25', '17', '인생2모작'],\n",
       " ['222',\n",
       "  '정부조직법 부처 개편 일부 개정안(추가 일부 변경)',\n",
       "  '일반행정',\n",
       "  '2019.07.16',\n",
       "  '2019.10.13',\n",
       "  '2',\n",
       "  'jong176'],\n",
       " ['214', '연가 기부제 도입', '일반행정', '2019.06.24', '2019.09.21', '7', '탱크'],\n",
       " ['210', '어린이집교사 근무환경개선', '환경', '2019.06.22', '2019.09.19', '7', '꾸꾸바라기'],\n",
       " ['207', '육아시간 사용 관련 건의', '보건복지', '2019.06.20', '2019.09.17', '1', '청운'],\n",
       " ['169',\n",
       "  '체당금 관련 법안에 관해서 건의드립니다.',\n",
       "  '보건복지',\n",
       "  '2019.05.02',\n",
       "  '2019.07.30',\n",
       "  '13',\n",
       "  '꿀떵이맘'],\n",
       " ['150',\n",
       "  '2019년 함안군문화시설사업소 기간제근로자(단순노무원) 채용계획 공고',\n",
       "  '국민참여',\n",
       "  '2019.02.09',\n",
       "  '2019.05.09',\n",
       "  '2',\n",
       "  '백우'],\n",
       " ['149',\n",
       "  '사회복무요원  직무교육 내용 개선이 필요합니다',\n",
       "  '일반행정',\n",
       "  '2019.01.30',\n",
       "  '2019.04.29',\n",
       "  '4',\n",
       "  '국민위원활동'],\n",
       " ['139',\n",
       "  '새해부터는 공무원들의 근무시간 특별히 점심시간을 잘 지켜주시는 제안을 합니다.',\n",
       "  '일반행정',\n",
       "  '2019.01.08',\n",
       "  '2019.04.07',\n",
       "  '6',\n",
       "  '걷자'],\n",
       " ['82', '복지시설 명칭재고', '보건복지', '2018.10.17', '2019.01.14', '1', '활력'],\n",
       " ['75',\n",
       "  '서울특별시청소년수련관 직원정년나이 ,기관장(대표)과 같게 조례변경이 되어야 합니다',\n",
       "  '일반행정',\n",
       "  '2018.10.14',\n",
       "  '2019.01.11',\n",
       "  '9',\n",
       "  '백희'],\n",
       " ['69',\n",
       "  '공무국외여행 경비절감 및 효율화 방안',\n",
       "  '반부패청렴',\n",
       "  '2018.10.08',\n",
       "  '2019.01.05',\n",
       "  '11',\n",
       "  '제안토론왕'],\n",
       " ['61',\n",
       "  '국민생활  5일근무제로 함께 가자.',\n",
       "  '보건복지',\n",
       "  '2018.10.01',\n",
       "  '2018.12.29',\n",
       "  '0',\n",
       "  '정부혁신제안,정부혁신토론'],\n",
       " ['49',\n",
       "  '공무원 조직경쟁력 강화 목적인 개방형직위 운용 체계를 휙기적으로 개선',\n",
       "  '일반행정',\n",
       "  '2018.09.28',\n",
       "  '2018.12.26',\n",
       "  '4',\n",
       "  '제안토론왕'],\n",
       " ['35',\n",
       "  '장애인 주차공간에 대해 장애인 및 거동이 불편한 어르신 등을 챙기는 기관 근무자에게 권한 부여를 검토해 주세요.',\n",
       "  '보건복지',\n",
       "  '2018.09.07',\n",
       "  '2018.12.05',\n",
       "  '2',\n",
       "  '밀양인'],\n",
       " ['32', '종이 당직일지 이제는 안녕!', '일반행정', '2018.09.04', '2018.12.02', '167', None],\n",
       " ['7',\n",
       "  '하계 반바지 허용 등 근무복장 자율화를 통한 생산적인 근무환경 조성',\n",
       "  '일반행정',\n",
       "  '2018.08.06',\n",
       "  '2018.09.05',\n",
       "  '5',\n",
       "  '통혁신'],\n",
       " ['2',\n",
       "  '공무원 전입시험의 투명성 확보방안',\n",
       "  '반부패청렴',\n",
       "  '2018.08.01',\n",
       "  '2018.08.31',\n",
       "  '7',\n",
       "  '음지가양지된다']]"
      ]
     },
     "execution_count": 27,
     "metadata": {},
     "output_type": "execute_result"
    }
   ],
   "source": [
    "data"
   ]
  },
  {
   "cell_type": "code",
   "execution_count": 13,
   "metadata": {},
   "outputs": [],
   "source": [
    "# def get(url):\n",
    "#     baseurl = f'https://www.innogov.go.kr{url}'\n",
    "#     html = urlopen(baseurl)\n",
    "#     soup = BeautifulSoup(html,'html.parser')\n",
    "\n",
    "#     article = []\n",
    "    \n",
    "#     title = soup.find('dl', class_='vveiw_titl1').find('dt').string\n",
    "# #title = soup.select_one('#content > div.vveiw_box1 > dl > dt')\n",
    "#     Id = url.split('=')[2].split('&')[0]\n",
    "#     vote = soup.select_one('#counter').string\n",
    "    \n",
    "#     data = soup.select('li > dl > dd')\n",
    "#     category = data[0].string    \n",
    "#     start = data[1].string\n",
    "#     end = data[2].string\n",
    "#     author = data[3].string\n",
    "    \n",
    "#     article.append(Id)\n",
    "#     article.append(title)\n",
    "#     article.append(category)\n",
    "#     article.append(start)\n",
    "#     article.append(end)\n",
    "#     article.append(vote)\n",
    "#     article.append(author)\n",
    "\n",
    "#     return article"
   ]
  },
  {
   "cell_type": "code",
   "execution_count": 14,
   "metadata": {},
   "outputs": [
    {
     "data": {
      "text/html": [
       "<div>\n",
       "<style scoped>\n",
       "    .dataframe tbody tr th:only-of-type {\n",
       "        vertical-align: middle;\n",
       "    }\n",
       "\n",
       "    .dataframe tbody tr th {\n",
       "        vertical-align: top;\n",
       "    }\n",
       "\n",
       "    .dataframe thead th {\n",
       "        text-align: right;\n",
       "    }\n",
       "</style>\n",
       "<table border=\"1\" class=\"dataframe\">\n",
       "  <thead>\n",
       "    <tr style=\"text-align: right;\">\n",
       "      <th></th>\n",
       "      <th>id</th>\n",
       "      <th>name</th>\n",
       "      <th>category</th>\n",
       "      <th>start</th>\n",
       "      <th>end</th>\n",
       "      <th>vote</th>\n",
       "      <th>author</th>\n",
       "    </tr>\n",
       "  </thead>\n",
       "  <tbody>\n",
       "    <tr>\n",
       "      <td>0</td>\n",
       "      <td>279</td>\n",
       "      <td>초과근무 줄이기!</td>\n",
       "      <td>일반행정</td>\n",
       "      <td>2019.10.16</td>\n",
       "      <td>2020.01.13</td>\n",
       "      <td>2</td>\n",
       "      <td>ㅁㄴㅁ</td>\n",
       "    </tr>\n",
       "    <tr>\n",
       "      <td>1</td>\n",
       "      <td>264</td>\n",
       "      <td>암행국(어)사제도 신설</td>\n",
       "      <td>사회통합</td>\n",
       "      <td>2019.09.07</td>\n",
       "      <td>2019.12.05</td>\n",
       "      <td>5</td>\n",
       "      <td>청류</td>\n",
       "    </tr>\n",
       "    <tr>\n",
       "      <td>2</td>\n",
       "      <td>260</td>\n",
       "      <td>시간선택제공무원 근무시간 확대와 관련된 규정 개정 요청</td>\n",
       "      <td>일반행정</td>\n",
       "      <td>2019.09.04</td>\n",
       "      <td>2019.12.02</td>\n",
       "      <td>14</td>\n",
       "      <td>청운</td>\n",
       "    </tr>\n",
       "    <tr>\n",
       "      <td>3</td>\n",
       "      <td>240</td>\n",
       "      <td>청와대공무직공개채용</td>\n",
       "      <td>일반행정</td>\n",
       "      <td>2019.08.28</td>\n",
       "      <td>2019.11.25</td>\n",
       "      <td>17</td>\n",
       "      <td>인생2모작</td>\n",
       "    </tr>\n",
       "    <tr>\n",
       "      <td>4</td>\n",
       "      <td>222</td>\n",
       "      <td>정부조직법 부처 개편 일부 개정안(추가 일부 변경)</td>\n",
       "      <td>일반행정</td>\n",
       "      <td>2019.07.16</td>\n",
       "      <td>2019.10.13</td>\n",
       "      <td>2</td>\n",
       "      <td>jong176</td>\n",
       "    </tr>\n",
       "  </tbody>\n",
       "</table>\n",
       "</div>"
      ],
      "text/plain": [
       "    id                            name category       start         end vote  \\\n",
       "0  279                       초과근무 줄이기!     일반행정  2019.10.16  2020.01.13    2   \n",
       "1  264                    암행국(어)사제도 신설     사회통합  2019.09.07  2019.12.05    5   \n",
       "2  260  시간선택제공무원 근무시간 확대와 관련된 규정 개정 요청     일반행정  2019.09.04  2019.12.02   14   \n",
       "3  240                      청와대공무직공개채용     일반행정  2019.08.28  2019.11.25   17   \n",
       "4  222    정부조직법 부처 개편 일부 개정안(추가 일부 변경)     일반행정  2019.07.16  2019.10.13    2   \n",
       "\n",
       "    author  \n",
       "0      ㅁㄴㅁ  \n",
       "1       청류  \n",
       "2       청운  \n",
       "3    인생2모작  \n",
       "4  jong176  "
      ]
     },
     "execution_count": 14,
     "metadata": {},
     "output_type": "execute_result"
    }
   ],
   "source": [
    "import pandas as pd\n",
    "import numpy as np\n",
    "\n",
    "column_list = ['id', 'name', 'category', 'start', 'end', 'vote', 'author']\n",
    "df = pd.DataFrame(data, columns=column_list)\n",
    "df.head()"
   ]
  },
  {
   "cell_type": "code",
   "execution_count": 15,
   "metadata": {},
   "outputs": [
    {
     "name": "stdout",
     "output_type": "stream",
     "text": [
      "<class 'pandas.core.frame.DataFrame'>\n",
      "RangeIndex: 21 entries, 0 to 20\n",
      "Data columns (total 7 columns):\n",
      "id          21 non-null object\n",
      "name        21 non-null object\n",
      "category    21 non-null object\n",
      "start       21 non-null object\n",
      "end         21 non-null object\n",
      "vote        21 non-null object\n",
      "author      20 non-null object\n",
      "dtypes: object(7)\n",
      "memory usage: 1.3+ KB\n"
     ]
    }
   ],
   "source": [
    "df.info()"
   ]
  },
  {
   "cell_type": "code",
   "execution_count": 16,
   "metadata": {},
   "outputs": [
    {
     "data": {
      "text/html": [
       "<div>\n",
       "<style scoped>\n",
       "    .dataframe tbody tr th:only-of-type {\n",
       "        vertical-align: middle;\n",
       "    }\n",
       "\n",
       "    .dataframe tbody tr th {\n",
       "        vertical-align: top;\n",
       "    }\n",
       "\n",
       "    .dataframe thead th {\n",
       "        text-align: right;\n",
       "    }\n",
       "</style>\n",
       "<table border=\"1\" class=\"dataframe\">\n",
       "  <thead>\n",
       "    <tr style=\"text-align: right;\">\n",
       "      <th></th>\n",
       "      <th>id</th>\n",
       "      <th>name</th>\n",
       "      <th>category</th>\n",
       "      <th>start</th>\n",
       "      <th>end</th>\n",
       "      <th>vote</th>\n",
       "      <th>author</th>\n",
       "    </tr>\n",
       "  </thead>\n",
       "  <tbody>\n",
       "    <tr>\n",
       "      <td>count</td>\n",
       "      <td>21</td>\n",
       "      <td>21</td>\n",
       "      <td>21</td>\n",
       "      <td>21</td>\n",
       "      <td>21</td>\n",
       "      <td>21</td>\n",
       "      <td>20</td>\n",
       "    </tr>\n",
       "    <tr>\n",
       "      <td>unique</td>\n",
       "      <td>21</td>\n",
       "      <td>21</td>\n",
       "      <td>6</td>\n",
       "      <td>21</td>\n",
       "      <td>21</td>\n",
       "      <td>13</td>\n",
       "      <td>18</td>\n",
       "    </tr>\n",
       "    <tr>\n",
       "      <td>top</td>\n",
       "      <td>7</td>\n",
       "      <td>국민생활  5일근무제로 함께 가자.</td>\n",
       "      <td>일반행정</td>\n",
       "      <td>2019.10.16</td>\n",
       "      <td>2019.09.19</td>\n",
       "      <td>2</td>\n",
       "      <td>청운</td>\n",
       "    </tr>\n",
       "    <tr>\n",
       "      <td>freq</td>\n",
       "      <td>1</td>\n",
       "      <td>1</td>\n",
       "      <td>11</td>\n",
       "      <td>1</td>\n",
       "      <td>1</td>\n",
       "      <td>4</td>\n",
       "      <td>2</td>\n",
       "    </tr>\n",
       "  </tbody>\n",
       "</table>\n",
       "</div>"
      ],
      "text/plain": [
       "        id                 name category       start         end vote author\n",
       "count   21                   21       21          21          21   21     20\n",
       "unique  21                   21        6          21          21   13     18\n",
       "top      7  국민생활  5일근무제로 함께 가자.     일반행정  2019.10.16  2019.09.19    2     청운\n",
       "freq     1                    1       11           1           1    4      2"
      ]
     },
     "execution_count": 16,
     "metadata": {},
     "output_type": "execute_result"
    }
   ],
   "source": [
    "df.describe()"
   ]
  },
  {
   "cell_type": "code",
   "execution_count": 17,
   "metadata": {},
   "outputs": [
    {
     "data": {
      "text/html": [
       "<div>\n",
       "<style scoped>\n",
       "    .dataframe tbody tr th:only-of-type {\n",
       "        vertical-align: middle;\n",
       "    }\n",
       "\n",
       "    .dataframe tbody tr th {\n",
       "        vertical-align: top;\n",
       "    }\n",
       "\n",
       "    .dataframe thead th {\n",
       "        text-align: right;\n",
       "    }\n",
       "</style>\n",
       "<table border=\"1\" class=\"dataframe\">\n",
       "  <thead>\n",
       "    <tr style=\"text-align: right;\">\n",
       "      <th></th>\n",
       "      <th>id</th>\n",
       "      <th>제목</th>\n",
       "      <th>제안 분야</th>\n",
       "      <th>제안 시작</th>\n",
       "      <th>제안 마감</th>\n",
       "      <th>투표 수</th>\n",
       "      <th>제안인</th>\n",
       "    </tr>\n",
       "  </thead>\n",
       "  <tbody>\n",
       "    <tr>\n",
       "      <td>0</td>\n",
       "      <td>279</td>\n",
       "      <td>초과근무 줄이기!</td>\n",
       "      <td>일반행정</td>\n",
       "      <td>2019.10.16</td>\n",
       "      <td>2020.01.13</td>\n",
       "      <td>2</td>\n",
       "      <td>ㅁㄴㅁ</td>\n",
       "    </tr>\n",
       "    <tr>\n",
       "      <td>1</td>\n",
       "      <td>264</td>\n",
       "      <td>암행국(어)사제도 신설</td>\n",
       "      <td>사회통합</td>\n",
       "      <td>2019.09.07</td>\n",
       "      <td>2019.12.05</td>\n",
       "      <td>5</td>\n",
       "      <td>청류</td>\n",
       "    </tr>\n",
       "    <tr>\n",
       "      <td>2</td>\n",
       "      <td>260</td>\n",
       "      <td>시간선택제공무원 근무시간 확대와 관련된 규정 개정 요청</td>\n",
       "      <td>일반행정</td>\n",
       "      <td>2019.09.04</td>\n",
       "      <td>2019.12.02</td>\n",
       "      <td>14</td>\n",
       "      <td>청운</td>\n",
       "    </tr>\n",
       "    <tr>\n",
       "      <td>3</td>\n",
       "      <td>240</td>\n",
       "      <td>청와대공무직공개채용</td>\n",
       "      <td>일반행정</td>\n",
       "      <td>2019.08.28</td>\n",
       "      <td>2019.11.25</td>\n",
       "      <td>17</td>\n",
       "      <td>인생2모작</td>\n",
       "    </tr>\n",
       "    <tr>\n",
       "      <td>4</td>\n",
       "      <td>222</td>\n",
       "      <td>정부조직법 부처 개편 일부 개정안(추가 일부 변경)</td>\n",
       "      <td>일반행정</td>\n",
       "      <td>2019.07.16</td>\n",
       "      <td>2019.10.13</td>\n",
       "      <td>2</td>\n",
       "      <td>jong176</td>\n",
       "    </tr>\n",
       "  </tbody>\n",
       "</table>\n",
       "</div>"
      ],
      "text/plain": [
       "    id                              제목 제안 분야       제안 시작       제안 마감 투표 수  \\\n",
       "0  279                       초과근무 줄이기!  일반행정  2019.10.16  2020.01.13    2   \n",
       "1  264                    암행국(어)사제도 신설  사회통합  2019.09.07  2019.12.05    5   \n",
       "2  260  시간선택제공무원 근무시간 확대와 관련된 규정 개정 요청  일반행정  2019.09.04  2019.12.02   14   \n",
       "3  240                      청와대공무직공개채용  일반행정  2019.08.28  2019.11.25   17   \n",
       "4  222    정부조직법 부처 개편 일부 개정안(추가 일부 변경)  일반행정  2019.07.16  2019.10.13    2   \n",
       "\n",
       "       제안인  \n",
       "0      ㅁㄴㅁ  \n",
       "1       청류  \n",
       "2       청운  \n",
       "3    인생2모작  \n",
       "4  jong176  "
      ]
     },
     "execution_count": 17,
     "metadata": {},
     "output_type": "execute_result"
    }
   ],
   "source": [
    "df.rename(columns={df.columns[1]: '제목', df.columns[2]: '제안 분야', df.columns[3]: '제안 시작', df.columns[4]: '제안 마감', df.columns[5]: '투표 수', df.columns[6]: '제안인'}, inplace=True)\n",
    "df.head()"
   ]
  },
  {
   "cell_type": "code",
   "execution_count": 20,
   "metadata": {},
   "outputs": [],
   "source": [
    "df.to_csv('../data/suggestion.csv', encoding='euc-kr')"
   ]
  }
 ],
 "metadata": {
  "kernelspec": {
   "display_name": "Python 3",
   "language": "python",
   "name": "python3"
  },
  "language_info": {
   "codemirror_mode": {
    "name": "ipython",
    "version": 3
   },
   "file_extension": ".py",
   "mimetype": "text/x-python",
   "name": "python",
   "nbconvert_exporter": "python",
   "pygments_lexer": "ipython3",
   "version": "3.7.4"
  }
 },
 "nbformat": 4,
 "nbformat_minor": 2
}
