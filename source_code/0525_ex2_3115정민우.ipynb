{
 "cells": [
  {
   "cell_type": "code",
   "execution_count": 1,
   "metadata": {},
   "outputs": [],
   "source": [
    "import pandas as pd\n",
    "import numpy as np"
   ]
  },
  {
   "cell_type": "code",
   "execution_count": 2,
   "metadata": {
    "scrolled": true
   },
   "outputs": [
    {
     "data": {
      "text/html": [
       "<div>\n",
       "<style scoped>\n",
       "    .dataframe tbody tr th:only-of-type {\n",
       "        vertical-align: middle;\n",
       "    }\n",
       "\n",
       "    .dataframe tbody tr th {\n",
       "        vertical-align: top;\n",
       "    }\n",
       "\n",
       "    .dataframe thead th {\n",
       "        text-align: right;\n",
       "    }\n",
       "</style>\n",
       "<table border=\"1\" class=\"dataframe\">\n",
       "  <thead>\n",
       "    <tr style=\"text-align: right;\">\n",
       "      <th></th>\n",
       "      <th>Unnamed: 0</th>\n",
       "      <th>id</th>\n",
       "      <th>제목</th>\n",
       "      <th>제안 분야</th>\n",
       "      <th>제안 시작</th>\n",
       "      <th>제안 마감</th>\n",
       "      <th>투표 수</th>\n",
       "      <th>제안인</th>\n",
       "    </tr>\n",
       "  </thead>\n",
       "  <tbody>\n",
       "    <tr>\n",
       "      <td>0</td>\n",
       "      <td>0</td>\n",
       "      <td>279</td>\n",
       "      <td>초과근무 줄이기!</td>\n",
       "      <td>일반행정</td>\n",
       "      <td>2019.10.16</td>\n",
       "      <td>2020.01.13</td>\n",
       "      <td>2</td>\n",
       "      <td>ㅁㄴㅁ</td>\n",
       "    </tr>\n",
       "    <tr>\n",
       "      <td>1</td>\n",
       "      <td>1</td>\n",
       "      <td>264</td>\n",
       "      <td>암행국(어)사제도 신설</td>\n",
       "      <td>사회통합</td>\n",
       "      <td>2019.09.07</td>\n",
       "      <td>2019.12.05</td>\n",
       "      <td>5</td>\n",
       "      <td>청류</td>\n",
       "    </tr>\n",
       "    <tr>\n",
       "      <td>2</td>\n",
       "      <td>2</td>\n",
       "      <td>260</td>\n",
       "      <td>시간선택제공무원 근무시간 확대와 관련된 규정 개정 요청</td>\n",
       "      <td>일반행정</td>\n",
       "      <td>2019.09.04</td>\n",
       "      <td>2019.12.02</td>\n",
       "      <td>14</td>\n",
       "      <td>청운</td>\n",
       "    </tr>\n",
       "    <tr>\n",
       "      <td>3</td>\n",
       "      <td>3</td>\n",
       "      <td>240</td>\n",
       "      <td>청와대공무직공개채용</td>\n",
       "      <td>일반행정</td>\n",
       "      <td>2019.08.28</td>\n",
       "      <td>2019.11.25</td>\n",
       "      <td>17</td>\n",
       "      <td>인생2모작</td>\n",
       "    </tr>\n",
       "    <tr>\n",
       "      <td>4</td>\n",
       "      <td>4</td>\n",
       "      <td>222</td>\n",
       "      <td>정부조직법 부처 개편 일부 개정안(추가 일부 변경)</td>\n",
       "      <td>일반행정</td>\n",
       "      <td>2019.07.16</td>\n",
       "      <td>2019.10.13</td>\n",
       "      <td>2</td>\n",
       "      <td>jong176</td>\n",
       "    </tr>\n",
       "  </tbody>\n",
       "</table>\n",
       "</div>"
      ],
      "text/plain": [
       "   Unnamed: 0   id                              제목 제안 분야       제안 시작  \\\n",
       "0           0  279                       초과근무 줄이기!  일반행정  2019.10.16   \n",
       "1           1  264                    암행국(어)사제도 신설  사회통합  2019.09.07   \n",
       "2           2  260  시간선택제공무원 근무시간 확대와 관련된 규정 개정 요청  일반행정  2019.09.04   \n",
       "3           3  240                      청와대공무직공개채용  일반행정  2019.08.28   \n",
       "4           4  222    정부조직법 부처 개편 일부 개정안(추가 일부 변경)  일반행정  2019.07.16   \n",
       "\n",
       "        제안 마감  투표 수      제안인  \n",
       "0  2020.01.13     2      ㅁㄴㅁ  \n",
       "1  2019.12.05     5       청류  \n",
       "2  2019.12.02    14       청운  \n",
       "3  2019.11.25    17    인생2모작  \n",
       "4  2019.10.13     2  jong176  "
      ]
     },
     "execution_count": 2,
     "metadata": {},
     "output_type": "execute_result"
    }
   ],
   "source": [
    "df = pd.read_csv('../data/suggestion.csv', encoding='euc-kr')\n",
    "df.head()"
   ]
  },
  {
   "cell_type": "code",
   "execution_count": 3,
   "metadata": {},
   "outputs": [
    {
     "data": {
      "text/html": [
       "<div>\n",
       "<style scoped>\n",
       "    .dataframe tbody tr th:only-of-type {\n",
       "        vertical-align: middle;\n",
       "    }\n",
       "\n",
       "    .dataframe tbody tr th {\n",
       "        vertical-align: top;\n",
       "    }\n",
       "\n",
       "    .dataframe thead th {\n",
       "        text-align: right;\n",
       "    }\n",
       "</style>\n",
       "<table border=\"1\" class=\"dataframe\">\n",
       "  <thead>\n",
       "    <tr style=\"text-align: right;\">\n",
       "      <th></th>\n",
       "      <th>Unnamed: 0</th>\n",
       "      <th>id</th>\n",
       "      <th>투표 수</th>\n",
       "    </tr>\n",
       "  </thead>\n",
       "  <tbody>\n",
       "    <tr>\n",
       "      <td>count</td>\n",
       "      <td>21.000000</td>\n",
       "      <td>21.000000</td>\n",
       "      <td>21.000000</td>\n",
       "    </tr>\n",
       "    <tr>\n",
       "      <td>mean</td>\n",
       "      <td>10.000000</td>\n",
       "      <td>138.809524</td>\n",
       "      <td>13.619048</td>\n",
       "    </tr>\n",
       "    <tr>\n",
       "      <td>std</td>\n",
       "      <td>6.204837</td>\n",
       "      <td>91.720564</td>\n",
       "      <td>35.449226</td>\n",
       "    </tr>\n",
       "    <tr>\n",
       "      <td>min</td>\n",
       "      <td>0.000000</td>\n",
       "      <td>2.000000</td>\n",
       "      <td>0.000000</td>\n",
       "    </tr>\n",
       "    <tr>\n",
       "      <td>25%</td>\n",
       "      <td>5.000000</td>\n",
       "      <td>61.000000</td>\n",
       "      <td>2.000000</td>\n",
       "    </tr>\n",
       "    <tr>\n",
       "      <td>50%</td>\n",
       "      <td>10.000000</td>\n",
       "      <td>149.000000</td>\n",
       "      <td>5.000000</td>\n",
       "    </tr>\n",
       "    <tr>\n",
       "      <td>75%</td>\n",
       "      <td>15.000000</td>\n",
       "      <td>214.000000</td>\n",
       "      <td>9.000000</td>\n",
       "    </tr>\n",
       "    <tr>\n",
       "      <td>max</td>\n",
       "      <td>20.000000</td>\n",
       "      <td>279.000000</td>\n",
       "      <td>167.000000</td>\n",
       "    </tr>\n",
       "  </tbody>\n",
       "</table>\n",
       "</div>"
      ],
      "text/plain": [
       "       Unnamed: 0          id        투표 수\n",
       "count   21.000000   21.000000   21.000000\n",
       "mean    10.000000  138.809524   13.619048\n",
       "std      6.204837   91.720564   35.449226\n",
       "min      0.000000    2.000000    0.000000\n",
       "25%      5.000000   61.000000    2.000000\n",
       "50%     10.000000  149.000000    5.000000\n",
       "75%     15.000000  214.000000    9.000000\n",
       "max     20.000000  279.000000  167.000000"
      ]
     },
     "execution_count": 3,
     "metadata": {},
     "output_type": "execute_result"
    }
   ],
   "source": [
    "df.describe()"
   ]
  },
  {
   "cell_type": "code",
   "execution_count": 4,
   "metadata": {},
   "outputs": [],
   "source": [
    "#culumn 삭제 방법1\n",
    "del df['Unnamed: 0']"
   ]
  },
  {
   "cell_type": "code",
   "execution_count": 5,
   "metadata": {},
   "outputs": [],
   "source": [
    "#culumn 삭제 방법2\n",
    "# df.drop(['제목'], inplace=True, axis=1)\n",
    "# df.head()"
   ]
  },
  {
   "cell_type": "code",
   "execution_count": 6,
   "metadata": {},
   "outputs": [
    {
     "data": {
      "text/html": [
       "<div>\n",
       "<style scoped>\n",
       "    .dataframe tbody tr th:only-of-type {\n",
       "        vertical-align: middle;\n",
       "    }\n",
       "\n",
       "    .dataframe tbody tr th {\n",
       "        vertical-align: top;\n",
       "    }\n",
       "\n",
       "    .dataframe thead th {\n",
       "        text-align: right;\n",
       "    }\n",
       "</style>\n",
       "<table border=\"1\" class=\"dataframe\">\n",
       "  <thead>\n",
       "    <tr style=\"text-align: right;\">\n",
       "      <th></th>\n",
       "      <th>id</th>\n",
       "      <th>제목</th>\n",
       "      <th>제안 분야</th>\n",
       "      <th>제안 시작</th>\n",
       "      <th>제안 마감</th>\n",
       "      <th>투표 수</th>\n",
       "      <th>제안인</th>\n",
       "    </tr>\n",
       "  </thead>\n",
       "  <tbody>\n",
       "    <tr>\n",
       "      <td>0</td>\n",
       "      <td>279</td>\n",
       "      <td>초과근무 줄이기!</td>\n",
       "      <td>일반행정</td>\n",
       "      <td>2019.10.16</td>\n",
       "      <td>2020.01.13</td>\n",
       "      <td>2</td>\n",
       "      <td>ㅁㄴㅁ</td>\n",
       "    </tr>\n",
       "    <tr>\n",
       "      <td>1</td>\n",
       "      <td>264</td>\n",
       "      <td>암행국(어)사제도 신설</td>\n",
       "      <td>사회통합</td>\n",
       "      <td>2019.09.07</td>\n",
       "      <td>2019.12.05</td>\n",
       "      <td>5</td>\n",
       "      <td>청류</td>\n",
       "    </tr>\n",
       "    <tr>\n",
       "      <td>2</td>\n",
       "      <td>260</td>\n",
       "      <td>시간선택제공무원 근무시간 확대와 관련된 규정 개정 요청</td>\n",
       "      <td>일반행정</td>\n",
       "      <td>2019.09.04</td>\n",
       "      <td>2019.12.02</td>\n",
       "      <td>14</td>\n",
       "      <td>청운</td>\n",
       "    </tr>\n",
       "    <tr>\n",
       "      <td>3</td>\n",
       "      <td>240</td>\n",
       "      <td>청와대공무직공개채용</td>\n",
       "      <td>일반행정</td>\n",
       "      <td>2019.08.28</td>\n",
       "      <td>2019.11.25</td>\n",
       "      <td>17</td>\n",
       "      <td>인생2모작</td>\n",
       "    </tr>\n",
       "    <tr>\n",
       "      <td>4</td>\n",
       "      <td>222</td>\n",
       "      <td>정부조직법 부처 개편 일부 개정안(추가 일부 변경)</td>\n",
       "      <td>일반행정</td>\n",
       "      <td>2019.07.16</td>\n",
       "      <td>2019.10.13</td>\n",
       "      <td>2</td>\n",
       "      <td>jong176</td>\n",
       "    </tr>\n",
       "  </tbody>\n",
       "</table>\n",
       "</div>"
      ],
      "text/plain": [
       "    id                              제목 제안 분야       제안 시작       제안 마감  투표 수  \\\n",
       "0  279                       초과근무 줄이기!  일반행정  2019.10.16  2020.01.13     2   \n",
       "1  264                    암행국(어)사제도 신설  사회통합  2019.09.07  2019.12.05     5   \n",
       "2  260  시간선택제공무원 근무시간 확대와 관련된 규정 개정 요청  일반행정  2019.09.04  2019.12.02    14   \n",
       "3  240                      청와대공무직공개채용  일반행정  2019.08.28  2019.11.25    17   \n",
       "4  222    정부조직법 부처 개편 일부 개정안(추가 일부 변경)  일반행정  2019.07.16  2019.10.13     2   \n",
       "\n",
       "       제안인  \n",
       "0      ㅁㄴㅁ  \n",
       "1       청류  \n",
       "2       청운  \n",
       "3    인생2모작  \n",
       "4  jong176  "
      ]
     },
     "execution_count": 6,
     "metadata": {},
     "output_type": "execute_result"
    }
   ],
   "source": [
    "df.head()"
   ]
  },
  {
   "cell_type": "code",
   "execution_count": 7,
   "metadata": {},
   "outputs": [],
   "source": [
    "#행삭제 방법\n",
    "# df.drop([0], inplace=True, axis=0)\n",
    "# df.head()"
   ]
  },
  {
   "cell_type": "code",
   "execution_count": 8,
   "metadata": {},
   "outputs": [
    {
     "data": {
      "text/html": [
       "<div>\n",
       "<style scoped>\n",
       "    .dataframe tbody tr th:only-of-type {\n",
       "        vertical-align: middle;\n",
       "    }\n",
       "\n",
       "    .dataframe tbody tr th {\n",
       "        vertical-align: top;\n",
       "    }\n",
       "\n",
       "    .dataframe thead th {\n",
       "        text-align: right;\n",
       "    }\n",
       "</style>\n",
       "<table border=\"1\" class=\"dataframe\">\n",
       "  <thead>\n",
       "    <tr style=\"text-align: right;\">\n",
       "      <th></th>\n",
       "      <th>제목</th>\n",
       "      <th>제안 분야</th>\n",
       "      <th>제안 시작</th>\n",
       "      <th>제안 마감</th>\n",
       "      <th>투표 수</th>\n",
       "      <th>제안인</th>\n",
       "    </tr>\n",
       "    <tr>\n",
       "      <th>id</th>\n",
       "      <th></th>\n",
       "      <th></th>\n",
       "      <th></th>\n",
       "      <th></th>\n",
       "      <th></th>\n",
       "      <th></th>\n",
       "    </tr>\n",
       "  </thead>\n",
       "  <tbody>\n",
       "    <tr>\n",
       "      <td>279</td>\n",
       "      <td>초과근무 줄이기!</td>\n",
       "      <td>일반행정</td>\n",
       "      <td>2019.10.16</td>\n",
       "      <td>2020.01.13</td>\n",
       "      <td>2</td>\n",
       "      <td>ㅁㄴㅁ</td>\n",
       "    </tr>\n",
       "    <tr>\n",
       "      <td>264</td>\n",
       "      <td>암행국(어)사제도 신설</td>\n",
       "      <td>사회통합</td>\n",
       "      <td>2019.09.07</td>\n",
       "      <td>2019.12.05</td>\n",
       "      <td>5</td>\n",
       "      <td>청류</td>\n",
       "    </tr>\n",
       "    <tr>\n",
       "      <td>260</td>\n",
       "      <td>시간선택제공무원 근무시간 확대와 관련된 규정 개정 요청</td>\n",
       "      <td>일반행정</td>\n",
       "      <td>2019.09.04</td>\n",
       "      <td>2019.12.02</td>\n",
       "      <td>14</td>\n",
       "      <td>청운</td>\n",
       "    </tr>\n",
       "    <tr>\n",
       "      <td>240</td>\n",
       "      <td>청와대공무직공개채용</td>\n",
       "      <td>일반행정</td>\n",
       "      <td>2019.08.28</td>\n",
       "      <td>2019.11.25</td>\n",
       "      <td>17</td>\n",
       "      <td>인생2모작</td>\n",
       "    </tr>\n",
       "    <tr>\n",
       "      <td>222</td>\n",
       "      <td>정부조직법 부처 개편 일부 개정안(추가 일부 변경)</td>\n",
       "      <td>일반행정</td>\n",
       "      <td>2019.07.16</td>\n",
       "      <td>2019.10.13</td>\n",
       "      <td>2</td>\n",
       "      <td>jong176</td>\n",
       "    </tr>\n",
       "  </tbody>\n",
       "</table>\n",
       "</div>"
      ],
      "text/plain": [
       "                                 제목 제안 분야       제안 시작       제안 마감  투표 수  \\\n",
       "id                                                                        \n",
       "279                       초과근무 줄이기!  일반행정  2019.10.16  2020.01.13     2   \n",
       "264                    암행국(어)사제도 신설  사회통합  2019.09.07  2019.12.05     5   \n",
       "260  시간선택제공무원 근무시간 확대와 관련된 규정 개정 요청  일반행정  2019.09.04  2019.12.02    14   \n",
       "240                      청와대공무직공개채용  일반행정  2019.08.28  2019.11.25    17   \n",
       "222    정부조직법 부처 개편 일부 개정안(추가 일부 변경)  일반행정  2019.07.16  2019.10.13     2   \n",
       "\n",
       "         제안인  \n",
       "id            \n",
       "279      ㅁㄴㅁ  \n",
       "264       청류  \n",
       "260       청운  \n",
       "240    인생2모작  \n",
       "222  jong176  "
      ]
     },
     "execution_count": 8,
     "metadata": {},
     "output_type": "execute_result"
    }
   ],
   "source": [
    "df.set_index('id', inplace=True)\n",
    "df.head()"
   ]
  },
  {
   "cell_type": "code",
   "execution_count": 9,
   "metadata": {},
   "outputs": [
    {
     "data": {
      "text/plain": [
       "일반행정     11\n",
       "보건복지      5\n",
       "반부패청렴     2\n",
       "국민참여      1\n",
       "환경        1\n",
       "사회통합      1\n",
       "Name: 제안 분야, dtype: int64"
      ]
     },
     "execution_count": 9,
     "metadata": {},
     "output_type": "execute_result"
    }
   ],
   "source": [
    "df['제안 분야'].value_counts()"
   ]
  },
  {
   "cell_type": "code",
   "execution_count": 10,
   "metadata": {},
   "outputs": [
    {
     "data": {
      "text/plain": [
       "id\n",
       "279                         초과근무 줄이기!\n",
       "264                      암행국(어)사제도 신설\n",
       "260    시간선택제공무원 근무시간 확대와 관련된 규정 개정 요청\n",
       "240                        청와대공무직공개채용\n",
       "222      정부조직법 부처 개편 일부 개정안(추가 일부 변경)\n",
       "Name: 제목, dtype: object"
      ]
     },
     "execution_count": 10,
     "metadata": {},
     "output_type": "execute_result"
    }
   ],
   "source": [
    "df['제목'].head()"
   ]
  },
  {
   "cell_type": "code",
   "execution_count": 11,
   "metadata": {},
   "outputs": [
    {
     "data": {
      "text/html": [
       "<div>\n",
       "<style scoped>\n",
       "    .dataframe tbody tr th:only-of-type {\n",
       "        vertical-align: middle;\n",
       "    }\n",
       "\n",
       "    .dataframe tbody tr th {\n",
       "        vertical-align: top;\n",
       "    }\n",
       "\n",
       "    .dataframe thead th {\n",
       "        text-align: right;\n",
       "    }\n",
       "</style>\n",
       "<table border=\"1\" class=\"dataframe\">\n",
       "  <thead>\n",
       "    <tr style=\"text-align: right;\">\n",
       "      <th></th>\n",
       "      <th>제목</th>\n",
       "      <th>제안 분야</th>\n",
       "      <th>제안 시작</th>\n",
       "      <th>제안 마감</th>\n",
       "      <th>투표 수</th>\n",
       "      <th>제안인</th>\n",
       "      <th>성별</th>\n",
       "      <th>a</th>\n",
       "    </tr>\n",
       "    <tr>\n",
       "      <th>id</th>\n",
       "      <th></th>\n",
       "      <th></th>\n",
       "      <th></th>\n",
       "      <th></th>\n",
       "      <th></th>\n",
       "      <th></th>\n",
       "      <th></th>\n",
       "      <th></th>\n",
       "    </tr>\n",
       "  </thead>\n",
       "  <tbody>\n",
       "    <tr>\n",
       "      <td>279</td>\n",
       "      <td>초과근무 줄이기!</td>\n",
       "      <td>일반행정</td>\n",
       "      <td>2019.10.16</td>\n",
       "      <td>2020.01.13</td>\n",
       "      <td>2</td>\n",
       "      <td>ㅁㄴㅁ</td>\n",
       "      <td>0</td>\n",
       "      <td>1</td>\n",
       "    </tr>\n",
       "    <tr>\n",
       "      <td>264</td>\n",
       "      <td>암행국(어)사제도 신설</td>\n",
       "      <td>사회통합</td>\n",
       "      <td>2019.09.07</td>\n",
       "      <td>2019.12.05</td>\n",
       "      <td>5</td>\n",
       "      <td>청류</td>\n",
       "      <td>0</td>\n",
       "      <td>1</td>\n",
       "    </tr>\n",
       "    <tr>\n",
       "      <td>260</td>\n",
       "      <td>시간선택제공무원 근무시간 확대와 관련된 규정 개정 요청</td>\n",
       "      <td>일반행정</td>\n",
       "      <td>2019.09.04</td>\n",
       "      <td>2019.12.02</td>\n",
       "      <td>14</td>\n",
       "      <td>청운</td>\n",
       "      <td>0</td>\n",
       "      <td>1</td>\n",
       "    </tr>\n",
       "    <tr>\n",
       "      <td>240</td>\n",
       "      <td>청와대공무직공개채용</td>\n",
       "      <td>일반행정</td>\n",
       "      <td>2019.08.28</td>\n",
       "      <td>2019.11.25</td>\n",
       "      <td>17</td>\n",
       "      <td>인생2모작</td>\n",
       "      <td>0</td>\n",
       "      <td>1</td>\n",
       "    </tr>\n",
       "    <tr>\n",
       "      <td>222</td>\n",
       "      <td>정부조직법 부처 개편 일부 개정안(추가 일부 변경)</td>\n",
       "      <td>일반행정</td>\n",
       "      <td>2019.07.16</td>\n",
       "      <td>2019.10.13</td>\n",
       "      <td>2</td>\n",
       "      <td>jong176</td>\n",
       "      <td>0</td>\n",
       "      <td>1</td>\n",
       "    </tr>\n",
       "  </tbody>\n",
       "</table>\n",
       "</div>"
      ],
      "text/plain": [
       "                                 제목 제안 분야       제안 시작       제안 마감  투표 수  \\\n",
       "id                                                                        \n",
       "279                       초과근무 줄이기!  일반행정  2019.10.16  2020.01.13     2   \n",
       "264                    암행국(어)사제도 신설  사회통합  2019.09.07  2019.12.05     5   \n",
       "260  시간선택제공무원 근무시간 확대와 관련된 규정 개정 요청  일반행정  2019.09.04  2019.12.02    14   \n",
       "240                      청와대공무직공개채용  일반행정  2019.08.28  2019.11.25    17   \n",
       "222    정부조직법 부처 개편 일부 개정안(추가 일부 변경)  일반행정  2019.07.16  2019.10.13     2   \n",
       "\n",
       "         제안인  성별  a  \n",
       "id                   \n",
       "279      ㅁㄴㅁ   0  1  \n",
       "264       청류   0  1  \n",
       "260       청운   0  1  \n",
       "240    인생2모작   0  1  \n",
       "222  jong176   0  1  "
      ]
     },
     "execution_count": 11,
     "metadata": {},
     "output_type": "execute_result"
    }
   ],
   "source": [
    "df['성별']=0\n",
    "df['a']=1\n",
    "df.head()"
   ]
  },
  {
   "cell_type": "code",
   "execution_count": 12,
   "metadata": {},
   "outputs": [],
   "source": [
    "del df['a']"
   ]
  },
  {
   "cell_type": "code",
   "execution_count": 13,
   "metadata": {},
   "outputs": [],
   "source": [
    "df.drop(['성별'], inplace=True, axis=1)"
   ]
  },
  {
   "cell_type": "code",
   "execution_count": 14,
   "metadata": {},
   "outputs": [
    {
     "data": {
      "text/html": [
       "<div>\n",
       "<style scoped>\n",
       "    .dataframe tbody tr th:only-of-type {\n",
       "        vertical-align: middle;\n",
       "    }\n",
       "\n",
       "    .dataframe tbody tr th {\n",
       "        vertical-align: top;\n",
       "    }\n",
       "\n",
       "    .dataframe thead th {\n",
       "        text-align: right;\n",
       "    }\n",
       "</style>\n",
       "<table border=\"1\" class=\"dataframe\">\n",
       "  <thead>\n",
       "    <tr style=\"text-align: right;\">\n",
       "      <th></th>\n",
       "      <th>제목</th>\n",
       "      <th>제안 분야</th>\n",
       "      <th>제안 시작</th>\n",
       "      <th>제안 마감</th>\n",
       "      <th>투표 수</th>\n",
       "      <th>제안인</th>\n",
       "    </tr>\n",
       "    <tr>\n",
       "      <th>id</th>\n",
       "      <th></th>\n",
       "      <th></th>\n",
       "      <th></th>\n",
       "      <th></th>\n",
       "      <th></th>\n",
       "      <th></th>\n",
       "    </tr>\n",
       "  </thead>\n",
       "  <tbody>\n",
       "    <tr>\n",
       "      <td>279</td>\n",
       "      <td>초과근무 줄이기!</td>\n",
       "      <td>일반행정</td>\n",
       "      <td>2019.10.16</td>\n",
       "      <td>2020.01.13</td>\n",
       "      <td>2</td>\n",
       "      <td>ㅁㄴㅁ</td>\n",
       "    </tr>\n",
       "    <tr>\n",
       "      <td>264</td>\n",
       "      <td>암행국(어)사제도 신설</td>\n",
       "      <td>사회통합</td>\n",
       "      <td>2019.09.07</td>\n",
       "      <td>2019.12.05</td>\n",
       "      <td>5</td>\n",
       "      <td>청류</td>\n",
       "    </tr>\n",
       "    <tr>\n",
       "      <td>260</td>\n",
       "      <td>시간선택제공무원 근무시간 확대와 관련된 규정 개정 요청</td>\n",
       "      <td>일반행정</td>\n",
       "      <td>2019.09.04</td>\n",
       "      <td>2019.12.02</td>\n",
       "      <td>14</td>\n",
       "      <td>청운</td>\n",
       "    </tr>\n",
       "    <tr>\n",
       "      <td>240</td>\n",
       "      <td>청와대공무직공개채용</td>\n",
       "      <td>일반행정</td>\n",
       "      <td>2019.08.28</td>\n",
       "      <td>2019.11.25</td>\n",
       "      <td>17</td>\n",
       "      <td>인생2모작</td>\n",
       "    </tr>\n",
       "    <tr>\n",
       "      <td>222</td>\n",
       "      <td>정부조직법 부처 개편 일부 개정안(추가 일부 변경)</td>\n",
       "      <td>일반행정</td>\n",
       "      <td>2019.07.16</td>\n",
       "      <td>2019.10.13</td>\n",
       "      <td>2</td>\n",
       "      <td>jong176</td>\n",
       "    </tr>\n",
       "  </tbody>\n",
       "</table>\n",
       "</div>"
      ],
      "text/plain": [
       "                                 제목 제안 분야       제안 시작       제안 마감  투표 수  \\\n",
       "id                                                                        \n",
       "279                       초과근무 줄이기!  일반행정  2019.10.16  2020.01.13     2   \n",
       "264                    암행국(어)사제도 신설  사회통합  2019.09.07  2019.12.05     5   \n",
       "260  시간선택제공무원 근무시간 확대와 관련된 규정 개정 요청  일반행정  2019.09.04  2019.12.02    14   \n",
       "240                      청와대공무직공개채용  일반행정  2019.08.28  2019.11.25    17   \n",
       "222    정부조직법 부처 개편 일부 개정안(추가 일부 변경)  일반행정  2019.07.16  2019.10.13     2   \n",
       "\n",
       "         제안인  \n",
       "id            \n",
       "279      ㅁㄴㅁ  \n",
       "264       청류  \n",
       "260       청운  \n",
       "240    인생2모작  \n",
       "222  jong176  "
      ]
     },
     "execution_count": 14,
     "metadata": {},
     "output_type": "execute_result"
    }
   ],
   "source": [
    "df.head()"
   ]
  },
  {
   "cell_type": "code",
   "execution_count": 15,
   "metadata": {},
   "outputs": [
    {
     "data": {
      "text/html": [
       "<div>\n",
       "<style scoped>\n",
       "    .dataframe tbody tr th:only-of-type {\n",
       "        vertical-align: middle;\n",
       "    }\n",
       "\n",
       "    .dataframe tbody tr th {\n",
       "        vertical-align: top;\n",
       "    }\n",
       "\n",
       "    .dataframe thead th {\n",
       "        text-align: right;\n",
       "    }\n",
       "</style>\n",
       "<table border=\"1\" class=\"dataframe\">\n",
       "  <thead>\n",
       "    <tr style=\"text-align: right;\">\n",
       "      <th></th>\n",
       "      <th>제목</th>\n",
       "      <th>제안 분야</th>\n",
       "      <th>제안 시작</th>\n",
       "      <th>제안 마감</th>\n",
       "      <th>투표 수</th>\n",
       "      <th>제안인</th>\n",
       "    </tr>\n",
       "    <tr>\n",
       "      <th>id</th>\n",
       "      <th></th>\n",
       "      <th></th>\n",
       "      <th></th>\n",
       "      <th></th>\n",
       "      <th></th>\n",
       "      <th></th>\n",
       "    </tr>\n",
       "  </thead>\n",
       "  <tbody>\n",
       "    <tr>\n",
       "      <td>279</td>\n",
       "      <td>초과근무 줄이기!</td>\n",
       "      <td>일반행정</td>\n",
       "      <td>2019.10.16</td>\n",
       "      <td>2020.01.13</td>\n",
       "      <td>2</td>\n",
       "      <td>ㅁㄴㅁ</td>\n",
       "    </tr>\n",
       "    <tr>\n",
       "      <td>264</td>\n",
       "      <td>암행국(어)사제도 신설</td>\n",
       "      <td>사회통합</td>\n",
       "      <td>2019.09.07</td>\n",
       "      <td>2019.12.05</td>\n",
       "      <td>5</td>\n",
       "      <td>청류</td>\n",
       "    </tr>\n",
       "    <tr>\n",
       "      <td>260</td>\n",
       "      <td>시간선택제공무원 근무시간 확대와 관련된 규정 개정 요청</td>\n",
       "      <td>일반행정</td>\n",
       "      <td>2019.09.04</td>\n",
       "      <td>2019.12.02</td>\n",
       "      <td>14</td>\n",
       "      <td>청운</td>\n",
       "    </tr>\n",
       "  </tbody>\n",
       "</table>\n",
       "</div>"
      ],
      "text/plain": [
       "                                 제목 제안 분야       제안 시작       제안 마감  투표 수  제안인\n",
       "id                                                                          \n",
       "279                       초과근무 줄이기!  일반행정  2019.10.16  2020.01.13     2  ㅁㄴㅁ\n",
       "264                    암행국(어)사제도 신설  사회통합  2019.09.07  2019.12.05     5   청류\n",
       "260  시간선택제공무원 근무시간 확대와 관련된 규정 개정 요청  일반행정  2019.09.04  2019.12.02    14   청운"
      ]
     },
     "execution_count": 15,
     "metadata": {},
     "output_type": "execute_result"
    }
   ],
   "source": [
    "#loc/ iloc\n",
    "#.loc[행, 이름, 칼럼 이름] : 명칭 기반 인덱싱\n",
    "#.iloc[행 위치, 칼럼 위치]: 위치 기반 인덱싱\n",
    "df.head(3)"
   ]
  },
  {
   "cell_type": "code",
   "execution_count": 16,
   "metadata": {},
   "outputs": [
    {
     "data": {
      "text/html": [
       "<div>\n",
       "<style scoped>\n",
       "    .dataframe tbody tr th:only-of-type {\n",
       "        vertical-align: middle;\n",
       "    }\n",
       "\n",
       "    .dataframe tbody tr th {\n",
       "        vertical-align: top;\n",
       "    }\n",
       "\n",
       "    .dataframe thead th {\n",
       "        text-align: right;\n",
       "    }\n",
       "</style>\n",
       "<table border=\"1\" class=\"dataframe\">\n",
       "  <thead>\n",
       "    <tr style=\"text-align: right;\">\n",
       "      <th></th>\n",
       "      <th>제목</th>\n",
       "      <th>제안 분야</th>\n",
       "      <th>제안 시작</th>\n",
       "      <th>제안 마감</th>\n",
       "      <th>투표 수</th>\n",
       "      <th>제안인</th>\n",
       "    </tr>\n",
       "    <tr>\n",
       "      <th>id</th>\n",
       "      <th></th>\n",
       "      <th></th>\n",
       "      <th></th>\n",
       "      <th></th>\n",
       "      <th></th>\n",
       "      <th></th>\n",
       "    </tr>\n",
       "  </thead>\n",
       "  <tbody>\n",
       "    <tr>\n",
       "      <td>279</td>\n",
       "      <td>초과근무 줄이기!</td>\n",
       "      <td>일반행정</td>\n",
       "      <td>2019.10.16</td>\n",
       "      <td>2020.01.13</td>\n",
       "      <td>2</td>\n",
       "      <td>ㅁㄴㅁ</td>\n",
       "    </tr>\n",
       "    <tr>\n",
       "      <td>264</td>\n",
       "      <td>암행국(어)사제도 신설</td>\n",
       "      <td>사회통합</td>\n",
       "      <td>2019.09.07</td>\n",
       "      <td>2019.12.05</td>\n",
       "      <td>5</td>\n",
       "      <td>청류</td>\n",
       "    </tr>\n",
       "    <tr>\n",
       "      <td>260</td>\n",
       "      <td>시간선택제공무원 근무시간 확대와 관련된 규정 개정 요청</td>\n",
       "      <td>일반행정</td>\n",
       "      <td>2019.09.04</td>\n",
       "      <td>2019.12.02</td>\n",
       "      <td>14</td>\n",
       "      <td>청운</td>\n",
       "    </tr>\n",
       "  </tbody>\n",
       "</table>\n",
       "</div>"
      ],
      "text/plain": [
       "                                 제목 제안 분야       제안 시작       제안 마감  투표 수  제안인\n",
       "id                                                                          \n",
       "279                       초과근무 줄이기!  일반행정  2019.10.16  2020.01.13     2  ㅁㄴㅁ\n",
       "264                    암행국(어)사제도 신설  사회통합  2019.09.07  2019.12.05     5   청류\n",
       "260  시간선택제공무원 근무시간 확대와 관련된 규정 개정 요청  일반행정  2019.09.04  2019.12.02    14   청운"
      ]
     },
     "execution_count": 16,
     "metadata": {},
     "output_type": "execute_result"
    }
   ],
   "source": [
    "#df.loc[278, '제목']\n",
    "#df.loc[278]\n",
    "df.loc[280:277, '제목']\n",
    "df.head(3)"
   ]
  },
  {
   "cell_type": "code",
   "execution_count": 17,
   "metadata": {},
   "outputs": [
    {
     "data": {
      "text/plain": [
       "'시간선택제공무원 근무시간 확대와 관련된 규정 개정 요청'"
      ]
     },
     "execution_count": 17,
     "metadata": {},
     "output_type": "execute_result"
    }
   ],
   "source": [
    "df.iloc[2, 0]\n",
    "# df.iloc[-1]"
   ]
  },
  {
   "cell_type": "code",
   "execution_count": 18,
   "metadata": {},
   "outputs": [
    {
     "data": {
      "text/plain": [
       "제목       공무원 전입시험의 투명성 확보방안\n",
       "제안 분야                 반부패청렴\n",
       "제안 시작            2018.08.01\n",
       "제안 마감            2018.08.31\n",
       "투표 수                      7\n",
       "제안인                 음지가양지된다\n",
       "Name: 2, dtype: object"
      ]
     },
     "execution_count": 18,
     "metadata": {},
     "output_type": "execute_result"
    }
   ],
   "source": [
    "df.iloc[2,0]\n",
    "df.iloc[-1]"
   ]
  },
  {
   "cell_type": "code",
   "execution_count": 19,
   "metadata": {},
   "outputs": [
    {
     "data": {
      "text/plain": [
       "제목       NaN\n",
       "제안 분야    NaN\n",
       "제안 시작    NaN\n",
       "제안 마감    NaN\n",
       "투표 수     NaN\n",
       "제안인      NaN\n",
       "Name: 228, dtype: object"
      ]
     },
     "execution_count": 19,
     "metadata": {},
     "output_type": "execute_result"
    }
   ],
   "source": [
    "df.loc[228] = np.nan\n",
    "df.iloc[-1]"
   ]
  },
  {
   "cell_type": "code",
   "execution_count": 20,
   "metadata": {},
   "outputs": [
    {
     "data": {
      "text/plain": [
       "제목               개학\n",
       "제안 분야            기타\n",
       "제안 시작    2020.5.25.\n",
       "제안 마감     2020.5.30\n",
       "투표 수              5\n",
       "제안인            None\n",
       "Name: 227, dtype: object"
      ]
     },
     "execution_count": 20,
     "metadata": {},
     "output_type": "execute_result"
    }
   ],
   "source": [
    "df.loc[227] = {'제목' : '개학', '제안 분야' : '기타', '제안 시작' : '2020.5.25.', '제안 마감' : '2020.5.30', '투표 수' : 5, '제안인' : None}\n",
    "df.iloc[-1]"
   ]
  },
  {
   "cell_type": "code",
   "execution_count": 21,
   "metadata": {},
   "outputs": [
    {
     "data": {
      "text/plain": [
       "제목               개학\n",
       "제안 분야            기타\n",
       "제안 시작    2020.5.25.\n",
       "제안 마감     2020.5.30\n",
       "투표 수              5\n",
       "제안인            None\n",
       "Name: 227, dtype: object"
      ]
     },
     "execution_count": 21,
     "metadata": {},
     "output_type": "execute_result"
    }
   ],
   "source": [
    "df.loc[227]"
   ]
  },
  {
   "cell_type": "code",
   "execution_count": 22,
   "metadata": {},
   "outputs": [
    {
     "data": {
      "text/plain": [
       "제목       1\n",
       "제안 분야    1\n",
       "제안 시작    1\n",
       "제안 마감    1\n",
       "투표 수     1\n",
       "제안인      3\n",
       "dtype: int64"
      ]
     },
     "execution_count": 22,
     "metadata": {},
     "output_type": "execute_result"
    }
   ],
   "source": [
    "df.isna().sum()"
   ]
  },
  {
   "cell_type": "code",
   "execution_count": 23,
   "metadata": {},
   "outputs": [
    {
     "data": {
      "text/html": [
       "<div>\n",
       "<style scoped>\n",
       "    .dataframe tbody tr th:only-of-type {\n",
       "        vertical-align: middle;\n",
       "    }\n",
       "\n",
       "    .dataframe tbody tr th {\n",
       "        vertical-align: top;\n",
       "    }\n",
       "\n",
       "    .dataframe thead th {\n",
       "        text-align: right;\n",
       "    }\n",
       "</style>\n",
       "<table border=\"1\" class=\"dataframe\">\n",
       "  <thead>\n",
       "    <tr style=\"text-align: right;\">\n",
       "      <th></th>\n",
       "      <th>제목</th>\n",
       "      <th>제안 분야</th>\n",
       "      <th>제안 시작</th>\n",
       "      <th>제안 마감</th>\n",
       "      <th>투표 수</th>\n",
       "      <th>제안인</th>\n",
       "    </tr>\n",
       "    <tr>\n",
       "      <th>id</th>\n",
       "      <th></th>\n",
       "      <th></th>\n",
       "      <th></th>\n",
       "      <th></th>\n",
       "      <th></th>\n",
       "      <th></th>\n",
       "    </tr>\n",
       "  </thead>\n",
       "  <tbody>\n",
       "    <tr>\n",
       "      <td>32</td>\n",
       "      <td>종이 당직일지 이제는 안녕!</td>\n",
       "      <td>일반행정</td>\n",
       "      <td>2018.09.04</td>\n",
       "      <td>2018.12.02</td>\n",
       "      <td>167.0</td>\n",
       "      <td>NaN</td>\n",
       "    </tr>\n",
       "    <tr>\n",
       "      <td>228</td>\n",
       "      <td>NaN</td>\n",
       "      <td>NaN</td>\n",
       "      <td>NaN</td>\n",
       "      <td>NaN</td>\n",
       "      <td>NaN</td>\n",
       "      <td>NaN</td>\n",
       "    </tr>\n",
       "    <tr>\n",
       "      <td>227</td>\n",
       "      <td>개학</td>\n",
       "      <td>기타</td>\n",
       "      <td>2020.5.25.</td>\n",
       "      <td>2020.5.30</td>\n",
       "      <td>5.0</td>\n",
       "      <td>None</td>\n",
       "    </tr>\n",
       "  </tbody>\n",
       "</table>\n",
       "</div>"
      ],
      "text/plain": [
       "                  제목 제안 분야       제안 시작       제안 마감   투표 수   제안인\n",
       "id                                                             \n",
       "32   종이 당직일지 이제는 안녕!  일반행정  2018.09.04  2018.12.02  167.0   NaN\n",
       "228              NaN   NaN         NaN         NaN    NaN   NaN\n",
       "227               개학    기타  2020.5.25.   2020.5.30    5.0  None"
      ]
     },
     "execution_count": 23,
     "metadata": {},
     "output_type": "execute_result"
    }
   ],
   "source": [
    "df[df['제안인'].isna()]"
   ]
  },
  {
   "cell_type": "code",
   "execution_count": 24,
   "metadata": {
    "scrolled": true
   },
   "outputs": [
    {
     "data": {
      "text/html": [
       "<div>\n",
       "<style scoped>\n",
       "    .dataframe tbody tr th:only-of-type {\n",
       "        vertical-align: middle;\n",
       "    }\n",
       "\n",
       "    .dataframe tbody tr th {\n",
       "        vertical-align: top;\n",
       "    }\n",
       "\n",
       "    .dataframe thead th {\n",
       "        text-align: right;\n",
       "    }\n",
       "</style>\n",
       "<table border=\"1\" class=\"dataframe\">\n",
       "  <thead>\n",
       "    <tr style=\"text-align: right;\">\n",
       "      <th></th>\n",
       "      <th>제목</th>\n",
       "      <th>제안 분야</th>\n",
       "      <th>제안 시작</th>\n",
       "      <th>제안 마감</th>\n",
       "      <th>투표 수</th>\n",
       "      <th>제안인</th>\n",
       "    </tr>\n",
       "    <tr>\n",
       "      <th>id</th>\n",
       "      <th></th>\n",
       "      <th></th>\n",
       "      <th></th>\n",
       "      <th></th>\n",
       "      <th></th>\n",
       "      <th></th>\n",
       "    </tr>\n",
       "  </thead>\n",
       "  <tbody>\n",
       "  </tbody>\n",
       "</table>\n",
       "</div>"
      ],
      "text/plain": [
       "Empty DataFrame\n",
       "Columns: [제목, 제안 분야, 제안 시작, 제안 마감, 투표 수, 제안인]\n",
       "Index: []"
      ]
     },
     "execution_count": 24,
     "metadata": {},
     "output_type": "execute_result"
    }
   ],
   "source": [
    "df.loc[227:228]"
   ]
  },
  {
   "cell_type": "code",
   "execution_count": 25,
   "metadata": {},
   "outputs": [
    {
     "data": {
      "text/html": [
       "<div>\n",
       "<style scoped>\n",
       "    .dataframe tbody tr th:only-of-type {\n",
       "        vertical-align: middle;\n",
       "    }\n",
       "\n",
       "    .dataframe tbody tr th {\n",
       "        vertical-align: top;\n",
       "    }\n",
       "\n",
       "    .dataframe thead th {\n",
       "        text-align: right;\n",
       "    }\n",
       "</style>\n",
       "<table border=\"1\" class=\"dataframe\">\n",
       "  <thead>\n",
       "    <tr style=\"text-align: right;\">\n",
       "      <th></th>\n",
       "      <th>제목</th>\n",
       "      <th>제안 분야</th>\n",
       "      <th>제안 시작</th>\n",
       "      <th>제안 마감</th>\n",
       "      <th>투표 수</th>\n",
       "      <th>제안인</th>\n",
       "    </tr>\n",
       "    <tr>\n",
       "      <th>id</th>\n",
       "      <th></th>\n",
       "      <th></th>\n",
       "      <th></th>\n",
       "      <th></th>\n",
       "      <th></th>\n",
       "      <th></th>\n",
       "    </tr>\n",
       "  </thead>\n",
       "  <tbody>\n",
       "    <tr>\n",
       "      <td>228</td>\n",
       "      <td>NaN</td>\n",
       "      <td>NaN</td>\n",
       "      <td>NaN</td>\n",
       "      <td>NaN</td>\n",
       "      <td>NaN</td>\n",
       "      <td>홍길동</td>\n",
       "    </tr>\n",
       "    <tr>\n",
       "      <td>227</td>\n",
       "      <td>개학</td>\n",
       "      <td>기타</td>\n",
       "      <td>2020.5.25.</td>\n",
       "      <td>2020.5.30</td>\n",
       "      <td>5.0</td>\n",
       "      <td>홍길동</td>\n",
       "    </tr>\n",
       "  </tbody>\n",
       "</table>\n",
       "</div>"
      ],
      "text/plain": [
       "      제목 제안 분야       제안 시작      제안 마감  투표 수  제안인\n",
       "id                                              \n",
       "228  NaN   NaN         NaN        NaN   NaN  홍길동\n",
       "227   개학    기타  2020.5.25.  2020.5.30   5.0  홍길동"
      ]
     },
     "execution_count": 25,
     "metadata": {},
     "output_type": "execute_result"
    }
   ],
   "source": [
    "df['제안인'] = df['제안인'].fillna('홍길동')\n",
    "df.loc[228:227]"
   ]
  },
  {
   "cell_type": "code",
   "execution_count": 26,
   "metadata": {},
   "outputs": [],
   "source": [
    "# df = df.dropna()\n",
    "# df.loc[227:228]"
   ]
  },
  {
   "cell_type": "code",
   "execution_count": 27,
   "metadata": {},
   "outputs": [
    {
     "data": {
      "text/plain": [
       "제목       1\n",
       "제안 분야    1\n",
       "제안 시작    1\n",
       "제안 마감    1\n",
       "투표 수     1\n",
       "제안인      0\n",
       "dtype: int64"
      ]
     },
     "execution_count": 27,
     "metadata": {},
     "output_type": "execute_result"
    }
   ],
   "source": [
    "df.drop([227], axis=0, inplace=True)\n",
    "df.isna().sum()"
   ]
  },
  {
   "cell_type": "code",
   "execution_count": 28,
   "metadata": {},
   "outputs": [
    {
     "data": {
      "text/html": [
       "<div>\n",
       "<style scoped>\n",
       "    .dataframe tbody tr th:only-of-type {\n",
       "        vertical-align: middle;\n",
       "    }\n",
       "\n",
       "    .dataframe tbody tr th {\n",
       "        vertical-align: top;\n",
       "    }\n",
       "\n",
       "    .dataframe thead th {\n",
       "        text-align: right;\n",
       "    }\n",
       "</style>\n",
       "<table border=\"1\" class=\"dataframe\">\n",
       "  <thead>\n",
       "    <tr style=\"text-align: right;\">\n",
       "      <th></th>\n",
       "      <th>제목</th>\n",
       "      <th>제안 분야</th>\n",
       "      <th>제안 시작</th>\n",
       "      <th>제안 마감</th>\n",
       "      <th>투표 수</th>\n",
       "      <th>제안인</th>\n",
       "    </tr>\n",
       "    <tr>\n",
       "      <th>id</th>\n",
       "      <th></th>\n",
       "      <th></th>\n",
       "      <th></th>\n",
       "      <th></th>\n",
       "      <th></th>\n",
       "      <th></th>\n",
       "    </tr>\n",
       "  </thead>\n",
       "  <tbody>\n",
       "    <tr>\n",
       "      <td>279</td>\n",
       "      <td>초과근무 줄이기!</td>\n",
       "      <td>일반행정</td>\n",
       "      <td>2019.10.16</td>\n",
       "      <td>2020.01.13</td>\n",
       "      <td>2.0</td>\n",
       "      <td>ㅁㄴㅁ</td>\n",
       "    </tr>\n",
       "    <tr>\n",
       "      <td>260</td>\n",
       "      <td>시간선택제공무원 근무시간 확대와 관련된 규정 개정 요청</td>\n",
       "      <td>일반행정</td>\n",
       "      <td>2019.09.04</td>\n",
       "      <td>2019.12.02</td>\n",
       "      <td>14.0</td>\n",
       "      <td>청운</td>\n",
       "    </tr>\n",
       "    <tr>\n",
       "      <td>240</td>\n",
       "      <td>청와대공무직공개채용</td>\n",
       "      <td>일반행정</td>\n",
       "      <td>2019.08.28</td>\n",
       "      <td>2019.11.25</td>\n",
       "      <td>17.0</td>\n",
       "      <td>인생2모작</td>\n",
       "    </tr>\n",
       "    <tr>\n",
       "      <td>222</td>\n",
       "      <td>정부조직법 부처 개편 일부 개정안(추가 일부 변경)</td>\n",
       "      <td>일반행정</td>\n",
       "      <td>2019.07.16</td>\n",
       "      <td>2019.10.13</td>\n",
       "      <td>2.0</td>\n",
       "      <td>jong176</td>\n",
       "    </tr>\n",
       "    <tr>\n",
       "      <td>214</td>\n",
       "      <td>연가 기부제 도입</td>\n",
       "      <td>일반행정</td>\n",
       "      <td>2019.06.24</td>\n",
       "      <td>2019.09.21</td>\n",
       "      <td>7.0</td>\n",
       "      <td>탱크</td>\n",
       "    </tr>\n",
       "    <tr>\n",
       "      <td>149</td>\n",
       "      <td>사회복무요원  직무교육 내용 개선이 필요합니다</td>\n",
       "      <td>일반행정</td>\n",
       "      <td>2019.01.30</td>\n",
       "      <td>2019.04.29</td>\n",
       "      <td>4.0</td>\n",
       "      <td>국민위원활동</td>\n",
       "    </tr>\n",
       "    <tr>\n",
       "      <td>139</td>\n",
       "      <td>새해부터는 공무원들의 근무시간 특별히 점심시간을 잘 지켜주시는 제안을 합니다.</td>\n",
       "      <td>일반행정</td>\n",
       "      <td>2019.01.08</td>\n",
       "      <td>2019.04.07</td>\n",
       "      <td>6.0</td>\n",
       "      <td>걷자</td>\n",
       "    </tr>\n",
       "    <tr>\n",
       "      <td>75</td>\n",
       "      <td>서울특별시청소년수련관 직원정년나이 ,기관장(대표)과 같게 조례변경이 되어야 합니다</td>\n",
       "      <td>일반행정</td>\n",
       "      <td>2018.10.14</td>\n",
       "      <td>2019.01.11</td>\n",
       "      <td>9.0</td>\n",
       "      <td>백희</td>\n",
       "    </tr>\n",
       "    <tr>\n",
       "      <td>49</td>\n",
       "      <td>공무원 조직경쟁력 강화 목적인 개방형직위 운용 체계를 휙기적으로 개선</td>\n",
       "      <td>일반행정</td>\n",
       "      <td>2018.09.28</td>\n",
       "      <td>2018.12.26</td>\n",
       "      <td>4.0</td>\n",
       "      <td>제안토론왕</td>\n",
       "    </tr>\n",
       "    <tr>\n",
       "      <td>32</td>\n",
       "      <td>종이 당직일지 이제는 안녕!</td>\n",
       "      <td>일반행정</td>\n",
       "      <td>2018.09.04</td>\n",
       "      <td>2018.12.02</td>\n",
       "      <td>167.0</td>\n",
       "      <td>홍길동</td>\n",
       "    </tr>\n",
       "    <tr>\n",
       "      <td>7</td>\n",
       "      <td>하계 반바지 허용 등 근무복장 자율화를 통한 생산적인 근무환경 조성</td>\n",
       "      <td>일반행정</td>\n",
       "      <td>2018.08.06</td>\n",
       "      <td>2018.09.05</td>\n",
       "      <td>5.0</td>\n",
       "      <td>통혁신</td>\n",
       "    </tr>\n",
       "  </tbody>\n",
       "</table>\n",
       "</div>"
      ],
      "text/plain": [
       "                                                제목 제안 분야       제안 시작  \\\n",
       "id                                                                     \n",
       "279                                      초과근무 줄이기!  일반행정  2019.10.16   \n",
       "260                 시간선택제공무원 근무시간 확대와 관련된 규정 개정 요청  일반행정  2019.09.04   \n",
       "240                                     청와대공무직공개채용  일반행정  2019.08.28   \n",
       "222                   정부조직법 부처 개편 일부 개정안(추가 일부 변경)  일반행정  2019.07.16   \n",
       "214                                      연가 기부제 도입  일반행정  2019.06.24   \n",
       "149                      사회복무요원  직무교육 내용 개선이 필요합니다  일반행정  2019.01.30   \n",
       "139    새해부터는 공무원들의 근무시간 특별히 점심시간을 잘 지켜주시는 제안을 합니다.  일반행정  2019.01.08   \n",
       "75   서울특별시청소년수련관 직원정년나이 ,기관장(대표)과 같게 조례변경이 되어야 합니다  일반행정  2018.10.14   \n",
       "49          공무원 조직경쟁력 강화 목적인 개방형직위 운용 체계를 휙기적으로 개선  일반행정  2018.09.28   \n",
       "32                                 종이 당직일지 이제는 안녕!  일반행정  2018.09.04   \n",
       "7            하계 반바지 허용 등 근무복장 자율화를 통한 생산적인 근무환경 조성  일반행정  2018.08.06   \n",
       "\n",
       "          제안 마감   투표 수      제안인  \n",
       "id                               \n",
       "279  2020.01.13    2.0      ㅁㄴㅁ  \n",
       "260  2019.12.02   14.0       청운  \n",
       "240  2019.11.25   17.0    인생2모작  \n",
       "222  2019.10.13    2.0  jong176  \n",
       "214  2019.09.21    7.0       탱크  \n",
       "149  2019.04.29    4.0   국민위원활동  \n",
       "139  2019.04.07    6.0       걷자  \n",
       "75   2019.01.11    9.0       백희  \n",
       "49   2018.12.26    4.0    제안토론왕  \n",
       "32   2018.12.02  167.0      홍길동  \n",
       "7    2018.09.05    5.0      통혁신  "
      ]
     },
     "execution_count": 28,
     "metadata": {},
     "output_type": "execute_result"
    }
   ],
   "source": [
    "df[(df['제안 분야'] == '일반행정')]"
   ]
  },
  {
   "cell_type": "code",
   "execution_count": 29,
   "metadata": {},
   "outputs": [
    {
     "data": {
      "text/html": [
       "<div>\n",
       "<style scoped>\n",
       "    .dataframe tbody tr th:only-of-type {\n",
       "        vertical-align: middle;\n",
       "    }\n",
       "\n",
       "    .dataframe tbody tr th {\n",
       "        vertical-align: top;\n",
       "    }\n",
       "\n",
       "    .dataframe thead th {\n",
       "        text-align: right;\n",
       "    }\n",
       "</style>\n",
       "<table border=\"1\" class=\"dataframe\">\n",
       "  <thead>\n",
       "    <tr style=\"text-align: right;\">\n",
       "      <th></th>\n",
       "      <th>제목</th>\n",
       "      <th>제안 분야</th>\n",
       "      <th>제안 시작</th>\n",
       "      <th>제안 마감</th>\n",
       "      <th>투표 수</th>\n",
       "      <th>제안인</th>\n",
       "    </tr>\n",
       "    <tr>\n",
       "      <th>id</th>\n",
       "      <th></th>\n",
       "      <th></th>\n",
       "      <th></th>\n",
       "      <th></th>\n",
       "      <th></th>\n",
       "      <th></th>\n",
       "    </tr>\n",
       "  </thead>\n",
       "  <tbody>\n",
       "    <tr>\n",
       "      <td>279</td>\n",
       "      <td>초과근무 줄이기!</td>\n",
       "      <td>일반행정</td>\n",
       "      <td>2019.10.16</td>\n",
       "      <td>2020.01.13</td>\n",
       "      <td>2.0</td>\n",
       "      <td>ㅁㄴㅁ</td>\n",
       "    </tr>\n",
       "  </tbody>\n",
       "</table>\n",
       "</div>"
      ],
      "text/plain": [
       "            제목 제안 분야       제안 시작       제안 마감  투표 수  제안인\n",
       "id                                                     \n",
       "279  초과근무 줄이기!  일반행정  2019.10.16  2020.01.13   2.0  ㅁㄴㅁ"
      ]
     },
     "execution_count": 29,
     "metadata": {},
     "output_type": "execute_result"
    }
   ],
   "source": [
    "df[(df['제안 분야'] == '일반행정')&(df['제안 시작'] >= '2019.10.01')]"
   ]
  },
  {
   "cell_type": "code",
   "execution_count": 30,
   "metadata": {},
   "outputs": [],
   "source": [
    "#pip install seaborn"
   ]
  },
  {
   "cell_type": "code",
   "execution_count": 38,
   "metadata": {},
   "outputs": [],
   "source": [
    "import seaborn as sns\n",
    "import matplotlib.pyplot as plt\n",
    "%matplotlib inline\n",
    "\n",
    "import platform\n",
    "from matplotlib import font_manager, rc\n",
    "plt.rcParams['axes.unicode_minus'] = False\n",
    "\n",
    "#윈도우\n",
    "path = \"c:/Windows/Fonts/malgun.ttf\"\n",
    "font_name = font_manager.FontProperties(fname=path).get_name()\n",
    "rc('font', family=font_name)"
   ]
  },
  {
   "cell_type": "code",
   "execution_count": 68,
   "metadata": {},
   "outputs": [],
   "source": [
    "t = np.arange(0, 10, 0.1)\n",
    "y = np.sin(t)"
   ]
  },
  {
   "cell_type": "code",
   "execution_count": 69,
   "metadata": {},
   "outputs": [
    {
     "data": {
      "image/png": "[encoded data removed]",
      "text/plain": [
       "<Figure size 432x288 with 1 Axes>"
      ]
     },
     "metadata": {
      "needs_background": "light"
     },
     "output_type": "display_data"
    }
   ],
   "source": [
    "plt.plot(t, y, color='green', linestyle='dashed')\n",
    "plt.title('싸인 함수')\n",
    "plt.xlabel('x축')\n",
    "plt.ylabel('y축')\n",
    "plt.grid() # 격자\n",
    "plt.xlim([-10, 10]) # x축 범위 고정\n",
    "plt.ylim([-2, 2]) # y축 범위 고정\n",
    "plt.show()"
   ]
  },
  {
   "cell_type": "code",
   "execution_count": 41,
   "metadata": {},
   "outputs": [
    {
     "data": {
      "text/html": [
       "<div>\n",
       "<style scoped>\n",
       "    .dataframe tbody tr th:only-of-type {\n",
       "        vertical-align: middle;\n",
       "    }\n",
       "\n",
       "    .dataframe tbody tr th {\n",
       "        vertical-align: top;\n",
       "    }\n",
       "\n",
       "    .dataframe thead th {\n",
       "        text-align: right;\n",
       "    }\n",
       "</style>\n",
       "<table border=\"1\" class=\"dataframe\">\n",
       "  <thead>\n",
       "    <tr style=\"text-align: right;\">\n",
       "      <th></th>\n",
       "      <th>투표 수</th>\n",
       "    </tr>\n",
       "    <tr>\n",
       "      <th>제안 분야</th>\n",
       "      <th></th>\n",
       "    </tr>\n",
       "  </thead>\n",
       "  <tbody>\n",
       "    <tr>\n",
       "      <td>국민참여</td>\n",
       "      <td>2.0</td>\n",
       "    </tr>\n",
       "    <tr>\n",
       "      <td>반부패청렴</td>\n",
       "      <td>18.0</td>\n",
       "    </tr>\n",
       "    <tr>\n",
       "      <td>보건복지</td>\n",
       "      <td>17.0</td>\n",
       "    </tr>\n",
       "    <tr>\n",
       "      <td>사회통합</td>\n",
       "      <td>5.0</td>\n",
       "    </tr>\n",
       "    <tr>\n",
       "      <td>일반행정</td>\n",
       "      <td>237.0</td>\n",
       "    </tr>\n",
       "    <tr>\n",
       "      <td>환경</td>\n",
       "      <td>7.0</td>\n",
       "    </tr>\n",
       "  </tbody>\n",
       "</table>\n",
       "</div>"
      ],
      "text/plain": [
       "        투표 수\n",
       "제안 분야       \n",
       "국민참여     2.0\n",
       "반부패청렴   18.0\n",
       "보건복지    17.0\n",
       "사회통합     5.0\n",
       "일반행정   237.0\n",
       "환경       7.0"
      ]
     },
     "execution_count": 41,
     "metadata": {},
     "output_type": "execute_result"
    }
   ],
   "source": [
    "df2 = df.groupby(by='제안 분야')[['투표 수']].sum()\n",
    "df2"
   ]
  },
  {
   "cell_type": "code",
   "execution_count": 85,
   "metadata": {},
   "outputs": [
    {
     "data": {
      "text/html": [
       "<div>\n",
       "<style scoped>\n",
       "    .dataframe tbody tr th:only-of-type {\n",
       "        vertical-align: middle;\n",
       "    }\n",
       "\n",
       "    .dataframe tbody tr th {\n",
       "        vertical-align: top;\n",
       "    }\n",
       "\n",
       "    .dataframe thead th {\n",
       "        text-align: right;\n",
       "    }\n",
       "</style>\n",
       "<table border=\"1\" class=\"dataframe\">\n",
       "  <thead>\n",
       "    <tr style=\"text-align: right;\">\n",
       "      <th></th>\n",
       "      <th>투표 수</th>\n",
       "    </tr>\n",
       "    <tr>\n",
       "      <th>제안 분야</th>\n",
       "      <th></th>\n",
       "    </tr>\n",
       "  </thead>\n",
       "  <tbody>\n",
       "    <tr>\n",
       "      <td>일반행정</td>\n",
       "      <td>237.0</td>\n",
       "    </tr>\n",
       "    <tr>\n",
       "      <td>반부패청렴</td>\n",
       "      <td>18.0</td>\n",
       "    </tr>\n",
       "    <tr>\n",
       "      <td>보건복지</td>\n",
       "      <td>17.0</td>\n",
       "    </tr>\n",
       "    <tr>\n",
       "      <td>환경</td>\n",
       "      <td>7.0</td>\n",
       "    </tr>\n",
       "    <tr>\n",
       "      <td>사회통합</td>\n",
       "      <td>5.0</td>\n",
       "    </tr>\n",
       "    <tr>\n",
       "      <td>국민참여</td>\n",
       "      <td>2.0</td>\n",
       "    </tr>\n",
       "  </tbody>\n",
       "</table>\n",
       "</div>"
      ],
      "text/plain": [
       "        투표 수\n",
       "제안 분야       \n",
       "일반행정   237.0\n",
       "반부패청렴   18.0\n",
       "보건복지    17.0\n",
       "환경       7.0\n",
       "사회통합     5.0\n",
       "국민참여     2.0"
      ]
     },
     "execution_count": 85,
     "metadata": {},
     "output_type": "execute_result"
    }
   ],
   "source": [
    "df2 = df.groupby(by='제안 분야')[['투표 수']].sum()\n",
    "df2 = df2.sort_values(by='투표 수', ascending=False)\n",
    "df2"
   ]
  },
  {
   "cell_type": "code",
   "execution_count": 56,
   "metadata": {},
   "outputs": [
    {
     "data": {
      "text/plain": [
       "<function matplotlib.pyplot.show(*args, **kw)>"
      ]
     },
     "execution_count": 56,
     "metadata": {},
     "output_type": "execute_result"
    },
    {
     "data": {
      "image/png": "[encoded data removed]",
      "text/plain": [
       "<Figure size 432x288 with 1 Axes>"
      ]
     },
     "metadata": {
      "needs_background": "light"
     },
     "output_type": "display_data"
    }
   ],
   "source": [
    "df2['투표 수'].plot(kind='bar')\n",
    "plt.show"
   ]
  },
  {
   "cell_type": "code",
   "execution_count": 60,
   "metadata": {},
   "outputs": [
    {
     "data": {
      "image/png": "[encoded data removed]",
      "text/plain": [
       "<Figure size 432x288 with 1 Axes>"
      ]
     },
     "metadata": {
      "needs_background": "light"
     },
     "output_type": "display_data"
    },
    {
     "data": {
      "text/plain": [
       "<Figure size 288x288 with 0 Axes>"
      ]
     },
     "metadata": {},
     "output_type": "display_data"
    }
   ],
   "source": [
    "df2['투표 수'].plot(kind='barh')\n",
    "plt.figure(figsize = (4,4))\n",
    "plt.show()"
   ]
  },
  {
   "cell_type": "code",
   "execution_count": 67,
   "metadata": {},
   "outputs": [
    {
     "data": {
      "image/png": "[encoded data removed]",
      "text/plain": [
       "<Figure size 432x288 with 1 Axes>"
      ]
     },
     "metadata": {
      "needs_background": "light"
     },
     "output_type": "display_data"
    },
    {
     "data": {
      "text/plain": [
       "<Figure size 288x288 with 0 Axes>"
      ]
     },
     "metadata": {},
     "output_type": "display_data"
    }
   ],
   "source": [
    "df2['투표 수'].plot(kind='barh')\n",
    "plt.title(label='제안 분야별 투표수')\n",
    "plt.xlabel(xlabel='투표수')\n",
    "plt.figure(figsize = (4,4))\n",
    "plt.show()"
   ]
  },
  {
   "cell_type": "code",
   "execution_count": 74,
   "metadata": {},
   "outputs": [
    {
     "data": {
      "text/html": [
       "<div>\n",
       "<style scoped>\n",
       "    .dataframe tbody tr th:only-of-type {\n",
       "        vertical-align: middle;\n",
       "    }\n",
       "\n",
       "    .dataframe tbody tr th {\n",
       "        vertical-align: top;\n",
       "    }\n",
       "\n",
       "    .dataframe thead th {\n",
       "        text-align: right;\n",
       "    }\n",
       "</style>\n",
       "<table border=\"1\" class=\"dataframe\">\n",
       "  <thead>\n",
       "    <tr style=\"text-align: right;\">\n",
       "      <th></th>\n",
       "      <th>투표 수</th>\n",
       "    </tr>\n",
       "    <tr>\n",
       "      <th>제안 분야</th>\n",
       "      <th></th>\n",
       "    </tr>\n",
       "  </thead>\n",
       "  <tbody>\n",
       "    <tr>\n",
       "      <td>국민참여</td>\n",
       "      <td>2.0</td>\n",
       "    </tr>\n",
       "    <tr>\n",
       "      <td>반부패청렴</td>\n",
       "      <td>18.0</td>\n",
       "    </tr>\n",
       "    <tr>\n",
       "      <td>보건복지</td>\n",
       "      <td>17.0</td>\n",
       "    </tr>\n",
       "    <tr>\n",
       "      <td>사회통합</td>\n",
       "      <td>5.0</td>\n",
       "    </tr>\n",
       "    <tr>\n",
       "      <td>일반행정</td>\n",
       "      <td>237.0</td>\n",
       "    </tr>\n",
       "    <tr>\n",
       "      <td>환경</td>\n",
       "      <td>7.0</td>\n",
       "    </tr>\n",
       "  </tbody>\n",
       "</table>\n",
       "</div>"
      ],
      "text/plain": [
       "        투표 수\n",
       "제안 분야       \n",
       "국민참여     2.0\n",
       "반부패청렴   18.0\n",
       "보건복지    17.0\n",
       "사회통합     5.0\n",
       "일반행정   237.0\n",
       "환경       7.0"
      ]
     },
     "execution_count": 74,
     "metadata": {},
     "output_type": "execute_result"
    }
   ],
   "source": [
    "df3 = df.pivot_table(df, index=['제안 분야'], aggfunc='sum')\n",
    "df3"
   ]
  },
  {
   "cell_type": "code",
   "execution_count": 88,
   "metadata": {},
   "outputs": [
    {
     "data": {
      "image/png": "[encoded data removed]",
      "text/plain": [
       "<Figure size 432x288 with 1 Axes>"
      ]
     },
     "metadata": {
      "needs_background": "light"
     },
     "output_type": "display_data"
    }
   ],
   "source": [
    "df2['투표 수'].sort_values().plot(kind='barh', color='yellow')\n",
    "plt.title('제안분야별 투표수')\n",
    "plt.xlabel('투표 수')\n",
    "plt.xlim([0, 50])\n",
    "\n",
    "for i in range(3):\n",
    "    plt.text(df2['투표 수'][i], 10-i, df2['투표 수'][i], fontsize=3)\n",
    "\n",
    "plt.grid()\n",
    "plt.show()"
   ]
  },
  {
   "cell_type": "code",
   "execution_count": null,
   "metadata": {},
   "outputs": [],
   "source": []
  }
 ],
 "metadata": {
  "kernelspec": {
   "display_name": "Python 3",
   "language": "python",
   "name": "python3"
  },
  "language_info": {
   "codemirror_mode": {
    "name": "ipython",
    "version": 3
   },
   "file_extension": ".py",
   "mimetype": "text/x-python",
   "name": "python",
   "nbconvert_exporter": "python",
   "pygments_lexer": "ipython3",
   "version": "3.7.4"
  }
 },
 "nbformat": 4,
 "nbformat_minor": 2
}
