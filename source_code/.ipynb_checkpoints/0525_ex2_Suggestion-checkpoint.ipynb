{
 "cells": [
  {
   "cell_type": "code",
   "execution_count": 1,
   "metadata": {},
   "outputs": [],
   "source": [
    "import pandas as pd\n",
    "import numpy as np"
   ]
  },
  {
   "cell_type": "code",
   "execution_count": 2,
   "metadata": {
    "scrolled": true
   },
   "outputs": [
    {
     "data": {
      "text/html": [
       "<div>\n",
       "<style scoped>\n",
       "    .dataframe tbody tr th:only-of-type {\n",
       "        vertical-align: middle;\n",
       "    }\n",
       "\n",
       "    .dataframe tbody tr th {\n",
       "        vertical-align: top;\n",
       "    }\n",
       "\n",
       "    .dataframe thead th {\n",
       "        text-align: right;\n",
       "    }\n",
       "</style>\n",
       "<table border=\"1\" class=\"dataframe\">\n",
       "  <thead>\n",
       "    <tr style=\"text-align: right;\">\n",
       "      <th></th>\n",
       "      <th>Unnamed: 0</th>\n",
       "      <th>id</th>\n",
       "      <th>제목</th>\n",
       "      <th>제안 분야</th>\n",
       "      <th>제안 시작</th>\n",
       "      <th>제안 마감</th>\n",
       "      <th>투표 수</th>\n",
       "      <th>제안인</th>\n",
       "    </tr>\n",
       "  </thead>\n",
       "  <tbody>\n",
       "    <tr>\n",
       "      <td>0</td>\n",
       "      <td>0</td>\n",
       "      <td>279</td>\n",
       "      <td>초과근무 줄이기!</td>\n",
       "      <td>일반행정</td>\n",
       "      <td>2019.10.16</td>\n",
       "      <td>2020.01.13</td>\n",
       "      <td>2</td>\n",
       "      <td>ㅁㄴㅁ</td>\n",
       "    </tr>\n",
       "    <tr>\n",
       "      <td>1</td>\n",
       "      <td>1</td>\n",
       "      <td>264</td>\n",
       "      <td>암행국(어)사제도 신설</td>\n",
       "      <td>사회통합</td>\n",
       "      <td>2019.09.07</td>\n",
       "      <td>2019.12.05</td>\n",
       "      <td>5</td>\n",
       "      <td>청류</td>\n",
       "    </tr>\n",
       "    <tr>\n",
       "      <td>2</td>\n",
       "      <td>2</td>\n",
       "      <td>260</td>\n",
       "      <td>시간선택제공무원 근무시간 확대와 관련된 규정 개정 요청</td>\n",
       "      <td>일반행정</td>\n",
       "      <td>2019.09.04</td>\n",
       "      <td>2019.12.02</td>\n",
       "      <td>14</td>\n",
       "      <td>청운</td>\n",
       "    </tr>\n",
       "    <tr>\n",
       "      <td>3</td>\n",
       "      <td>3</td>\n",
       "      <td>240</td>\n",
       "      <td>청와대공무직공개채용</td>\n",
       "      <td>일반행정</td>\n",
       "      <td>2019.08.28</td>\n",
       "      <td>2019.11.25</td>\n",
       "      <td>17</td>\n",
       "      <td>인생2모작</td>\n",
       "    </tr>\n",
       "    <tr>\n",
       "      <td>4</td>\n",
       "      <td>4</td>\n",
       "      <td>222</td>\n",
       "      <td>정부조직법 부처 개편 일부 개정안(추가 일부 변경)</td>\n",
       "      <td>일반행정</td>\n",
       "      <td>2019.07.16</td>\n",
       "      <td>2019.10.13</td>\n",
       "      <td>2</td>\n",
       "      <td>jong176</td>\n",
       "    </tr>\n",
       "  </tbody>\n",
       "</table>\n",
       "</div>"
      ],
      "text/plain": [
       "   Unnamed: 0   id                              제목 제안 분야       제안 시작  \\\n",
       "0           0  279                       초과근무 줄이기!  일반행정  2019.10.16   \n",
       "1           1  264                    암행국(어)사제도 신설  사회통합  2019.09.07   \n",
       "2           2  260  시간선택제공무원 근무시간 확대와 관련된 규정 개정 요청  일반행정  2019.09.04   \n",
       "3           3  240                      청와대공무직공개채용  일반행정  2019.08.28   \n",
       "4           4  222    정부조직법 부처 개편 일부 개정안(추가 일부 변경)  일반행정  2019.07.16   \n",
       "\n",
       "        제안 마감  투표 수      제안인  \n",
       "0  2020.01.13     2      ㅁㄴㅁ  \n",
       "1  2019.12.05     5       청류  \n",
       "2  2019.12.02    14       청운  \n",
       "3  2019.11.25    17    인생2모작  \n",
       "4  2019.10.13     2  jong176  "
      ]
     },
     "execution_count": 2,
     "metadata": {},
     "output_type": "execute_result"
    }
   ],
   "source": [
    "df = pd.read_csv('../data/suggestion.csv', encoding='euc-kr')\n",
    "df.head()"
   ]
  },
  {
   "cell_type": "code",
   "execution_count": 3,
   "metadata": {},
   "outputs": [
    {
     "data": {
      "text/html": [
       "<div>\n",
       "<style scoped>\n",
       "    .dataframe tbody tr th:only-of-type {\n",
       "        vertical-align: middle;\n",
       "    }\n",
       "\n",
       "    .dataframe tbody tr th {\n",
       "        vertical-align: top;\n",
       "    }\n",
       "\n",
       "    .dataframe thead th {\n",
       "        text-align: right;\n",
       "    }\n",
       "</style>\n",
       "<table border=\"1\" class=\"dataframe\">\n",
       "  <thead>\n",
       "    <tr style=\"text-align: right;\">\n",
       "      <th></th>\n",
       "      <th>Unnamed: 0</th>\n",
       "      <th>id</th>\n",
       "      <th>투표 수</th>\n",
       "    </tr>\n",
       "  </thead>\n",
       "  <tbody>\n",
       "    <tr>\n",
       "      <td>count</td>\n",
       "      <td>21.000000</td>\n",
       "      <td>21.000000</td>\n",
       "      <td>21.000000</td>\n",
       "    </tr>\n",
       "    <tr>\n",
       "      <td>mean</td>\n",
       "      <td>10.000000</td>\n",
       "      <td>138.809524</td>\n",
       "      <td>13.619048</td>\n",
       "    </tr>\n",
       "    <tr>\n",
       "      <td>std</td>\n",
       "      <td>6.204837</td>\n",
       "      <td>91.720564</td>\n",
       "      <td>35.449226</td>\n",
       "    </tr>\n",
       "    <tr>\n",
       "      <td>min</td>\n",
       "      <td>0.000000</td>\n",
       "      <td>2.000000</td>\n",
       "      <td>0.000000</td>\n",
       "    </tr>\n",
       "    <tr>\n",
       "      <td>25%</td>\n",
       "      <td>5.000000</td>\n",
       "      <td>61.000000</td>\n",
       "      <td>2.000000</td>\n",
       "    </tr>\n",
       "    <tr>\n",
       "      <td>50%</td>\n",
       "      <td>10.000000</td>\n",
       "      <td>149.000000</td>\n",
       "      <td>5.000000</td>\n",
       "    </tr>\n",
       "    <tr>\n",
       "      <td>75%</td>\n",
       "      <td>15.000000</td>\n",
       "      <td>214.000000</td>\n",
       "      <td>9.000000</td>\n",
       "    </tr>\n",
       "    <tr>\n",
       "      <td>max</td>\n",
       "      <td>20.000000</td>\n",
       "      <td>279.000000</td>\n",
       "      <td>167.000000</td>\n",
       "    </tr>\n",
       "  </tbody>\n",
       "</table>\n",
       "</div>"
      ],
      "text/plain": [
       "       Unnamed: 0          id        투표 수\n",
       "count   21.000000   21.000000   21.000000\n",
       "mean    10.000000  138.809524   13.619048\n",
       "std      6.204837   91.720564   35.449226\n",
       "min      0.000000    2.000000    0.000000\n",
       "25%      5.000000   61.000000    2.000000\n",
       "50%     10.000000  149.000000    5.000000\n",
       "75%     15.000000  214.000000    9.000000\n",
       "max     20.000000  279.000000  167.000000"
      ]
     },
     "execution_count": 3,
     "metadata": {},
     "output_type": "execute_result"
    }
   ],
   "source": [
    "df.describe()"
   ]
  },
  {
   "cell_type": "code",
   "execution_count": 4,
   "metadata": {},
   "outputs": [],
   "source": [
    "#culumn 삭제 방법1\n",
    "del df['Unnamed: 0']"
   ]
  },
  {
   "cell_type": "code",
   "execution_count": 5,
   "metadata": {},
   "outputs": [],
   "source": [
    "#culumn 삭제 방법2\n",
    "# df.drop(['제목'], inplace=True, axis=1)\n",
    "# df.head()"
   ]
  },
  {
   "cell_type": "code",
   "execution_count": 6,
   "metadata": {},
   "outputs": [
    {
     "data": {
      "text/html": [
       "<div>\n",
       "<style scoped>\n",
       "    .dataframe tbody tr th:only-of-type {\n",
       "        vertical-align: middle;\n",
       "    }\n",
       "\n",
       "    .dataframe tbody tr th {\n",
       "        vertical-align: top;\n",
       "    }\n",
       "\n",
       "    .dataframe thead th {\n",
       "        text-align: right;\n",
       "    }\n",
       "</style>\n",
       "<table border=\"1\" class=\"dataframe\">\n",
       "  <thead>\n",
       "    <tr style=\"text-align: right;\">\n",
       "      <th></th>\n",
       "      <th>id</th>\n",
       "      <th>제목</th>\n",
       "      <th>제안 분야</th>\n",
       "      <th>제안 시작</th>\n",
       "      <th>제안 마감</th>\n",
       "      <th>투표 수</th>\n",
       "      <th>제안인</th>\n",
       "    </tr>\n",
       "  </thead>\n",
       "  <tbody>\n",
       "    <tr>\n",
       "      <td>0</td>\n",
       "      <td>279</td>\n",
       "      <td>초과근무 줄이기!</td>\n",
       "      <td>일반행정</td>\n",
       "      <td>2019.10.16</td>\n",
       "      <td>2020.01.13</td>\n",
       "      <td>2</td>\n",
       "      <td>ㅁㄴㅁ</td>\n",
       "    </tr>\n",
       "    <tr>\n",
       "      <td>1</td>\n",
       "      <td>264</td>\n",
       "      <td>암행국(어)사제도 신설</td>\n",
       "      <td>사회통합</td>\n",
       "      <td>2019.09.07</td>\n",
       "      <td>2019.12.05</td>\n",
       "      <td>5</td>\n",
       "      <td>청류</td>\n",
       "    </tr>\n",
       "    <tr>\n",
       "      <td>2</td>\n",
       "      <td>260</td>\n",
       "      <td>시간선택제공무원 근무시간 확대와 관련된 규정 개정 요청</td>\n",
       "      <td>일반행정</td>\n",
       "      <td>2019.09.04</td>\n",
       "      <td>2019.12.02</td>\n",
       "      <td>14</td>\n",
       "      <td>청운</td>\n",
       "    </tr>\n",
       "    <tr>\n",
       "      <td>3</td>\n",
       "      <td>240</td>\n",
       "      <td>청와대공무직공개채용</td>\n",
       "      <td>일반행정</td>\n",
       "      <td>2019.08.28</td>\n",
       "      <td>2019.11.25</td>\n",
       "      <td>17</td>\n",
       "      <td>인생2모작</td>\n",
       "    </tr>\n",
       "    <tr>\n",
       "      <td>4</td>\n",
       "      <td>222</td>\n",
       "      <td>정부조직법 부처 개편 일부 개정안(추가 일부 변경)</td>\n",
       "      <td>일반행정</td>\n",
       "      <td>2019.07.16</td>\n",
       "      <td>2019.10.13</td>\n",
       "      <td>2</td>\n",
       "      <td>jong176</td>\n",
       "    </tr>\n",
       "  </tbody>\n",
       "</table>\n",
       "</div>"
      ],
      "text/plain": [
       "    id                              제목 제안 분야       제안 시작       제안 마감  투표 수  \\\n",
       "0  279                       초과근무 줄이기!  일반행정  2019.10.16  2020.01.13     2   \n",
       "1  264                    암행국(어)사제도 신설  사회통합  2019.09.07  2019.12.05     5   \n",
       "2  260  시간선택제공무원 근무시간 확대와 관련된 규정 개정 요청  일반행정  2019.09.04  2019.12.02    14   \n",
       "3  240                      청와대공무직공개채용  일반행정  2019.08.28  2019.11.25    17   \n",
       "4  222    정부조직법 부처 개편 일부 개정안(추가 일부 변경)  일반행정  2019.07.16  2019.10.13     2   \n",
       "\n",
       "       제안인  \n",
       "0      ㅁㄴㅁ  \n",
       "1       청류  \n",
       "2       청운  \n",
       "3    인생2모작  \n",
       "4  jong176  "
      ]
     },
     "execution_count": 6,
     "metadata": {},
     "output_type": "execute_result"
    }
   ],
   "source": [
    "df.head()"
   ]
  },
  {
   "cell_type": "code",
   "execution_count": 7,
   "metadata": {},
   "outputs": [],
   "source": [
    "#행삭제 방법\n",
    "# df.drop([0], inplace=True, axis=0)\n",
    "# df.head()"
   ]
  },
  {
   "cell_type": "code",
   "execution_count": 8,
   "metadata": {},
   "outputs": [
    {
     "data": {
      "text/html": [
       "<div>\n",
       "<style scoped>\n",
       "    .dataframe tbody tr th:only-of-type {\n",
       "        vertical-align: middle;\n",
       "    }\n",
       "\n",
       "    .dataframe tbody tr th {\n",
       "        vertical-align: top;\n",
       "    }\n",
       "\n",
       "    .dataframe thead th {\n",
       "        text-align: right;\n",
       "    }\n",
       "</style>\n",
       "<table border=\"1\" class=\"dataframe\">\n",
       "  <thead>\n",
       "    <tr style=\"text-align: right;\">\n",
       "      <th></th>\n",
       "      <th>제목</th>\n",
       "      <th>제안 분야</th>\n",
       "      <th>제안 시작</th>\n",
       "      <th>제안 마감</th>\n",
       "      <th>투표 수</th>\n",
       "      <th>제안인</th>\n",
       "    </tr>\n",
       "    <tr>\n",
       "      <th>id</th>\n",
       "      <th></th>\n",
       "      <th></th>\n",
       "      <th></th>\n",
       "      <th></th>\n",
       "      <th></th>\n",
       "      <th></th>\n",
       "    </tr>\n",
       "  </thead>\n",
       "  <tbody>\n",
       "    <tr>\n",
       "      <td>279</td>\n",
       "      <td>초과근무 줄이기!</td>\n",
       "      <td>일반행정</td>\n",
       "      <td>2019.10.16</td>\n",
       "      <td>2020.01.13</td>\n",
       "      <td>2</td>\n",
       "      <td>ㅁㄴㅁ</td>\n",
       "    </tr>\n",
       "    <tr>\n",
       "      <td>264</td>\n",
       "      <td>암행국(어)사제도 신설</td>\n",
       "      <td>사회통합</td>\n",
       "      <td>2019.09.07</td>\n",
       "      <td>2019.12.05</td>\n",
       "      <td>5</td>\n",
       "      <td>청류</td>\n",
       "    </tr>\n",
       "    <tr>\n",
       "      <td>260</td>\n",
       "      <td>시간선택제공무원 근무시간 확대와 관련된 규정 개정 요청</td>\n",
       "      <td>일반행정</td>\n",
       "      <td>2019.09.04</td>\n",
       "      <td>2019.12.02</td>\n",
       "      <td>14</td>\n",
       "      <td>청운</td>\n",
       "    </tr>\n",
       "    <tr>\n",
       "      <td>240</td>\n",
       "      <td>청와대공무직공개채용</td>\n",
       "      <td>일반행정</td>\n",
       "      <td>2019.08.28</td>\n",
       "      <td>2019.11.25</td>\n",
       "      <td>17</td>\n",
       "      <td>인생2모작</td>\n",
       "    </tr>\n",
       "    <tr>\n",
       "      <td>222</td>\n",
       "      <td>정부조직법 부처 개편 일부 개정안(추가 일부 변경)</td>\n",
       "      <td>일반행정</td>\n",
       "      <td>2019.07.16</td>\n",
       "      <td>2019.10.13</td>\n",
       "      <td>2</td>\n",
       "      <td>jong176</td>\n",
       "    </tr>\n",
       "  </tbody>\n",
       "</table>\n",
       "</div>"
      ],
      "text/plain": [
       "                                 제목 제안 분야       제안 시작       제안 마감  투표 수  \\\n",
       "id                                                                        \n",
       "279                       초과근무 줄이기!  일반행정  2019.10.16  2020.01.13     2   \n",
       "264                    암행국(어)사제도 신설  사회통합  2019.09.07  2019.12.05     5   \n",
       "260  시간선택제공무원 근무시간 확대와 관련된 규정 개정 요청  일반행정  2019.09.04  2019.12.02    14   \n",
       "240                      청와대공무직공개채용  일반행정  2019.08.28  2019.11.25    17   \n",
       "222    정부조직법 부처 개편 일부 개정안(추가 일부 변경)  일반행정  2019.07.16  2019.10.13     2   \n",
       "\n",
       "         제안인  \n",
       "id            \n",
       "279      ㅁㄴㅁ  \n",
       "264       청류  \n",
       "260       청운  \n",
       "240    인생2모작  \n",
       "222  jong176  "
      ]
     },
     "execution_count": 8,
     "metadata": {},
     "output_type": "execute_result"
    }
   ],
   "source": [
    "df.set_index('id', inplace=True)\n",
    "df.head()"
   ]
  },
  {
   "cell_type": "code",
   "execution_count": 11,
   "metadata": {},
   "outputs": [
    {
     "data": {
      "text/plain": [
       "일반행정     11\n",
       "보건복지      5\n",
       "반부패청렴     2\n",
       "국민참여      1\n",
       "환경        1\n",
       "사회통합      1\n",
       "Name: 제안 분야, dtype: int64"
      ]
     },
     "execution_count": 11,
     "metadata": {},
     "output_type": "execute_result"
    }
   ],
   "source": [
    "df['제안 분야'].value_counts()"
   ]
  },
  {
   "cell_type": "code",
   "execution_count": 12,
   "metadata": {},
   "outputs": [
    {
     "data": {
      "text/plain": [
       "id\n",
       "279                         초과근무 줄이기!\n",
       "264                      암행국(어)사제도 신설\n",
       "260    시간선택제공무원 근무시간 확대와 관련된 규정 개정 요청\n",
       "240                        청와대공무직공개채용\n",
       "222      정부조직법 부처 개편 일부 개정안(추가 일부 변경)\n",
       "Name: 제목, dtype: object"
      ]
     },
     "execution_count": 12,
     "metadata": {},
     "output_type": "execute_result"
    }
   ],
   "source": [
    "df['제목'].head()"
   ]
  },
  {
   "cell_type": "code",
   "execution_count": 13,
   "metadata": {},
   "outputs": [
    {
     "data": {
      "text/html": [
       "<div>\n",
       "<style scoped>\n",
       "    .dataframe tbody tr th:only-of-type {\n",
       "        vertical-align: middle;\n",
       "    }\n",
       "\n",
       "    .dataframe tbody tr th {\n",
       "        vertical-align: top;\n",
       "    }\n",
       "\n",
       "    .dataframe thead th {\n",
       "        text-align: right;\n",
       "    }\n",
       "</style>\n",
       "<table border=\"1\" class=\"dataframe\">\n",
       "  <thead>\n",
       "    <tr style=\"text-align: right;\">\n",
       "      <th></th>\n",
       "      <th>제목</th>\n",
       "      <th>제안 분야</th>\n",
       "      <th>제안 시작</th>\n",
       "      <th>제안 마감</th>\n",
       "      <th>투표 수</th>\n",
       "      <th>제안인</th>\n",
       "      <th>성별</th>\n",
       "      <th>a</th>\n",
       "    </tr>\n",
       "    <tr>\n",
       "      <th>id</th>\n",
       "      <th></th>\n",
       "      <th></th>\n",
       "      <th></th>\n",
       "      <th></th>\n",
       "      <th></th>\n",
       "      <th></th>\n",
       "      <th></th>\n",
       "      <th></th>\n",
       "    </tr>\n",
       "  </thead>\n",
       "  <tbody>\n",
       "    <tr>\n",
       "      <td>279</td>\n",
       "      <td>초과근무 줄이기!</td>\n",
       "      <td>일반행정</td>\n",
       "      <td>2019.10.16</td>\n",
       "      <td>2020.01.13</td>\n",
       "      <td>2</td>\n",
       "      <td>ㅁㄴㅁ</td>\n",
       "      <td>0</td>\n",
       "      <td>1</td>\n",
       "    </tr>\n",
       "    <tr>\n",
       "      <td>264</td>\n",
       "      <td>암행국(어)사제도 신설</td>\n",
       "      <td>사회통합</td>\n",
       "      <td>2019.09.07</td>\n",
       "      <td>2019.12.05</td>\n",
       "      <td>5</td>\n",
       "      <td>청류</td>\n",
       "      <td>0</td>\n",
       "      <td>1</td>\n",
       "    </tr>\n",
       "    <tr>\n",
       "      <td>260</td>\n",
       "      <td>시간선택제공무원 근무시간 확대와 관련된 규정 개정 요청</td>\n",
       "      <td>일반행정</td>\n",
       "      <td>2019.09.04</td>\n",
       "      <td>2019.12.02</td>\n",
       "      <td>14</td>\n",
       "      <td>청운</td>\n",
       "      <td>0</td>\n",
       "      <td>1</td>\n",
       "    </tr>\n",
       "    <tr>\n",
       "      <td>240</td>\n",
       "      <td>청와대공무직공개채용</td>\n",
       "      <td>일반행정</td>\n",
       "      <td>2019.08.28</td>\n",
       "      <td>2019.11.25</td>\n",
       "      <td>17</td>\n",
       "      <td>인생2모작</td>\n",
       "      <td>0</td>\n",
       "      <td>1</td>\n",
       "    </tr>\n",
       "    <tr>\n",
       "      <td>222</td>\n",
       "      <td>정부조직법 부처 개편 일부 개정안(추가 일부 변경)</td>\n",
       "      <td>일반행정</td>\n",
       "      <td>2019.07.16</td>\n",
       "      <td>2019.10.13</td>\n",
       "      <td>2</td>\n",
       "      <td>jong176</td>\n",
       "      <td>0</td>\n",
       "      <td>1</td>\n",
       "    </tr>\n",
       "  </tbody>\n",
       "</table>\n",
       "</div>"
      ],
      "text/plain": [
       "                                 제목 제안 분야       제안 시작       제안 마감  투표 수  \\\n",
       "id                                                                        \n",
       "279                       초과근무 줄이기!  일반행정  2019.10.16  2020.01.13     2   \n",
       "264                    암행국(어)사제도 신설  사회통합  2019.09.07  2019.12.05     5   \n",
       "260  시간선택제공무원 근무시간 확대와 관련된 규정 개정 요청  일반행정  2019.09.04  2019.12.02    14   \n",
       "240                      청와대공무직공개채용  일반행정  2019.08.28  2019.11.25    17   \n",
       "222    정부조직법 부처 개편 일부 개정안(추가 일부 변경)  일반행정  2019.07.16  2019.10.13     2   \n",
       "\n",
       "         제안인  성별  a  \n",
       "id                   \n",
       "279      ㅁㄴㅁ   0  1  \n",
       "264       청류   0  1  \n",
       "260       청운   0  1  \n",
       "240    인생2모작   0  1  \n",
       "222  jong176   0  1  "
      ]
     },
     "execution_count": 13,
     "metadata": {},
     "output_type": "execute_result"
    }
   ],
   "source": [
    "df['성별']=0\n",
    "df['a']=1\n",
    "df.head()"
   ]
  },
  {
   "cell_type": "code",
   "execution_count": 14,
   "metadata": {},
   "outputs": [],
   "source": [
    "del df['a']"
   ]
  },
  {
   "cell_type": "code",
   "execution_count": 15,
   "metadata": {},
   "outputs": [],
   "source": [
    "df.drop(['성별'], inplace=True, axis=1)"
   ]
  },
  {
   "cell_type": "code",
   "execution_count": 16,
   "metadata": {},
   "outputs": [
    {
     "data": {
      "text/html": [
       "<div>\n",
       "<style scoped>\n",
       "    .dataframe tbody tr th:only-of-type {\n",
       "        vertical-align: middle;\n",
       "    }\n",
       "\n",
       "    .dataframe tbody tr th {\n",
       "        vertical-align: top;\n",
       "    }\n",
       "\n",
       "    .dataframe thead th {\n",
       "        text-align: right;\n",
       "    }\n",
       "</style>\n",
       "<table border=\"1\" class=\"dataframe\">\n",
       "  <thead>\n",
       "    <tr style=\"text-align: right;\">\n",
       "      <th></th>\n",
       "      <th>제목</th>\n",
       "      <th>제안 분야</th>\n",
       "      <th>제안 시작</th>\n",
       "      <th>제안 마감</th>\n",
       "      <th>투표 수</th>\n",
       "      <th>제안인</th>\n",
       "    </tr>\n",
       "    <tr>\n",
       "      <th>id</th>\n",
       "      <th></th>\n",
       "      <th></th>\n",
       "      <th></th>\n",
       "      <th></th>\n",
       "      <th></th>\n",
       "      <th></th>\n",
       "    </tr>\n",
       "  </thead>\n",
       "  <tbody>\n",
       "    <tr>\n",
       "      <td>279</td>\n",
       "      <td>초과근무 줄이기!</td>\n",
       "      <td>일반행정</td>\n",
       "      <td>2019.10.16</td>\n",
       "      <td>2020.01.13</td>\n",
       "      <td>2</td>\n",
       "      <td>ㅁㄴㅁ</td>\n",
       "    </tr>\n",
       "    <tr>\n",
       "      <td>264</td>\n",
       "      <td>암행국(어)사제도 신설</td>\n",
       "      <td>사회통합</td>\n",
       "      <td>2019.09.07</td>\n",
       "      <td>2019.12.05</td>\n",
       "      <td>5</td>\n",
       "      <td>청류</td>\n",
       "    </tr>\n",
       "    <tr>\n",
       "      <td>260</td>\n",
       "      <td>시간선택제공무원 근무시간 확대와 관련된 규정 개정 요청</td>\n",
       "      <td>일반행정</td>\n",
       "      <td>2019.09.04</td>\n",
       "      <td>2019.12.02</td>\n",
       "      <td>14</td>\n",
       "      <td>청운</td>\n",
       "    </tr>\n",
       "    <tr>\n",
       "      <td>240</td>\n",
       "      <td>청와대공무직공개채용</td>\n",
       "      <td>일반행정</td>\n",
       "      <td>2019.08.28</td>\n",
       "      <td>2019.11.25</td>\n",
       "      <td>17</td>\n",
       "      <td>인생2모작</td>\n",
       "    </tr>\n",
       "    <tr>\n",
       "      <td>222</td>\n",
       "      <td>정부조직법 부처 개편 일부 개정안(추가 일부 변경)</td>\n",
       "      <td>일반행정</td>\n",
       "      <td>2019.07.16</td>\n",
       "      <td>2019.10.13</td>\n",
       "      <td>2</td>\n",
       "      <td>jong176</td>\n",
       "    </tr>\n",
       "  </tbody>\n",
       "</table>\n",
       "</div>"
      ],
      "text/plain": [
       "                                 제목 제안 분야       제안 시작       제안 마감  투표 수  \\\n",
       "id                                                                        \n",
       "279                       초과근무 줄이기!  일반행정  2019.10.16  2020.01.13     2   \n",
       "264                    암행국(어)사제도 신설  사회통합  2019.09.07  2019.12.05     5   \n",
       "260  시간선택제공무원 근무시간 확대와 관련된 규정 개정 요청  일반행정  2019.09.04  2019.12.02    14   \n",
       "240                      청와대공무직공개채용  일반행정  2019.08.28  2019.11.25    17   \n",
       "222    정부조직법 부처 개편 일부 개정안(추가 일부 변경)  일반행정  2019.07.16  2019.10.13     2   \n",
       "\n",
       "         제안인  \n",
       "id            \n",
       "279      ㅁㄴㅁ  \n",
       "264       청류  \n",
       "260       청운  \n",
       "240    인생2모작  \n",
       "222  jong176  "
      ]
     },
     "execution_count": 16,
     "metadata": {},
     "output_type": "execute_result"
    }
   ],
   "source": [
    "df.head()"
   ]
  },
  {
   "cell_type": "code",
   "execution_count": 24,
   "metadata": {},
   "outputs": [
    {
     "data": {
      "text/html": [
       "<div>\n",
       "<style scoped>\n",
       "    .dataframe tbody tr th:only-of-type {\n",
       "        vertical-align: middle;\n",
       "    }\n",
       "\n",
       "    .dataframe tbody tr th {\n",
       "        vertical-align: top;\n",
       "    }\n",
       "\n",
       "    .dataframe thead th {\n",
       "        text-align: right;\n",
       "    }\n",
       "</style>\n",
       "<table border=\"1\" class=\"dataframe\">\n",
       "  <thead>\n",
       "    <tr style=\"text-align: right;\">\n",
       "      <th></th>\n",
       "      <th>제목</th>\n",
       "      <th>제안 분야</th>\n",
       "      <th>제안 시작</th>\n",
       "      <th>제안 마감</th>\n",
       "      <th>투표 수</th>\n",
       "      <th>제안인</th>\n",
       "    </tr>\n",
       "    <tr>\n",
       "      <th>id</th>\n",
       "      <th></th>\n",
       "      <th></th>\n",
       "      <th></th>\n",
       "      <th></th>\n",
       "      <th></th>\n",
       "      <th></th>\n",
       "    </tr>\n",
       "  </thead>\n",
       "  <tbody>\n",
       "    <tr>\n",
       "      <td>279</td>\n",
       "      <td>초과근무 줄이기!</td>\n",
       "      <td>일반행정</td>\n",
       "      <td>2019.10.16</td>\n",
       "      <td>2020.01.13</td>\n",
       "      <td>2</td>\n",
       "      <td>ㅁㄴㅁ</td>\n",
       "    </tr>\n",
       "    <tr>\n",
       "      <td>264</td>\n",
       "      <td>암행국(어)사제도 신설</td>\n",
       "      <td>사회통합</td>\n",
       "      <td>2019.09.07</td>\n",
       "      <td>2019.12.05</td>\n",
       "      <td>5</td>\n",
       "      <td>청류</td>\n",
       "    </tr>\n",
       "    <tr>\n",
       "      <td>260</td>\n",
       "      <td>시간선택제공무원 근무시간 확대와 관련된 규정 개정 요청</td>\n",
       "      <td>일반행정</td>\n",
       "      <td>2019.09.04</td>\n",
       "      <td>2019.12.02</td>\n",
       "      <td>14</td>\n",
       "      <td>청운</td>\n",
       "    </tr>\n",
       "  </tbody>\n",
       "</table>\n",
       "</div>"
      ],
      "text/plain": [
       "                                 제목 제안 분야       제안 시작       제안 마감  투표 수  제안인\n",
       "id                                                                          \n",
       "279                       초과근무 줄이기!  일반행정  2019.10.16  2020.01.13     2  ㅁㄴㅁ\n",
       "264                    암행국(어)사제도 신설  사회통합  2019.09.07  2019.12.05     5   청류\n",
       "260  시간선택제공무원 근무시간 확대와 관련된 규정 개정 요청  일반행정  2019.09.04  2019.12.02    14   청운"
      ]
     },
     "execution_count": 24,
     "metadata": {},
     "output_type": "execute_result"
    }
   ],
   "source": [
    "#loc/ iloc\n",
    "#.loc[행, 이름, 칼럼 이름] : 명칭 기반 인덱싱\n",
    "#.iloc[행 위치, 칼럼 위치]: 위치 기반 인덱싱\n",
    "df.head(3)"
   ]
  },
  {
   "cell_type": "code",
   "execution_count": 25,
   "metadata": {},
   "outputs": [
    {
     "data": {
      "text/plain": [
       "id\n",
       "279    초과근무 줄이기!\n",
       "Name: 제목, dtype: object"
      ]
     },
     "execution_count": 25,
     "metadata": {},
     "output_type": "execute_result"
    }
   ],
   "source": [
    "#df.loc[278, '제목']\n",
    "#df.loc[278]\n",
    "df.loc[280:277, '제목']"
   ]
  },
  {
   "cell_type": "code",
   "execution_count": 20,
   "metadata": {},
   "outputs": [
    {
     "data": {
      "text/plain": [
       "제목        초과근무 줄이기!\n",
       "제안 분야          일반행정\n",
       "제안 시작    2019.10.16\n",
       "제안 마감    2020.01.13\n",
       "투표 수              2\n",
       "제안인             ㅁㄴㅁ\n",
       "Name: 279, dtype: object"
      ]
     },
     "execution_count": 20,
     "metadata": {},
     "output_type": "execute_result"
    }
   ],
   "source": [
    "df.loc[279]"
   ]
  },
  {
   "cell_type": "code",
   "execution_count": 26,
   "metadata": {},
   "outputs": [
    {
     "data": {
      "text/plain": [
       "제목       공무원 전입시험의 투명성 확보방안\n",
       "제안 분야                 반부패청렴\n",
       "제안 시작            2018.08.01\n",
       "제안 마감            2018.08.31\n",
       "투표 수                      7\n",
       "제안인                 음지가양지된다\n",
       "Name: 2, dtype: object"
      ]
     },
     "execution_count": 26,
     "metadata": {},
     "output_type": "execute_result"
    }
   ],
   "source": [
    "df.iloc[2,0]\n",
    "df.iloc[-1]"
   ]
  },
  {
   "cell_type": "code",
   "execution_count": 31,
   "metadata": {},
   "outputs": [
    {
     "data": {
      "text/plain": [
       "제목       NaN\n",
       "제안 분야    NaN\n",
       "제안 시작    NaN\n",
       "제안 마감    NaN\n",
       "투표 수     NaN\n",
       "제안인      NaN\n",
       "Name: 216, dtype: object"
      ]
     },
     "execution_count": 31,
     "metadata": {},
     "output_type": "execute_result"
    }
   ],
   "source": [
    "df.loc[216] = np.nan\n",
    "df.loc[216]"
   ]
  },
  {
   "cell_type": "code",
   "execution_count": 37,
   "metadata": {},
   "outputs": [],
   "source": [
    "df.loc[227] = {'제목': '개학', '제안 분야': '기타', '제안 시간':'2020.5.26','제안 마감':'2020.5.27','투표 수':2000, '제안인':'꿀벌'}"
   ]
  },
  {
   "cell_type": "code",
   "execution_count": 42,
   "metadata": {},
   "outputs": [
    {
     "data": {
      "text/plain": [
       "제목          제목\n",
       "제안 분야    제안 분야\n",
       "제안 시작    제안 시간\n",
       "제안 마감    제안 마감\n",
       "투표 수      투표 수\n",
       "제안인        제안인\n",
       "Name: 227, dtype: object"
      ]
     },
     "execution_count": 42,
     "metadata": {},
     "output_type": "execute_result"
    }
   ],
   "source": [
    "df.loc[227]"
   ]
  },
  {
   "cell_type": "code",
   "execution_count": 43,
   "metadata": {},
   "outputs": [
    {
     "data": {
      "text/plain": [
       "제목       0\n",
       "제안 분야    0\n",
       "제안 시작    0\n",
       "제안 마감    0\n",
       "투표 수     0\n",
       "제안인      0\n",
       "dtype: int64"
      ]
     },
     "execution_count": 43,
     "metadata": {},
     "output_type": "execute_result"
    }
   ],
   "source": [
    "df.isna().sum()"
   ]
  },
  {
   "cell_type": "code",
   "execution_count": null,
   "metadata": {},
   "outputs": [],
   "source": [
    "df[df[]]"
   ]
  },
  {
   "cell_type": "code",
   "execution_count": null,
   "metadata": {},
   "outputs": [],
   "source": [
    "#fillna"
   ]
  },
  {
   "cell_type": "code",
   "execution_count": 44,
   "metadata": {},
   "outputs": [
    {
     "data": {
      "text/plain": [
       "제목       0\n",
       "제안 분야    0\n",
       "제안 시작    0\n",
       "제안 마감    0\n",
       "투표 수     0\n",
       "제안인      0\n",
       "dtype: int64"
      ]
     },
     "execution_count": 44,
     "metadata": {},
     "output_type": "execute_result"
    }
   ],
   "source": [
    "df = df.dropna()\n",
    "df.isna().sum()"
   ]
  },
  {
   "cell_type": "code",
   "execution_count": null,
   "metadata": {},
   "outputs": [],
   "source": []
  }
 ],
 "metadata": {
  "kernelspec": {
   "display_name": "Python 3",
   "language": "python",
   "name": "python3"
  },
  "language_info": {
   "codemirror_mode": {
    "name": "ipython",
    "version": 3
   },
   "file_extension": ".py",
   "mimetype": "text/x-python",
   "name": "python",
   "nbconvert_exporter": "python",
   "pygments_lexer": "ipython3",
   "version": "3.7.4"
  }
 },
 "nbformat": 4,
 "nbformat_minor": 2
}
