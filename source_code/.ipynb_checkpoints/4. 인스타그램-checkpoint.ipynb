{
 "cells": [
  {
   "cell_type": "code",
   "execution_count": 1,
   "metadata": {},
   "outputs": [],
   "source": [
    "from selenium import webdriver as wb\n",
    "from selenium.webdriver.common.keys import Keys\n",
    "from bs4 import BeautifulSoup as bs\n",
    "import time"
   ]
  },
  {
   "cell_type": "code",
   "execution_count": null,
   "metadata": {},
   "outputs": [],
   "source": [
    "url_main = 'https://www.instagram.com'\n",
    "url_sub = '/accounts/login/?hl=ko'\n",
    "\n",
    "login_after_url = 'https://www.instagram.com/explore/tags/python/'\n",
    "driver = wb.Chrome()\n",
    "\n",
    "#driver.get(url_main+url_sub)\n",
    "driver.get(login_after_url)"
   ]
  },
  {
   "cell_type": "code",
   "execution_count": null,
   "metadata": {},
   "outputs": [],
   "source": [
    "#검색어 입력\n",
    "input_search = driver.find_element_by_css_selector('input.XTCLo')\n",
    "input_search.send_keys('동명동')"
   ]
  },
  {
   "cell_type": "code",
   "execution_count": null,
   "metadata": {},
   "outputs": [],
   "source": [
    "soup = bs(driver.page_source,'html.parser')"
   ]
  },
  {
   "cell_type": "code",
   "execution_count": null,
   "metadata": {},
   "outputs": [],
   "source": [
    "#title가져오기\n",
    "keywords = soup.select('._28KuJ + div > div.uyeeR > span')\n",
    "print(\"태그 타이틀 개수 :\",len(keywords))\n",
    "\n",
    "#게시물 수 가져오기(게시물로 시작하는건 div태그 다른 글은 span태그)\n",
    "boardNum = soup.findAll('div',class_='Fy4o8')\n",
    "print(\"태그 게시물 개수 :\",len(boardNum))\n",
    "\n",
    "#주소 가져오기\n",
    "hrefs = soup.findAll('a',class_='yCE8d')\n",
    "print(\"전체 주소 개수 :\",len(hrefs))\n",
    "\n",
    "#주소안에 tags가 있는것들만 가지고오기\n",
    "new_hrefs = []\n",
    "for index in range(len(hrefs)):\n",
    "    if 'tags' in hrefs[index]['href']:\n",
    "        new_hrefs.append(hrefs[index])\n",
    "print(\"태그 주소 개수 :\",len(new_hrefs))"
   ]
  },
  {
   "cell_type": "code",
   "execution_count": null,
   "metadata": {},
   "outputs": [],
   "source": [
    "url_main = 'https://www.instagram.com'\n",
    "for index in range(len(keywords)):\n",
    "    print(\"검색된 키워드 :\",keywords[index].text)\n",
    "    print('키워드 주소 :',url_main+new_hrefs[index]['href'])\n",
    "    print(boardNum[index].text)\n",
    "    print('-'*50)"
   ]
  },
  {
   "cell_type": "markdown",
   "metadata": {},
   "source": [
    "## 첫번째 태그 들어가보기"
   ]
  },
  {
   "cell_type": "code",
   "execution_count": null,
   "metadata": {},
   "outputs": [],
   "source": [
    "driver.get(url_main+new_hrefs[0]['href'])\n",
    "time.sleep(3)"
   ]
  },
  {
   "cell_type": "markdown",
   "metadata": {},
   "source": [
    "### 첫 번째 게시글 클릭"
   ]
  },
  {
   "cell_type": "code",
   "execution_count": null,
   "metadata": {},
   "outputs": [],
   "source": [
    "btn_board = driver.find_element_by_class_name('eLAPa')#v1Nh3도 가능\n",
    "btn_board.click()"
   ]
  },
  {
   "cell_type": "code",
   "execution_count": null,
   "metadata": {},
   "outputs": [],
   "source": [
    "soup = bs(driver.page_source,'html.parser')"
   ]
  },
  {
   "cell_type": "markdown",
   "metadata": {},
   "source": [
    "### 작성자, 댓글 가지고오기"
   ]
  },
  {
   "cell_type": "code",
   "execution_count": null,
   "metadata": {},
   "outputs": [],
   "source": [
    "#작성자\n",
    "writer = soup.find('a',class_='sqdOP')\n",
    "\n",
    "#댓글작성자, 댓글내용\n",
    "commenters = soup.findAll('a',class_=\"sqdOP\")[1:] #첫번째사람은 작성자니 제외\n",
    "comments = soup.select('._6lAjh + span')\n",
    "\n",
    "print(\"작성자 : \",writer.text)\n",
    "print(\"댓글 작성자 및 개수 :\",len(commenters),len(comments))"
   ]
  },
  {
   "cell_type": "code",
   "execution_count": null,
   "metadata": {},
   "outputs": [],
   "source": [
    "for index in range(len(commenters)):\n",
    "    print('작성자 :',commenters[index].text)\n",
    "    print('댓글 :',comments[index].text)\n",
    "    print('-'*30)"
   ]
  },
  {
   "cell_type": "markdown",
   "metadata": {},
   "source": [
    "### 작성자, 댓글 가져오기 함수로 만들기"
   ]
  },
  {
   "cell_type": "code",
   "execution_count": null,
   "metadata": {},
   "outputs": [],
   "source": [
    "def comment_def():\n",
    "    #현재 페이지로 긁어오기\n",
    "    soup = bs(driver.page_source,'html.parser')\n",
    "    \n",
    "    #작성자\n",
    "    writer = soup.find('a',class_='sqdOP')\n",
    "\n",
    "    #댓글작성자, 댓글내용\n",
    "    commenters = soup.findAll('a',class_=\"sqdOP\")[1:]\n",
    "    comments = soup.select('._6lAjh + span')\n",
    "\n",
    "    for index in range(len(commenters)):\n",
    "        print('작성자 :',commenters[index].text)\n",
    "        print('댓글 :',comments[index].text)\n",
    "        print('-'*30)"
   ]
  },
  {
   "cell_type": "code",
   "execution_count": null,
   "metadata": {},
   "outputs": [],
   "source": [
    "comment_def()"
   ]
  },
  {
   "cell_type": "markdown",
   "metadata": {},
   "source": [
    "### 옆으로 넘기기 함수"
   ]
  },
  {
   "cell_type": "code",
   "execution_count": null,
   "metadata": {},
   "outputs": [],
   "source": [
    "def nextMove():\n",
    "    driver.find_element_by_class_name('_65Bje').click()\n",
    "    time.sleep(2)"
   ]
  },
  {
   "cell_type": "code",
   "execution_count": null,
   "metadata": {},
   "outputs": [],
   "source": [
    "nextMove()"
   ]
  },
  {
   "cell_type": "markdown",
   "metadata": {},
   "source": [
    "## 자동으로 넘어가면서 긁어오기"
   ]
  },
  {
   "cell_type": "code",
   "execution_count": null,
   "metadata": {},
   "outputs": [],
   "source": [
    "for i in range(10):\n",
    "    nextMove()\n",
    "    comment_def()"
   ]
  },
  {
   "cell_type": "markdown",
   "metadata": {
    "collapsed": true
   },
   "source": [
    "# 해시태그만 긁어오기"
   ]
  },
  {
   "cell_type": "code",
   "execution_count": null,
   "metadata": {},
   "outputs": [],
   "source": [
    "\"\"\"해시태그에 띄어쓰기가 없는경우 문제가 있음\"\"\"\n",
    "def comment_hash_def():\n",
    "    #현재 페이지로 긁어오기\n",
    "    soup = bs(driver.page_source,'html.parser')\n",
    "    \n",
    "    #모든 댓글 긁어오기 해시태그 위치가 항상 다름\n",
    "    comments = soup.select('._6lAjh + span')\n",
    "    \n",
    "    hashtag = []\n",
    "    for comment in comments:\n",
    "        #띄어쓰기 기준으로 자르기\n",
    "        words = comment.text.split()\n",
    "\n",
    "        for word in words:\n",
    "            #'#'이 있는것만 가져오기\n",
    "            if '#' in word:\n",
    "                #print(word)\n",
    "                hashtag.append(word)\n",
    "                \n",
    "    return hashtag\n"
   ]
  },
  {
   "cell_type": "code",
   "execution_count": null,
   "metadata": {},
   "outputs": [],
   "source": [
    "#리스트로 반환\n",
    "comment_hash_def() "
   ]
  },
  {
   "cell_type": "code",
   "execution_count": null,
   "metadata": {},
   "outputs": [],
   "source": [
    "\"\"\"이동하면서 해시태그 수집\"\"\"\n",
    "for i in range(5):\n",
    "    nextMove()\n",
    "    for tag in comment_hash_def():\n",
    "        print(tag)"
   ]
  },
  {
   "cell_type": "markdown",
   "metadata": {},
   "source": [
    "# 해시태그 완벽하게 가져오기"
   ]
  },
  {
   "cell_type": "code",
   "execution_count": null,
   "metadata": {},
   "outputs": [],
   "source": [
    "\"\"\"띄어쓰기가 안되어있는 문제 해결 tag_preprocessiong\"\"\"\n",
    "def tag_preprocessiong(ss):\n",
    "    \n",
    "    tag_list = []\n",
    "    for s in ss:\n",
    "        while True:\n",
    "            hash1 = s.find(\"#\")#첫번째 #\n",
    "            hash2 = s.find(\"#\",hash1+1)# 첫번째 # 이후 다음 # 찾아보기\n",
    "            \n",
    "            if hash2==-1:\n",
    "                tag_list.append(s[hash1:].strip())\n",
    "            else:\n",
    "                tag_list.append(s[hash1:hash2].strip())\n",
    "            \n",
    "            s = s[hash2:]\n",
    "\n",
    "            if len(s)==1:\n",
    "                break\n",
    "    return tag_list\n",
    "\n",
    "def comment_hash_def():\n",
    "    #현재 페이지로 긁어오기\n",
    "    soup = bs(driver.page_source,'html.parser')\n",
    "    \n",
    "    #모든 댓글 긁어오기 해시태그 위치가 항상 다름\n",
    "    comments = soup.select('._6lAjh + span')\n",
    "    \n",
    "    hashtag = []\n",
    "    for comment in comments:\n",
    "        #띄어쓰기 기준으로 자르기\n",
    "        word_split = comment.text.split()\n",
    "        \n",
    "        # 위의함수추가\n",
    "        words = tag_preprocessiong(word_split)\n",
    "        \n",
    "        for word in words:\n",
    "            #'#'이 있는것만 가져오기\n",
    "            if '#' in word:\n",
    "                #print(word)\n",
    "                hashtag.append(word)\n",
    "                \n",
    "    return hashtag"
   ]
  },
  {
   "cell_type": "code",
   "execution_count": null,
   "metadata": {},
   "outputs": [],
   "source": [
    "comment_hash_def()"
   ]
  },
  {
   "cell_type": "code",
   "execution_count": null,
   "metadata": {},
   "outputs": [],
   "source": [
    "\"\"\"이동하면서 해시태그 수집\"\"\"\n",
    "for i in range(5):\n",
    "    nextMove()\n",
    "    for tag in comment_hash_def():\n",
    "        print(tag)"
   ]
  }
 ],
 "metadata": {
  "kernelspec": {
   "display_name": "Python 3",
   "language": "python",
   "name": "python3"
  },
  "language_info": {
   "codemirror_mode": {
    "name": "ipython",
    "version": 3
   },
   "file_extension": ".py",
   "mimetype": "text/x-python",
   "name": "python",
   "nbconvert_exporter": "python",
   "pygments_lexer": "ipython3",
   "version": "3.7.4"
  }
 },
 "nbformat": 4,
 "nbformat_minor": 2
}
