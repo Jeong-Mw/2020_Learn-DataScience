{
 "cells": [
  {
   "cell_type": "code",
   "execution_count": 10,
   "metadata": {},
   "outputs": [],
   "source": [
    "from selenium import webdriver as wb\n",
    "from selenium.webdriver.common.keys import Keys\n",
    "from bs4 import BeautifulSoup as bs\n",
    "import time"
   ]
  },
  {
   "cell_type": "code",
   "execution_count": 11,
   "metadata": {},
   "outputs": [],
   "source": [
    "url_main = 'https://www.instagram.com'\n",
    "url_sub = '/accounts/login/?hl=ko'\n",
    "\n",
    "login_after_url = 'https://www.instagram.com/explore/tags/python/'\n",
    "driver = wb.Chrome()\n",
    "\n",
    "#driver.get(url_main+url_sub)\n",
    "driver.get(login_after_url)"
   ]
  },
  {
   "cell_type": "code",
   "execution_count": 12,
   "metadata": {},
   "outputs": [],
   "source": [
    "#검색어 입력\n",
    "input_search = driver.find_element_by_css_selector('input.XTCLo')\n",
    "input_search.send_keys('동명동')"
   ]
  },
  {
   "cell_type": "code",
   "execution_count": 13,
   "metadata": {},
   "outputs": [],
   "source": [
    "soup = bs(driver.page_source,'html.parser')"
   ]
  },
  {
   "cell_type": "code",
   "execution_count": 14,
   "metadata": {},
   "outputs": [
    {
     "name": "stdout",
     "output_type": "stream",
     "text": [
      "태그 타이틀 개수 : 15\n",
      "태그 게시물 개수 : 15\n",
      "전체 주소 개수 : 55\n",
      "태그 주소 개수 : 15\n"
     ]
    }
   ],
   "source": [
    "#title가져오기\n",
    "keywords = soup.select('._28KuJ + div > div.uyeeR > span')\n",
    "print(\"태그 타이틀 개수 :\",len(keywords))\n",
    "\n",
    "#게시물 수 가져오기(게시물로 시작하는건 div태그 다른 글은 span태그)\n",
    "boardNum = soup.findAll('div',class_='Fy4o8')\n",
    "print(\"태그 게시물 개수 :\",len(boardNum))\n",
    "\n",
    "#주소 가져오기\n",
    "hrefs = soup.findAll('a',class_='yCE8d')\n",
    "print(\"전체 주소 개수 :\",len(hrefs))\n",
    "\n",
    "#주소안에 tags가 있는것들만 가지고오기\n",
    "new_hrefs = []\n",
    "for index in range(len(hrefs)):\n",
    "    if 'tags' in hrefs[index]['href']:\n",
    "        new_hrefs.append(hrefs[index])\n",
    "print(\"태그 주소 개수 :\",len(new_hrefs))"
   ]
  },
  {
   "cell_type": "code",
   "execution_count": 15,
   "metadata": {},
   "outputs": [
    {
     "name": "stdout",
     "output_type": "stream",
     "text": [
      "검색된 키워드 : #동명동\n",
      "키워드 주소 : https://www.instagram.com/explore/tags/동명동/\n",
      "게시물 2,238,081\n",
      "--------------------------------------------------\n",
      "검색된 키워드 : #동명동맛집\n",
      "키워드 주소 : https://www.instagram.com/explore/tags/동명동맛집/\n",
      "게시물 313,172\n",
      "--------------------------------------------------\n",
      "검색된 키워드 : #동명동카페\n",
      "키워드 주소 : https://www.instagram.com/explore/tags/동명동카페/\n",
      "게시물 392,785\n",
      "--------------------------------------------------\n",
      "검색된 키워드 : #동명동술집\n",
      "키워드 주소 : https://www.instagram.com/explore/tags/동명동술집/\n",
      "게시물 50,820\n",
      "--------------------------------------------------\n",
      "검색된 키워드 : #동명동핫플\n",
      "키워드 주소 : https://www.instagram.com/explore/tags/동명동핫플/\n",
      "게시물 87,272\n",
      "--------------------------------------------------\n",
      "검색된 키워드 : #동명동맛집추천\n",
      "키워드 주소 : https://www.instagram.com/explore/tags/동명동맛집추천/\n",
      "게시물 39,615\n",
      "--------------------------------------------------\n",
      "검색된 키워드 : #동명동옷가게\n",
      "키워드 주소 : https://www.instagram.com/explore/tags/동명동옷가게/\n",
      "게시물 35,123\n",
      "--------------------------------------------------\n",
      "검색된 키워드 : #동명동카페추천\n",
      "키워드 주소 : https://www.instagram.com/explore/tags/동명동카페추천/\n",
      "게시물 4,517\n",
      "--------------------------------------------------\n",
      "검색된 키워드 : #동명동네일\n",
      "키워드 주소 : https://www.instagram.com/explore/tags/동명동네일/\n",
      "게시물 22,939\n",
      "--------------------------------------------------\n",
      "검색된 키워드 : #동명동마카롱\n",
      "키워드 주소 : https://www.instagram.com/explore/tags/동명동마카롱/\n",
      "게시물 15,525\n",
      "--------------------------------------------------\n",
      "검색된 키워드 : #동명동밥집\n",
      "키워드 주소 : https://www.instagram.com/explore/tags/동명동밥집/\n",
      "게시물 10,620\n",
      "--------------------------------------------------\n",
      "검색된 키워드 : #동명동빵집\n",
      "키워드 주소 : https://www.instagram.com/explore/tags/동명동빵집/\n",
      "게시물 8,502\n",
      "--------------------------------------------------\n",
      "검색된 키워드 : #동명동피가로\n",
      "키워드 주소 : https://www.instagram.com/explore/tags/동명동피가로/\n",
      "게시물 22,701\n",
      "--------------------------------------------------\n",
      "검색된 키워드 : #동명동맛집😋\n",
      "키워드 주소 : https://www.instagram.com/explore/tags/동명동맛집😋/\n",
      "게시물 12,005\n",
      "--------------------------------------------------\n",
      "검색된 키워드 : #동명동꽃집\n",
      "키워드 주소 : https://www.instagram.com/explore/tags/동명동꽃집/\n",
      "게시물 55,528\n",
      "--------------------------------------------------\n"
     ]
    }
   ],
   "source": [
    "url_main = 'https://www.instagram.com'\n",
    "for index in range(len(keywords)):\n",
    "    print(\"검색된 키워드 :\",keywords[index].text)\n",
    "    print('키워드 주소 :',url_main+new_hrefs[index]['href'])\n",
    "    print(boardNum[index].text)\n",
    "    print('-'*50)"
   ]
  },
  {
   "cell_type": "markdown",
   "metadata": {},
   "source": [
    "## 첫번째 태그 들어가보기"
   ]
  },
  {
   "cell_type": "code",
   "execution_count": 16,
   "metadata": {},
   "outputs": [],
   "source": [
    "driver.get(url_main+new_hrefs[0]['href'])\n",
    "time.sleep(3)"
   ]
  },
  {
   "cell_type": "markdown",
   "metadata": {},
   "source": [
    "### 첫 번째 게시글 클릭"
   ]
  },
  {
   "cell_type": "code",
   "execution_count": 18,
   "metadata": {},
   "outputs": [],
   "source": [
    "btn_board = driver.find_element_by_class_name('eLAPa')#v1Nh3도 가능\n",
    "btn_board.click()"
   ]
  },
  {
   "cell_type": "code",
   "execution_count": 19,
   "metadata": {},
   "outputs": [],
   "source": [
    "soup = bs(driver.page_source,'html.parser')"
   ]
  },
  {
   "cell_type": "markdown",
   "metadata": {},
   "source": [
    "### 작성자, 댓글 가지고오기"
   ]
  },
  {
   "cell_type": "code",
   "execution_count": 20,
   "metadata": {},
   "outputs": [
    {
     "name": "stdout",
     "output_type": "stream",
     "text": [
      "작성자 :  yexxi__\n",
      "댓글 작성자 및 개수 : 10 10\n"
     ]
    }
   ],
   "source": [
    "#작성자\n",
    "writer = soup.find('a',class_='sqdOP')\n",
    "\n",
    "#댓글작성자, 댓글내용\n",
    "commenters = soup.findAll('a',class_=\"sqdOP\")[1:] #첫번째사람은 작성자니 제외\n",
    "comments = soup.select('._6lAjh + span')\n",
    "\n",
    "print(\"작성자 : \",writer.text)\n",
    "print(\"댓글 작성자 및 개수 :\",len(commenters),len(comments))"
   ]
  },
  {
   "cell_type": "code",
   "execution_count": 21,
   "metadata": {},
   "outputs": [
    {
     "name": "stdout",
     "output_type": "stream",
     "text": [
      "작성자 : yexxi__\n",
      "댓글 : 주말에 왜 비 와 。。?\n",
      "------------------------------\n",
      "작성자 : yexxi__\n",
      "댓글 : ➰\n",
      "------------------------------\n",
      "작성자 : ssuni._.2\n",
      "댓글 : 안녕하세요  소셜미디어 디렉터 대표 유진선 입니다 ☺️ 좋은 제안 드릴 건데  잠시 dm 소통 가능하세요?\n",
      "------------------------------\n",
      "작성자 : by_ujinchoi\n",
      "댓글 : 와도 대\n",
      "------------------------------\n",
      "작성자 : etreingredient\n",
      "댓글 : 습하고 비 오는거 너무 싫어요 😩\n",
      "------------------------------\n",
      "작성자 : rmrrrmrm\n",
      "댓글 : 삐 사진 탈락입니다\n",
      "------------------------------\n",
      "작성자 : rmrrrmrm\n",
      "댓글 : 저 청바지 오랜만이군\n",
      "------------------------------\n",
      "작성자 : koomchukx2\n",
      "댓글 : 장마야 ㅅㅂ ㅠㅠ\n",
      "------------------------------\n",
      "작성자 : ozzl._\n",
      "댓글 : 내가 찍어준 거 키키\n",
      "------------------------------\n",
      "작성자 : uki_skin\n",
      "댓글 : 안녕하세요 뷰티디렉터 박상욱입니다.😄 #뷰티모델 & #크리에이터 제안 드릴 건데 잠시 dm 소통 가능하세요?\n",
      "------------------------------\n"
     ]
    }
   ],
   "source": [
    "for index in range(len(commenters)):\n",
    "    print('작성자 :',commenters[index].text)\n",
    "    print('댓글 :',comments[index].text)\n",
    "    print('-'*30)"
   ]
  },
  {
   "cell_type": "markdown",
   "metadata": {},
   "source": [
    "### 작성자, 댓글 가져오기 함수로 만들기"
   ]
  },
  {
   "cell_type": "code",
   "execution_count": 22,
   "metadata": {},
   "outputs": [],
   "source": [
    "def comment_def():\n",
    "    #현재 페이지로 긁어오기\n",
    "    soup = bs(driver.page_source,'html.parser')\n",
    "    \n",
    "    #작성자\n",
    "    writer = soup.find('a',class_='sqdOP')\n",
    "\n",
    "    #댓글작성자, 댓글내용\n",
    "    commenters = soup.findAll('a',class_=\"sqdOP\")[1:]\n",
    "    comments = soup.select('._6lAjh + span')\n",
    "\n",
    "    for index in range(len(commenters)):\n",
    "        print('작성자 :',commenters[index].text)\n",
    "        print('댓글 :',comments[index].text)\n",
    "        print('-'*30)"
   ]
  },
  {
   "cell_type": "code",
   "execution_count": 23,
   "metadata": {},
   "outputs": [
    {
     "name": "stdout",
     "output_type": "stream",
     "text": [
      "작성자 : yexxi__\n",
      "댓글 : 주말에 왜 비 와 。。?\n",
      "------------------------------\n",
      "작성자 : yexxi__\n",
      "댓글 : ➰\n",
      "------------------------------\n",
      "작성자 : ssuni._.2\n",
      "댓글 : 안녕하세요  소셜미디어 디렉터 대표 유진선 입니다 ☺️ 좋은 제안 드릴 건데  잠시 dm 소통 가능하세요?\n",
      "------------------------------\n",
      "작성자 : by_ujinchoi\n",
      "댓글 : 와도 대\n",
      "------------------------------\n",
      "작성자 : etreingredient\n",
      "댓글 : 습하고 비 오는거 너무 싫어요 😩\n",
      "------------------------------\n",
      "작성자 : rmrrrmrm\n",
      "댓글 : 삐 사진 탈락입니다\n",
      "------------------------------\n",
      "작성자 : rmrrrmrm\n",
      "댓글 : 저 청바지 오랜만이군\n",
      "------------------------------\n",
      "작성자 : koomchukx2\n",
      "댓글 : 장마야 ㅅㅂ ㅠㅠ\n",
      "------------------------------\n",
      "작성자 : ozzl._\n",
      "댓글 : 내가 찍어준 거 키키\n",
      "------------------------------\n",
      "작성자 : uki_skin\n",
      "댓글 : 안녕하세요 뷰티디렉터 박상욱입니다.😄 #뷰티모델 & #크리에이터 제안 드릴 건데 잠시 dm 소통 가능하세요?\n",
      "------------------------------\n"
     ]
    }
   ],
   "source": [
    "comment_def()"
   ]
  },
  {
   "cell_type": "markdown",
   "metadata": {},
   "source": [
    "### 옆으로 넘기기 함수"
   ]
  },
  {
   "cell_type": "code",
   "execution_count": 24,
   "metadata": {},
   "outputs": [],
   "source": [
    "def nextMove():\n",
    "    driver.find_element_by_class_name('_65Bje').click()\n",
    "    time.sleep(2)"
   ]
  },
  {
   "cell_type": "code",
   "execution_count": 25,
   "metadata": {},
   "outputs": [],
   "source": [
    "nextMove()"
   ]
  },
  {
   "cell_type": "markdown",
   "metadata": {},
   "source": [
    "## 자동으로 넘어가면서 긁어오기"
   ]
  },
  {
   "cell_type": "code",
   "execution_count": 26,
   "metadata": {},
   "outputs": [
    {
     "name": "stdout",
     "output_type": "stream",
     "text": [
      "작성자 : _young.ju_1\n",
      "댓글 : 꽃만 보면 힐끔👀\n",
      "------------------------------\n",
      "작성자 : coaldry\n",
      "댓글 : 눈 풀렸ㄷㅏ 아직 대낮인데\n",
      "------------------------------\n",
      "작성자 : coaldry\n",
      "댓글 : #팔로우 #선팔 #맞팔 #선팔맞팔 #선팔하면맞팔 #맞팔해요 #좋아요 #좋아요반사 #좋반 #좋튀 #소통 #소통해요 #인친 #피드 #셀기꾼 #카페 #광주 #수완지구 #동명동\n",
      "------------------------------\n",
      "작성자 : 153153a\n",
      "댓글 : 오늘의 교훈열심히 살자#문글로우\n",
      "------------------------------\n",
      "작성자 : ssuni._.2\n",
      "댓글 : 안녕하세요  소셜미디어 디렉터 대표 유진선 입니다 ☺️ 좋은 제안 드릴 건데  잠시 dm 소통 가능하세요?\n",
      "------------------------------\n",
      "작성자 : bottleflowerrr\n",
      "댓글 : ㅋ\n",
      "------------------------------\n",
      "작성자 : bsori_x5\n",
      "댓글 : ㅎ\n",
      "------------------------------\n",
      "작성자 : syeonkkim\n",
      "댓글 : ㅋ\n",
      "------------------------------\n",
      "작성자 : andarthesea\n",
      "댓글 : 응 아닐거 알아\n",
      "------------------------------\n",
      "작성자 : uki_skin\n",
      "댓글 : 안녕하세요 뷰티디렉터 박상욱입니다.😄 #뷰티모델 & #크리에이터 제안 드릴 건데 잠시 dm 소통 가능하세요?\n",
      "------------------------------\n",
      "작성자 : bbuny7343\n",
      "댓글 : 👍\n",
      "------------------------------\n",
      "작성자 : therealwonyongshin\n",
      "댓글 : 화이팅🔥🔥👏\n",
      "------------------------------\n",
      "작성자 : gonnal0vemi\n",
      "댓글 : 왜 풀이 죽언ㄱ어\n",
      "------------------------------\n",
      "작성자 : sigusdl\n",
      "댓글 : 이거 ㄹㅈㄷ 쌉존예~!~!~!~!\n",
      "------------------------------\n",
      "작성자 : jeonghun1904\n",
      "댓글 : 첫줄요❤️❤️\n",
      "------------------------------\n",
      "작성자 : jaeyunee_\n",
      "댓글 : 미쳤다 이거 너무 예쁜데\n",
      "------------------------------\n",
      "작성자 : gun_hee_ya\n",
      "댓글 : 아진짜존나예뻐너왜연예인안하냐고\n",
      "------------------------------\n",
      "작성자 : neul_e_beauty\n",
      "댓글 : 안녕하세요 헬시디렉터 대표 민하늘 입니다. 좋은 제안 드릴 건데 잠시 소통 가능하세요?\n",
      "------------------------------\n",
      "작성자 : bi_nn_ni\n",
      "댓글 : 연예인사진뜬줄알고 차단박을뻔\n",
      "------------------------------\n",
      "작성자 : hyunnnn__ji\n",
      "댓글 : 호엥 언니 대박이네요 ..\n",
      "------------------------------\n",
      "작성자 : yl._.12\n",
      "댓글 : 개이뻐\n",
      "------------------------------\n",
      "작성자 : i_am_a_religion_itself\n",
      "댓글 : 진짜 항상 신기한게 자기 사진은 남자인 친구들이 찝적 거릴 만도 한데 그런 댓글이 하나도 없고 다 여자인 친구분들 칭찬만 있어 신기해\n",
      "------------------------------\n",
      "작성자 : ushouldseeme1nacrown\n",
      "댓글 : 개이쁘네 미친\n",
      "------------------------------\n",
      "작성자 : _h.juuuu\n",
      "댓글 : 언니,, 🥺❤️\n",
      "------------------------------\n",
      "작성자 : uki_land\n",
      "댓글 : 안녕하세요 뷰티디렉터 박상욱입니다.😄 #뷰티모델 & #크리에이터 제안 드릴 건데 잠시 dm 소통 가능하세요?\n",
      "------------------------------\n",
      "작성자 : _young.ju_1\n",
      "댓글 : 요즘 내 최애템\n",
      "------------------------------\n",
      "작성자 : bongsxx\n",
      "댓글 : 머리털 난 너구리라능\n",
      "------------------------------\n",
      "작성자 : j_je.e\n",
      "댓글 : 와 굿👍🏻\n",
      "------------------------------\n",
      "작성자 : _future_r\n",
      "댓글 : 머리털난고양이라능~\n",
      "------------------------------\n",
      "작성자 : focu5onme\n",
      "댓글 : 너구리 불쌍해 ..\n",
      "------------------------------\n",
      "작성자 : aziz_r4is\n",
      "댓글 : F4f🔥L4l🔥Sdv\n",
      "------------------------------\n",
      "작성자 : hyo_.00\n",
      "댓글 : 아 진심 언니 눈동자에 치얼쓰,,🥂개옙부다,,\n",
      "------------------------------\n",
      "작성자 : somssommi\n",
      "댓글 : 개이뻐ㅠㅠ😵\n",
      "------------------------------\n",
      "작성자 : m_s_o_j\n",
      "댓글 : 진챠예뿌다 너\n",
      "------------------------------\n",
      "작성자 : hantori_0\n",
      "댓글 : 오 예뽀 !̄̈!̄̈!\n",
      "------------------------------\n",
      "작성자 : 2.sull\n",
      "댓글 : 전나이뻐,,\n",
      "------------------------------\n",
      "작성자 : blossomsongji\n",
      "댓글 : 무슨너구리가이렇게이뻐여\n",
      "------------------------------\n",
      "작성자 : zzi_o_r\n",
      "댓글 : ㅋㅋㅋㅋ아 왤케 웃기냐 몽총아 보구팡\n",
      "------------------------------\n",
      "작성자 : uki_land\n",
      "댓글 : 안녕하세요 뷰티디렉터 박상욱입니다.😄 #뷰티모델 & #크리에이터 제안 드릴 건데 잠시 dm 소통 가능하세요?\n",
      "------------------------------\n",
      "작성자 : guembling\n",
      "댓글 : 윙크으😉\n",
      "------------------------------\n",
      "작성자 : bin.belief\n",
      "댓글 : 체력이 재력이다💪..........................#일상 #소통 #인친 #ootd #jeju #dailylook #헬스타그램 #여수 #공감 #대구#논현#명동#성수동#좋아요반사 #대전#한강 #구시청 #홍대 #해운대 #selfie #압구정맛집 #부산 #인테리어 #먹스타그램🍴 #상무지구 #맞팔 #선팔 #selca #홈트 #동명동\n",
      "------------------------------\n",
      "작성자 : maeng_morning\n",
      "댓글 : 안녕? 자가진단했어? 저쪽으로 가세욤~~!\n",
      "------------------------------\n",
      "작성자 : maeng_morning\n",
      "댓글 : #팔로우#선팔#맞팔#선팔맞팔#선팔하면맞팔#맞팔해요#좋아요#좋아요반사#좋반#좋튀#소통#소통해요#인친#피드#셀기꾼#카페#목포#광주#신림#홍대#동명동#구월동#인계동#두정동#세종#유정#둔산동#상남동#동성로#상무지구\n",
      "------------------------------\n",
      "작성자 : simplecube_gwangju\n",
      "댓글 : 심플큐브는 당신의특별한 순간을 담습니다 🤍🤍.게스트분들이 함께 참여하고 즐기는신나는 파티로 만들어드립니다 ✨#포토부스#포토방명록\n",
      "------------------------------\n",
      "작성자 : simplecube_gwangju\n",
      "댓글 : #광주웨딩준비#광주드레스#광주웨딩홀추천#드메르#위더스#까사디루체웨딩홀#제이아트웨딩홀#라페스타웨딩홀#순천웨딩#상무지구#동명동#좋아요#좋아요반사#좋반#팔로우#맞팔#선팔하면맞팔#fff#f4f#다렉\n",
      "------------------------------\n"
     ]
    }
   ],
   "source": [
    "for i in range(10):\n",
    "    nextMove()\n",
    "    comment_def()"
   ]
  },
  {
   "cell_type": "markdown",
   "metadata": {
    "collapsed": true
   },
   "source": [
    "# 해시태그만 긁어오기"
   ]
  },
  {
   "cell_type": "code",
   "execution_count": 27,
   "metadata": {},
   "outputs": [],
   "source": [
    "\"\"\"해시태그에 띄어쓰기가 없는경우 문제가 있음\"\"\"\n",
    "def comment_hash_def():\n",
    "    #현재 페이지로 긁어오기\n",
    "    soup = bs(driver.page_source,'html.parser')\n",
    "    \n",
    "    #모든 댓글 긁어오기 해시태그 위치가 항상 다름\n",
    "    comments = soup.select('._6lAjh + span')\n",
    "    \n",
    "    hashtag = []\n",
    "    for comment in comments:\n",
    "        #띄어쓰기 기준으로 자르기\n",
    "        words = comment.text.split()\n",
    "\n",
    "        for word in words:\n",
    "            #'#'이 있는것만 가져오기\n",
    "            if '#' in word:\n",
    "                #print(word)\n",
    "                hashtag.append(word)\n",
    "                \n",
    "    return hashtag\n"
   ]
  },
  {
   "cell_type": "code",
   "execution_count": 28,
   "metadata": {},
   "outputs": [
    {
     "data": {
      "text/plain": [
       "['✨#포토부스#포토방명록',\n",
       " '#광주웨딩준비#광주드레스#광주웨딩홀추천#드메르#위더스#까사디루체웨딩홀#제이아트웨딩홀#라페스타웨딩홀#순천웨딩#상무지구#동명동#좋아요#좋아요반사#좋반#팔로우#맞팔#선팔하면맞팔#fff#f4f#다렉']"
      ]
     },
     "execution_count": 28,
     "metadata": {},
     "output_type": "execute_result"
    }
   ],
   "source": [
    "#리스트로 반환\n",
    "comment_hash_def() "
   ]
  },
  {
   "cell_type": "code",
   "execution_count": 29,
   "metadata": {},
   "outputs": [
    {
     "name": "stdout",
     "output_type": "stream",
     "text": [
      ".#나만의문구\n",
      "#나만의케이크\n",
      "#맛있다.특별한날\n",
      "1800-1749.#레터링케이크\n",
      "#타르트\n",
      "#광주케이크\n",
      "#광주맘\n",
      "#광주맛집\n",
      "#수완지구맛집\n",
      "#케이크맛집\n",
      "#광주핫플\n",
      "#퀸즈퀸즈#특별한날#생일선물\n",
      "#생일축하\n",
      "#데이트\n",
      "#양림동맛집\n",
      "#동명동\n",
      "#광주카페\n",
      "#광주빵집\n",
      "#빵순이#빵지순례\n",
      ".#나만의문구\n",
      "#나만의케이크\n",
      "#맛있다.특별한날\n",
      "1800-1749.#레터링케이크\n",
      "#타르트\n",
      "#광주케이크\n",
      "#광주맘\n",
      "#광주맛집\n",
      "#수완지구맛집\n",
      "#케이크맛집\n",
      "#광주핫플\n",
      "#퀸즈퀸즈#특별한날#생일선물\n",
      "#생일축하\n",
      "#데이트\n",
      "#양림동맛집\n",
      "#동명동\n",
      "#광주카페\n",
      "#광주빵집\n",
      "#빵순이#빵지순례\n",
      "부탁드립니다.---------#cake#flowercake#beancreamflower#flower#앙금플라워#떡케이크#광주예쁜떡케이크#광주예쁜케이크#광주앙금플라워#전남앙금플라워#작약파이핑#광양앙금플라워#광주어버이날#봉선동떡케익#봉선동케이크#광주맘#봉선동케이크#beanpastecreamcake#반전케이크#광주반전케이크#광주용돈케이크#동명동#양림동#광주케이크\n",
      "#광주#수완지구#첨단#상무지구#동명동#충장로#광주네일#광주네일샵#수완지구네일#수완지구네일샵#첨단네일#상무지구네일#젤네일#네일#네일아트#웨딩네일#젤패디#패디큐어#패디#광주맘#육아맘#일상#힐링#블랑네일#nail#화려한네일#무광네일#이달의아트#봄네일#봄패디\n",
      "#반팔블라우스\n",
      "#숏블라우스\n",
      "#프릴블라우스\n",
      "#여행\n",
      "#일상룩\n",
      "#화이트블라우스\n",
      "#셔링블라우스\n",
      "#커플티\n",
      "#데일리룩\n",
      "#일상\n",
      "#셀카\n",
      "#셀피\n",
      "#얼스타그램\n",
      "#데일리\n",
      "#오오티디\n",
      "#fashion\n",
      "#selfie\n",
      "#뷰티\n",
      "#패션\n",
      "#선팔\n",
      "#좋아요반사\n",
      "#여성쇼핑몰\n",
      "#ootd\n",
      "#간절기신상\n",
      "#패션스타그램\n",
      "#동명동\n",
      "#광안리\n",
      "#카페\n",
      "#광주옷가게\n",
      "#블라우스맛집\n"
     ]
    }
   ],
   "source": [
    "\"\"\"이동하면서 해시태그 수집\"\"\"\n",
    "for i in range(5):\n",
    "    nextMove()\n",
    "    for tag in comment_hash_def():\n",
    "        print(tag)"
   ]
  },
  {
   "cell_type": "markdown",
   "metadata": {},
   "source": [
    "# 해시태그 완벽하게 가져오기"
   ]
  },
  {
   "cell_type": "code",
   "execution_count": 30,
   "metadata": {},
   "outputs": [],
   "source": [
    "\"\"\"띄어쓰기가 안되어있는 문제 해결 tag_preprocessiong\"\"\"\n",
    "def tag_preprocessiong(ss):\n",
    "    \n",
    "    tag_list = []\n",
    "    for s in ss:\n",
    "        while True:\n",
    "            hash1 = s.find(\"#\")#첫번째 #\n",
    "            hash2 = s.find(\"#\",hash1+1)# 첫번째 # 이후 다음 # 찾아보기\n",
    "            \n",
    "            if hash2==-1:\n",
    "                tag_list.append(s[hash1:].strip())\n",
    "            else:\n",
    "                tag_list.append(s[hash1:hash2].strip())\n",
    "            \n",
    "            s = s[hash2:]\n",
    "\n",
    "            if len(s)==1:\n",
    "                break\n",
    "    return tag_list\n",
    "\n",
    "def comment_hash_def():\n",
    "    #현재 페이지로 긁어오기\n",
    "    soup = bs(driver.page_source,'html.parser')\n",
    "    \n",
    "    #모든 댓글 긁어오기 해시태그 위치가 항상 다름\n",
    "    comments = soup.select('._6lAjh + span')\n",
    "    \n",
    "    hashtag = []\n",
    "    for comment in comments:\n",
    "        #띄어쓰기 기준으로 자르기\n",
    "        word_split = comment.text.split()\n",
    "        \n",
    "        # 위의함수추가\n",
    "        words = tag_preprocessiong(word_split)\n",
    "        \n",
    "        for word in words:\n",
    "            #'#'이 있는것만 가져오기\n",
    "            if '#' in word:\n",
    "                #print(word)\n",
    "                hashtag.append(word)\n",
    "                \n",
    "    return hashtag"
   ]
  },
  {
   "cell_type": "code",
   "execution_count": 31,
   "metadata": {},
   "outputs": [
    {
     "data": {
      "text/plain": [
       "['#반팔블라우스',\n",
       " '#숏블라우스',\n",
       " '#프릴블라우스',\n",
       " '#여행',\n",
       " '#일상룩',\n",
       " '#화이트블라우스',\n",
       " '#셔링블라우스',\n",
       " '#커플티',\n",
       " '#데일리룩',\n",
       " '#일상',\n",
       " '#셀카',\n",
       " '#셀피',\n",
       " '#얼스타그램',\n",
       " '#데일리',\n",
       " '#오오티디',\n",
       " '#fashion',\n",
       " '#selfie',\n",
       " '#뷰티',\n",
       " '#패션',\n",
       " '#선팔',\n",
       " '#좋아요반사',\n",
       " '#여성쇼핑몰',\n",
       " '#ootd',\n",
       " '#간절기신상',\n",
       " '#패션스타그램',\n",
       " '#동명동',\n",
       " '#광안리',\n",
       " '#카페',\n",
       " '#광주옷가게',\n",
       " '#블라우스맛집']"
      ]
     },
     "execution_count": 31,
     "metadata": {},
     "output_type": "execute_result"
    }
   ],
   "source": [
    "comment_hash_def()"
   ]
  },
  {
   "cell_type": "code",
   "execution_count": 32,
   "metadata": {},
   "outputs": [
    {
     "name": "stdout",
     "output_type": "stream",
     "text": [
      "#셀카\n",
      "#일상\n",
      "#셀스타그램\n",
      "#데일리\n",
      "#소통\n",
      "#퇴근\n",
      "#출근\n",
      "#회사\n",
      "#직장인\n",
      "#일\n",
      "#휴일\n",
      "#광주\n",
      "#동명동\n",
      "#강남역\n",
      "#상무지구\n",
      "#한강\n",
      "#가로수길\n",
      "#홍대\n",
      "#건대\n",
      "#잠실\n",
      "#맞팔\n",
      "#선팔\n",
      "#인친\n",
      "#팔로우\n",
      "#좋아요\n",
      "#daily\n",
      "#follow\n",
      "#instagram\n",
      "#sactions\n",
      "#동명동\n",
      "#대화\n",
      "#남산\n",
      "#동대문\n",
      "#치평동\n",
      "#양주\n",
      "#신당동\n",
      "#목동\n",
      "#신기\n",
      "#춘천\n",
      "#중앙로\n",
      "#목포\n",
      "#광주\n",
      "#카페\n",
      "#조대후문\n",
      "#카페야그\n",
      "#화이트쉬폰커튼\n",
      "#분위기맛집\n",
      "#지산동\n",
      "#동명동\n",
      "#인쇄소\n",
      "#패션후르츠\n",
      "#딸기라떼\n",
      "#런칭예정\n"
     ]
    }
   ],
   "source": [
    "\"\"\"이동하면서 해시태그 수집\"\"\"\n",
    "for i in range(5):\n",
    "    nextMove()\n",
    "    for tag in comment_hash_def():\n",
    "        print(tag)"
   ]
  },
  {
   "cell_type": "code",
   "execution_count": null,
   "metadata": {},
   "outputs": [],
   "source": []
  }
 ],
 "metadata": {
  "kernelspec": {
   "display_name": "Python 3",
   "language": "python",
   "name": "python3"
  },
  "language_info": {
   "codemirror_mode": {
    "name": "ipython",
    "version": 3
   },
   "file_extension": ".py",
   "mimetype": "text/x-python",
   "name": "python",
   "nbconvert_exporter": "python",
   "pygments_lexer": "ipython3",
   "version": "3.7.4"
  }
 },
 "nbformat": 4,
 "nbformat_minor": 2
}
