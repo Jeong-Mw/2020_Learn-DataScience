{
 "cells": [
  {
   "cell_type": "code",
   "execution_count": 1,
   "metadata": {},
   "outputs": [],
   "source": [
    "#크롤링 실습"
   ]
  },
  {
   "cell_type": "code",
   "execution_count": 3,
   "metadata": {},
   "outputs": [],
   "source": [
    "from urllib.request import urlopen\n",
    "from bs4 import BeautifulSoup"
   ]
  },
  {
   "cell_type": "code",
   "execution_count": 4,
   "metadata": {},
   "outputs": [],
   "source": [
    "url = 'https://www.innogov.go.kr/ucms/ogp/sug/list.do?pnum=1&menuNo=300011'"
   ]
  },
  {
   "cell_type": "code",
   "execution_count": 5,
   "metadata": {},
   "outputs": [],
   "source": [
    "html = urlopen(url)"
   ]
  },
  {
   "cell_type": "code",
   "execution_count": 6,
   "metadata": {},
   "outputs": [],
   "source": [
    "soup = BeautifulSoup(html, 'html.parser')"
   ]
  },
  {
   "cell_type": "code",
   "execution_count": 16,
   "metadata": {},
   "outputs": [
    {
     "name": "stdout",
     "output_type": "stream",
     "text": [
      "제목: 행정기관 소속 위원회 위원 개인정보 및 안건 공개 기준...\n",
      "링크: /ucms/ogp/sug/view.do?menuNo=300011&sgId=280&pnum=1\n"
     ]
    }
   ],
   "source": [
    "result = soup.select_one('#content > div.suggestion_list > ul > li:nth-child(1) > dl > dt > p > a')\n",
    "print(\"제목: \" + result.string)\n",
    "print(\"링크: \" + result.attrs.get('href'))"
   ]
  },
  {
   "cell_type": "code",
   "execution_count": 20,
   "metadata": {
    "scrolled": true
   },
   "outputs": [
    {
     "name": "stdout",
     "output_type": "stream",
     "text": [
      "제목: 행정기관 소속 위원회 위원 개인정보 및 안건 공개 기준...\n",
      "링크: /ucms/ogp/sug/view.do?menuNo=300011&sgId=280&pnum=1\n",
      "\n",
      "제목: 초과근무 줄이기!\n",
      "링크: /ucms/ogp/sug/view.do?menuNo=300011&sgId=279&pnum=1\n",
      "\n",
      "제목: 원스톱 의원요구자료 제출 시스템 구축\n",
      "링크: /ucms/ogp/sug/view.do?menuNo=300011&sgId=278&pnum=1\n",
      "\n",
      "제목: 예산을 공평하게 분배\n",
      "링크: /ucms/ogp/sug/view.do?menuNo=300011&sgId=277&pnum=1\n",
      "\n",
      "제목: 공무원 인트라넷 통합메신저\n",
      "링크: /ucms/ogp/sug/view.do?menuNo=300011&sgId=276&pnum=1\n",
      "\n"
     ]
    }
   ],
   "source": [
    "results = soup.select('#content > div.suggestion_list > ul > li > dl > dt > p > a')\n",
    "for i in results:\n",
    "    print(\"제목: \" + i.string)\n",
    "    print(\"링크: \" + i.attrs.get('href'))\n",
    "    print(\"\")"
   ]
  },
  {
   "cell_type": "code",
   "execution_count": 25,
   "metadata": {},
   "outputs": [
    {
     "name": "stdout",
     "output_type": "stream",
     "text": [
      "크롤링 페이지 입력 : 3\n",
      "\n",
      "1 페이지\n",
      "\n",
      "제목: 행정기관 소속 위원회 위원 개인정보 및 안건 공개 기준...\n",
      "링크: /ucms/ogp/sug/view.do?menuNo=300011&sgId=280&pnum=1\n",
      "\n",
      "제목: 초과근무 줄이기!\n",
      "링크: /ucms/ogp/sug/view.do?menuNo=300011&sgId=279&pnum=1\n",
      "\n",
      "제목: 원스톱 의원요구자료 제출 시스템 구축\n",
      "링크: /ucms/ogp/sug/view.do?menuNo=300011&sgId=278&pnum=1\n",
      "\n",
      "제목: 예산을 공평하게 분배\n",
      "링크: /ucms/ogp/sug/view.do?menuNo=300011&sgId=277&pnum=1\n",
      "\n",
      "제목: 공무원 인트라넷 통합메신저\n",
      "링크: /ucms/ogp/sug/view.do?menuNo=300011&sgId=276&pnum=1\n",
      "\n",
      "2 페이지\n",
      "\n",
      "제목: 임대아파트 이웃 주민들에게 피해를 주는 입주민에 대한 ...\n",
      "링크: /ucms/ogp/sug/view.do?menuNo=300011&sgId=275&pnum=2\n",
      "\n",
      "제목: 천차만별인 지역 유류가격을 지자체별로 저가 순위 주유소...\n",
      "링크: /ucms/ogp/sug/view.do?menuNo=300011&sgId=274&pnum=2\n",
      "\n",
      "제목: 행안부 생활공감정책추진단 제안에 대한 검토방식 개선\n",
      "링크: /ucms/ogp/sug/view.do?menuNo=300011&sgId=272&pnum=2\n",
      "\n",
      "제목: 주거형 오피스텔 차별 해소 필요\n",
      "링크: /ucms/ogp/sug/view.do?menuNo=300011&sgId=271&pnum=2\n",
      "\n",
      "제목: 국민연금불입금담보대출\n",
      "링크: /ucms/ogp/sug/view.do?menuNo=300011&sgId=270&pnum=2\n",
      "\n",
      "3 페이지\n",
      "\n",
      "제목: 한 말씀\n",
      "링크: /ucms/ogp/sug/view.do?menuNo=300011&sgId=269&pnum=3\n",
      "\n",
      "제목: 65세 경로대상자   사전안내\n",
      "링크: /ucms/ogp/sug/view.do?menuNo=300011&sgId=268&pnum=3\n",
      "\n",
      "제목: 한표.두표  10인 이내 투표 활용도   궁금!\n",
      "링크: /ucms/ogp/sug/view.do?menuNo=300011&sgId=267&pnum=3\n",
      "\n",
      "제목: 우리가  이용하는 식당 이상한점?\n",
      "링크: /ucms/ogp/sug/view.do?menuNo=300011&sgId=266&pnum=3\n",
      "\n",
      "제목: 빌고빌고 또 합니다\n",
      "링크: /ucms/ogp/sug/view.do?menuNo=300011&sgId=265&pnum=3\n",
      "\n"
     ]
    }
   ],
   "source": [
    "i = input(\"크롤링 페이지 입력 : \")\n",
    "print(\"\")\n",
    "p = int(i)\n",
    "n = 1;\n",
    "\n",
    "while n<=p:\n",
    "    url = f'https://www.innogov.go.kr/ucms/ogp/sug/list.do?pnum={n}&menuNo=300011#none'\n",
    "    html = urlopen(url)\n",
    "    soup = BeautifulSoup(html, 'html.parser')\n",
    "    results = soup.select('#content > div.suggestion_list > ul > li > dl > dt > p > a')\n",
    "    print(f\"{n} 페이지\")\n",
    "    print(\"\")\n",
    "    n+=1\n",
    "    for i in results:\n",
    "        print(\"제목: \" + i.string)\n",
    "        print(\"링크: \" + i.attrs.get('href'))\n",
    "        print(\"\")"
   ]
  },
  {
   "cell_type": "code",
   "execution_count": 29,
   "metadata": {},
   "outputs": [],
   "source": [
    "from urllib.parse import quote_plus"
   ]
  },
  {
   "cell_type": "code",
   "execution_count": 43,
   "metadata": {},
   "outputs": [
    {
     "name": "stdout",
     "output_type": "stream",
     "text": [
      "크롤링 페이지 입력 : 3\n",
      "Search Text : 200\n",
      "1 페이지\n",
      "제목: 가정양육수당 대폭 인상을 통한 보육예산 DOWN, 아이...\n",
      "링크: /ucms/ogp/sug/view.do?menuNo=300011&sgId=226&pnum=1\n",
      "제목: 조부모 아이돌봄 수당 지급\n",
      "링크: /ucms/ogp/sug/view.do?menuNo=300011&sgId=205&pnum=1\n",
      "제목: 가업상속제도 이대로 좋은가?\n",
      "링크: /ucms/ogp/sug/view.do?menuNo=300011&sgId=182&pnum=1\n",
      "제목: 시니어들은 대한민국 국민이라고 말할 수 있는가???\n",
      "링크: /ucms/ogp/sug/view.do?menuNo=300011&sgId=172&pnum=1\n",
      "제목: 담당자 제멋대로 운영되는 중소기업진흥공단(경기본부)의 ...\n",
      "링크: /ucms/ogp/sug/view.do?menuNo=300011&sgId=154&pnum=1\n",
      "\n",
      "2 페이지\n",
      "제목: 사회적경제 활성화를 위한 계약제도 개선 제안\n",
      "링크: /ucms/ogp/sug/view.do?menuNo=300011&sgId=152&pnum=2\n",
      "제목: 2019년 함안군문화시설사업소 기간제근로자(단순노무원)...\n",
      "링크: /ucms/ogp/sug/view.do?menuNo=300011&sgId=150&pnum=2\n",
      "제목: 유치원 무상교육 체계개선 제안서\n",
      "링크: /ucms/ogp/sug/view.do?menuNo=300011&sgId=130&pnum=2\n",
      "제목: 치매노인 알림 표식기능을 갖춘 위치추적 전자팔찌(가칭 ...\n",
      "링크: /ucms/ogp/sug/view.do?menuNo=300011&sgId=124&pnum=2\n",
      "제목: 부가가치세!!! 무조건 10%가 되어야만 하는 가***...\n",
      "링크: /ucms/ogp/sug/view.do?menuNo=300011&sgId=81&pnum=2\n",
      "\n",
      "3 페이지\n",
      "제목: 정부통합 일자리 창출 '통합 플랫폼' 구축\n",
      "링크: /ucms/ogp/sug/view.do?menuNo=300011&sgId=80&pnum=3\n",
      "제목: 서울특별시청소년수련관 직원정년나이 ,기관장(대표)과 같...\n",
      "링크: /ucms/ogp/sug/view.do?menuNo=300011&sgId=75&pnum=3\n",
      "제목: 난임지원확대 첫아이 횟수패지\n",
      "링크: /ucms/ogp/sug/view.do?menuNo=300011&sgId=64&pnum=3\n",
      "제목: 무허가축사 해결 위한 특별법 제정을 촉구합니다.\n",
      "링크: /ucms/ogp/sug/view.do?menuNo=300011&sgId=55&pnum=3\n",
      "제목: 사회적인 문제점 자동차급발진사고와 BMW 화재 사건에 ...\n",
      "링크: /ucms/ogp/sug/view.do?menuNo=300011&sgId=31&pnum=3\n",
      "\n"
     ]
    },
    {
     "data": {
      "text/plain": [
       "15"
      ]
     },
     "execution_count": 43,
     "metadata": {},
     "output_type": "execute_result"
    }
   ],
   "source": [
    "num = int(input(\"크롤링 페이지 입력 : \"))\n",
    "query = quote_plus(input(\"Search Text : \"))\n",
    "\n",
    "links = []\n",
    "\n",
    "for i in range(num):\n",
    "    url = f'http://www.innogov.go.kr/ucms/ogp/sug/list.do?pnum={i+1}&menuNo=300011&searchText={query}'\n",
    "\n",
    "    html = urlopen(url)\n",
    "    soup = BeautifulSoup(html, 'html.parser')\n",
    "\n",
    "    results = soup.select('#content > div.suggestion_list > ul > li > dl > dt > p > a')\n",
    "\n",
    "    print(f'{i + 1} 페이지')\n",
    "    for res in results:\n",
    "        print(\"제목: \" + res.string)\n",
    "        print(\"링크: \" + res.attrs.get('href'))\n",
    "        links.append(res.attrs.get('href'))\n",
    "    print()\n",
    "\n",
    "len(links)"
   ]
  },
  {
   "cell_type": "code",
   "execution_count": 45,
   "metadata": {},
   "outputs": [
    {
     "name": "stdout",
     "output_type": "stream",
     "text": [
      "크롤링 페이지 입력 : 3\n",
      "Search Text : 200\n"
     ]
    },
    {
     "data": {
      "text/plain": [
       "15"
      ]
     },
     "execution_count": 45,
     "metadata": {},
     "output_type": "execute_result"
    }
   ],
   "source": [
    "num = int(input(\"크롤링 페이지 입력 : \"))\n",
    "query = quote_plus(input(\"Search Text : \"))\n",
    "\n",
    "links = []\n",
    "\n",
    "for i in range(num):\n",
    "    url = f'http://www.innogov.go.kr/ucms/ogp/sug/list.do?pnum={i+1}&menuNo=300011&searchText={query}'\n",
    "\n",
    "    html = urlopen(url)\n",
    "    soup = BeautifulSoup(html, 'html.parser')\n",
    "\n",
    "    results = soup.select('#content > div.suggestion_list > ul > li > dl > dt > p > a')\n",
    "\n",
    "    for res in results:\n",
    "        links.append(res.attrs.get('href'))\n",
    "\n",
    "len(links)"
   ]
  },
  {
   "cell_type": "code",
   "execution_count": 53,
   "metadata": {},
   "outputs": [
    {
     "name": "stdout",
     "output_type": "stream",
     "text": [
      "3\n",
      "title : 예산을 공평하게 분배\n",
      "vote : 3\n"
     ]
    }
   ],
   "source": [
    "url = '/ucms/ogp/sug/view.do?menuNo=300011&sgId=277'\n",
    "baseurl = f'http://www.innogov.go.kr{url}'\n",
    "\n",
    "html = urlopen(baseurl)\n",
    "soup = BeautifulSoup(html, 'html.parser')\n",
    "\n",
    "counter = soup.select_one('#counter').string\n",
    "print(counter)\n",
    "\n",
    "title = soup.find('dl', class_='vveiw_titl1').find('dt').string\n",
    "\n",
    "vote = soup.select_one('#counter').string\n",
    "\n",
    "\n",
    "print(f\"title : {title}\")\n",
    "print(f'vote : {vote}')"
   ]
  },
  {
   "cell_type": "code",
   "execution_count": 63,
   "metadata": {},
   "outputs": [
    {
     "name": "stdout",
     "output_type": "stream",
     "text": [
      "title : 예산을 공평하게 분배\n",
      "vote : 3\n"
     ]
    },
    {
     "data": {
      "text/plain": [
       "'279'"
      ]
     },
     "execution_count": 63,
     "metadata": {},
     "output_type": "execute_result"
    }
   ],
   "source": [
    "url = 'https://www.innogov.go.kr/ucms/ogp/sug/view.do?menuNo=300011&sgId=279&pnum=1'\n",
    "# url = '/ucms/ogp/sug/view.do?menuNo=300011&sgId=277'\n",
    "# baseurl = f'http://www.innogov.go.kr{url}'\n",
    "\n",
    "html = urlopen(baseurl)\n",
    "soup = BeautifulSoup(html, 'html.parser')\n",
    "\n",
    "title = soup.find('dl', class_='vveiw_titl1').find('dt').string\n",
    "vote = soup.select_one('#counter').string\n",
    "\n",
    "\n",
    "print(f\"title : {title}\")\n",
    "print(f'vote : {vote}')\n",
    "\n",
    "url.split('=')[2].split('&')[0]"
   ]
  },
  {
   "cell_type": "code",
   "execution_count": 80,
   "metadata": {},
   "outputs": [],
   "source": [
    "def get(url):    \n",
    "    baseurl = f'http://www.innogov.go.kr{url}'\n",
    "    \n",
    "    html = urlopen(baseurl)\n",
    "    soup = BeautifulSoup(html, 'html.parser')\n",
    "    \n",
    "    data = []\n",
    "    \n",
    "    data.append(url.split('=')[-2].split('&')[0])\n",
    "    data.append(soup.select_one('#content > div.vveiw_box1 > dl > dt').string)\n",
    "    data.append(soup.select_one('#content > div.vveiw_box1 > div.vveiw_name > ul > li:nth-child(1) > dl > dd').string)\n",
    "    data.append(soup.select_one('#content > div.vveiw_box1 > div.vveiw_name > ul > li:nth-child(2) > dl > dd').string)\n",
    "    data.append(soup.select_one('#content > div.vveiw_box1 > div.vveiw_name > ul > li:nth-child(3) > dl > dd').string)\n",
    "    data.append(soup.select_one('#counter').string)\n",
    "    data.append(soup.select_one('#content > div.vveiw_box1 > div.vveiw_name > ul > li:nth-child(4) > dl > dd').string)\n",
    "\n",
    "    return data"
   ]
  },
  {
   "cell_type": "code",
   "execution_count": 81,
   "metadata": {},
   "outputs": [
    {
     "name": "stdout",
     "output_type": "stream",
     "text": [
      "['136', '대국민 정부성과 전파방법', '기타', '2018.12.31', '2019.03.30', '3', '연하의숨결']\n"
     ]
    }
   ],
   "source": [
    "print(get('/ucms/ogp/sug/view.do?menuNo=300011&sgId=136&pnum=1'))"
   ]
  },
  {
   "cell_type": "code",
   "execution_count": 82,
   "metadata": {},
   "outputs": [
    {
     "name": "stdout",
     "output_type": "stream",
     "text": [
      "['226', '가정양육수당 대폭 인상을 통한 보육예산 DOWN, 아이행복 UP', '보건복지', '2019.07.19', '2019.10.16', '2', '한들바람']\n",
      "['205', '조부모 아이돌봄 수당 지급', '보건복지', '2019.06.15', '2019.09.12', '18', '혁신리더']\n",
      "['182', '가업상속제도 이대로 좋은가?', '일반행정', '2019.05.30', '2019.08.27', '10', 'hyusco ']\n",
      "['172', '시니어들은 대한민국 국민이라고 말할 수 있는가???', '인권/평등', '2019.05.17', '2019.08.14', '2', '통통']\n",
      "['154', '담당자 제멋대로 운영되는 중소기업진흥공단(경기본부)의 정책자금 운영', '국민참여', '2019.03.06', '2019.06.03', '4', '포동이']\n",
      "['152', '사회적경제 활성화를 위한 계약제도 개선 제안', '일반행정', '2019.02.24', '2019.05.24', '194', '무한소']\n",
      "['150', '2019년 함안군문화시설사업소 기간제근로자(단순노무원) 채용계획 공고', '국민참여', '2019.02.09', '2019.05.09', '2', '백우']\n",
      "['130', '유치원 무상교육 체계개선 제안서', '사회통합', '2018.12.05', '2019.03.04', '0', '...']\n",
      "['124', '치매노인 알림 표식기능을 갖춘 위치추적 전자팔찌(가칭 치매노인 지킴이 팔찌) 지원사업을 시행해 주십시요', '안전', '2018.11.29', '2019.02.26', '7', '커피와설탕']\n",
      "['81', '부가가치세!!! 무조건 10%가 되어야만 하는 가***??', '기타', '2018.10.16', '2019.01.13', '2', '선한사마리아girl']\n",
      "['80', \"정부통합 일자리 창출 '통합 플랫폼' 구축\", '국민참여', '2018.10.16', '2019.01.13', '6', '스마트']\n",
      "['75', '서울특별시청소년수련관 직원정년나이 ,기관장(대표)과 같게 조례변경이 되어야 합니다', '일반행정', '2018.10.14', '2019.01.11', '9', '백희']\n",
      "['64', '난임지원확대 첫아이 횟수패지', '보건복지', '2018.10.02', '2018.12.30', '2037', '엄마란소리']\n",
      "['55', '무허가축사 해결 위한 특별법 제정을 촉구합니다.', '일반행정', '2018.09.26', '2018.12.24', '1', '생태조성']\n",
      "['31', '사회적인 문제점 자동차급발진사고와 BMW 화재 사건에 대해서~~~', '기타', '2018.09.04', '2018.12.02', '3', '해오름']\n"
     ]
    }
   ],
   "source": [
    "data = []\n",
    "for link in links:\n",
    "    temp = get(link)\n",
    "    data.append(temp)\n",
    "    print(temp)"
   ]
  },
  {
   "cell_type": "code",
   "execution_count": 83,
   "metadata": {},
   "outputs": [
    {
     "data": {
      "text/plain": [
       "[['226',\n",
       "  '가정양육수당 대폭 인상을 통한 보육예산 DOWN, 아이행복 UP',\n",
       "  '보건복지',\n",
       "  '2019.07.19',\n",
       "  '2019.10.16',\n",
       "  '2',\n",
       "  '한들바람'],\n",
       " ['205', '조부모 아이돌봄 수당 지급', '보건복지', '2019.06.15', '2019.09.12', '18', '혁신리더'],\n",
       " ['182',\n",
       "  '가업상속제도 이대로 좋은가?',\n",
       "  '일반행정',\n",
       "  '2019.05.30',\n",
       "  '2019.08.27',\n",
       "  '10',\n",
       "  'hyusco '],\n",
       " ['172',\n",
       "  '시니어들은 대한민국 국민이라고 말할 수 있는가???',\n",
       "  '인권/평등',\n",
       "  '2019.05.17',\n",
       "  '2019.08.14',\n",
       "  '2',\n",
       "  '통통'],\n",
       " ['154',\n",
       "  '담당자 제멋대로 운영되는 중소기업진흥공단(경기본부)의 정책자금 운영',\n",
       "  '국민참여',\n",
       "  '2019.03.06',\n",
       "  '2019.06.03',\n",
       "  '4',\n",
       "  '포동이'],\n",
       " ['152',\n",
       "  '사회적경제 활성화를 위한 계약제도 개선 제안',\n",
       "  '일반행정',\n",
       "  '2019.02.24',\n",
       "  '2019.05.24',\n",
       "  '194',\n",
       "  '무한소'],\n",
       " ['150',\n",
       "  '2019년 함안군문화시설사업소 기간제근로자(단순노무원) 채용계획 공고',\n",
       "  '국민참여',\n",
       "  '2019.02.09',\n",
       "  '2019.05.09',\n",
       "  '2',\n",
       "  '백우'],\n",
       " ['130', '유치원 무상교육 체계개선 제안서', '사회통합', '2018.12.05', '2019.03.04', '0', '...'],\n",
       " ['124',\n",
       "  '치매노인 알림 표식기능을 갖춘 위치추적 전자팔찌(가칭 치매노인 지킴이 팔찌) 지원사업을 시행해 주십시요',\n",
       "  '안전',\n",
       "  '2018.11.29',\n",
       "  '2019.02.26',\n",
       "  '7',\n",
       "  '커피와설탕'],\n",
       " ['81',\n",
       "  '부가가치세!!! 무조건 10%가 되어야만 하는 가***??',\n",
       "  '기타',\n",
       "  '2018.10.16',\n",
       "  '2019.01.13',\n",
       "  '2',\n",
       "  '선한사마리아girl'],\n",
       " ['80',\n",
       "  \"정부통합 일자리 창출 '통합 플랫폼' 구축\",\n",
       "  '국민참여',\n",
       "  '2018.10.16',\n",
       "  '2019.01.13',\n",
       "  '6',\n",
       "  '스마트'],\n",
       " ['75',\n",
       "  '서울특별시청소년수련관 직원정년나이 ,기관장(대표)과 같게 조례변경이 되어야 합니다',\n",
       "  '일반행정',\n",
       "  '2018.10.14',\n",
       "  '2019.01.11',\n",
       "  '9',\n",
       "  '백희'],\n",
       " ['64',\n",
       "  '난임지원확대 첫아이 횟수패지',\n",
       "  '보건복지',\n",
       "  '2018.10.02',\n",
       "  '2018.12.30',\n",
       "  '2037',\n",
       "  '엄마란소리'],\n",
       " ['55',\n",
       "  '무허가축사 해결 위한 특별법 제정을 촉구합니다.',\n",
       "  '일반행정',\n",
       "  '2018.09.26',\n",
       "  '2018.12.24',\n",
       "  '1',\n",
       "  '생태조성'],\n",
       " ['31',\n",
       "  '사회적인 문제점 자동차급발진사고와 BMW 화재 사건에 대해서~~~',\n",
       "  '기타',\n",
       "  '2018.09.04',\n",
       "  '2018.12.02',\n",
       "  '3',\n",
       "  '해오름']]"
      ]
     },
     "execution_count": 83,
     "metadata": {},
     "output_type": "execute_result"
    }
   ],
   "source": [
    "data"
   ]
  },
  {
   "cell_type": "code",
   "execution_count": null,
   "metadata": {},
   "outputs": [],
   "source": []
  }
 ],
 "metadata": {
  "kernelspec": {
   "display_name": "Python 3",
   "language": "python",
   "name": "python3"
  },
  "language_info": {
   "codemirror_mode": {
    "name": "ipython",
    "version": 3
   },
   "file_extension": ".py",
   "mimetype": "text/x-python",
   "name": "python",
   "nbconvert_exporter": "python",
   "pygments_lexer": "ipython3",
   "version": "3.7.4"
  }
 },
 "nbformat": 4,
 "nbformat_minor": 2
}
