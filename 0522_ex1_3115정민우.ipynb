{
 "cells": [
  {
   "cell_type": "code",
   "execution_count": 1,
   "metadata": {},
   "outputs": [],
   "source": [
    "#크롤링 실습"
   ]
  },
  {
   "cell_type": "code",
   "execution_count": 3,
   "metadata": {},
   "outputs": [],
   "source": [
    "from urllib.request import urlopen\n",
    "from bs4 import BeautifulSoup"
   ]
  },
  {
   "cell_type": "code",
   "execution_count": 13,
   "metadata": {},
   "outputs": [],
   "source": [
    "url = 'https://www.innogov.go.kr/ucms/ogp/sug/list.do?pnum=1&menuNo=300011'"
   ]
  },
  {
   "cell_type": "code",
   "execution_count": 14,
   "metadata": {},
   "outputs": [],
   "source": [
    "html = urlopen(url)"
   ]
  },
  {
   "cell_type": "code",
   "execution_count": 15,
   "metadata": {},
   "outputs": [],
   "source": [
    "soup = BeautifulSoup(html, 'html.parser')"
   ]
  },
  {
   "cell_type": "code",
   "execution_count": 16,
   "metadata": {},
   "outputs": [
    {
     "name": "stdout",
     "output_type": "stream",
     "text": [
      "제목: 행정기관 소속 위원회 위원 개인정보 및 안건 공개 기준...\n",
      "링크: /ucms/ogp/sug/view.do?menuNo=300011&sgId=280&pnum=1\n"
     ]
    }
   ],
   "source": [
    "result = soup.select_one('#content > div.suggestion_list > ul > li:nth-child(1) > dl > dt > p > a')\n",
    "print(\"제목: \" + result.string)\n",
    "print(\"링크: \" + result.attrs.get('href'))"
   ]
  },
  {
   "cell_type": "code",
   "execution_count": 20,
   "metadata": {},
   "outputs": [
    {
     "name": "stdout",
     "output_type": "stream",
     "text": [
      "제목: 행정기관 소속 위원회 위원 개인정보 및 안건 공개 기준...\n",
      "링크: /ucms/ogp/sug/view.do?menuNo=300011&sgId=280&pnum=1\n",
      "\n",
      "제목: 초과근무 줄이기!\n",
      "링크: /ucms/ogp/sug/view.do?menuNo=300011&sgId=279&pnum=1\n",
      "\n",
      "제목: 원스톱 의원요구자료 제출 시스템 구축\n",
      "링크: /ucms/ogp/sug/view.do?menuNo=300011&sgId=278&pnum=1\n",
      "\n",
      "제목: 예산을 공평하게 분배\n",
      "링크: /ucms/ogp/sug/view.do?menuNo=300011&sgId=277&pnum=1\n",
      "\n",
      "제목: 공무원 인트라넷 통합메신저\n",
      "링크: /ucms/ogp/sug/view.do?menuNo=300011&sgId=276&pnum=1\n",
      "\n"
     ]
    }
   ],
   "source": [
    "results = soup.select('#content > div.suggestion_list > ul > li > dl > dt > p > a')\n",
    "for i in results:\n",
    "    print(\"제목: \" + i.string)\n",
    "    print(\"링크: \" + i.attrs.get('href'))\n",
    "    print(\"\")"
   ]
  },
  {
   "cell_type": "code",
   "execution_count": null,
   "metadata": {},
   "outputs": [],
   "source": []
  }
 ],
 "metadata": {
  "kernelspec": {
   "display_name": "Python 3",
   "language": "python",
   "name": "python3"
  },
  "language_info": {
   "codemirror_mode": {
    "name": "ipython",
    "version": 3
   },
   "file_extension": ".py",
   "mimetype": "text/x-python",
   "name": "python",
   "nbconvert_exporter": "python",
   "pygments_lexer": "ipython3",
   "version": "3.7.4"
  }
 },
 "nbformat": 4,
 "nbformat_minor": 2
}
