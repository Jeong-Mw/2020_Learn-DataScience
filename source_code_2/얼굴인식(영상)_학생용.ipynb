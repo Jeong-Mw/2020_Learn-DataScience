{
 "cells": [
  {
   "cell_type": "code",
   "execution_count": 1,
   "metadata": {},
   "outputs": [
    {
     "name": "stdout",
     "output_type": "stream",
     "text": [
      "Collecting opencv-python\n",
      "  Downloading opencv_python-4.4.0.44-cp37-cp37m-win_amd64.whl (33.5 MB)\n",
      "Requirement already satisfied: numpy>=1.14.5 in c:\\users\\fwwfl\\anaconda3\\lib\\site-packages (from opencv-python) (1.18.1)\n",
      "Installing collected packages: opencv-python\n",
      "Successfully installed opencv-python-4.4.0.44\n"
     ]
    }
   ],
   "source": [
    "# 이미지와 영상을 처리하기 위한 라이브러리\n",
    "!pip install opencv-python"
   ]
  },
  {
   "cell_type": "code",
   "execution_count": 2,
   "metadata": {},
   "outputs": [],
   "source": [
    "import cv2"
   ]
  },
  {
   "cell_type": "markdown",
   "metadata": {},
   "source": [
    "## 이미지 읽고 보여주기"
   ]
  },
  {
   "cell_type": "code",
   "execution_count": 4,
   "metadata": {
    "scrolled": true
   },
   "outputs": [],
   "source": [
    "img =cv2.imread('cat.PNG')\n",
    "cv2.imshow('cute_cat',img)\n",
    "cv2.waitKey(0)\n",
    "cv2.destroyAllWindows()"
   ]
  },
  {
   "cell_type": "markdown",
   "metadata": {},
   "source": [
    "## 흑백 이미지로 바꾸기"
   ]
  },
  {
   "cell_type": "code",
   "execution_count": 7,
   "metadata": {},
   "outputs": [],
   "source": [
    "img =cv2.imread('cat.PNG')\n",
    "\n",
    "gray = cv2.cvtColor(img, cv2.COLOR_BGR2GRAY)\n",
    "cv2.imshow('cute_cat',gray)\n",
    "cv2.waitKey(0)\n",
    "cv2.destroyAllWindows()"
   ]
  },
  {
   "cell_type": "markdown",
   "metadata": {},
   "source": [
    "## 카메라로 얼굴 인식하기"
   ]
  },
  {
   "cell_type": "code",
   "execution_count": 8,
   "metadata": {},
   "outputs": [
    {
     "name": "stdout",
     "output_type": "stream",
     "text": [
      "width 640.0\n",
      "height 480.0\n",
      "fps 30.0\n"
     ]
    }
   ],
   "source": [
    "# VideoCapture : 카메라 또는 파일로부터 영상을 입력 받을 수 있는 클래스\n",
    "cap = cv2.VideoCapture(0)\n",
    "\n",
    "#영상 입력 기능이 정상적으으로 열렸으면 영상의 가로, 세로, 초당 프레임 수를 출력\n",
    "if cap.isOpened():\n",
    "    print(\"width\", cap.get(cv2.CAP_PROP_FRAME_WIDTH))\n",
    "    print(\"height\", cap.get(cv2.CAP_PROP_FRAME_HEIGHT))\n",
    "    print(\"fps\", cap.get(cv2.CAP_PROP_FPS))\n",
    "\n",
    "#영상 입력 기능이 정상적으로 열렸으면 비디오 프레임을 읽어옴. \n",
    "while cap.isOpened():\n",
    "    ret, img = cap.read()\n",
    "    \n",
    "    if ret:\n",
    "        cv2.imshow('영상', img)\n",
    "        \n",
    "        key = cv2.waitKey(1) & 0xFF \n",
    "        \n",
    "        #key변수가 가리키는 값이 27(ESC 키 값)이면 종료\n",
    "        if key == 27:\n",
    "            break\n",
    "\n",
    "            \n",
    "#영상 입력 기능 종료\n",
    "cap.release()\n",
    "\n",
    "cv2.destroyAllWindows()"
   ]
  },
  {
   "cell_type": "markdown",
   "metadata": {},
   "source": [
    "## 웹캠 영상 얼굴 인식하기"
   ]
  },
  {
   "cell_type": "markdown",
   "metadata": {},
   "source": [
    "#### CascadeClassifier : 다단계 분류기, 머신러닝 기반의 객체 검출 알고리즘을 구현한 클래스\n",
    "#### haarcascade_frontalface_default.xml : 전면 얼굴을 검출하기 위해 미리 학습시켜 놓은 xml 파일"
   ]
  },
  {
   "cell_type": "code",
   "execution_count": 14,
   "metadata": {},
   "outputs": [],
   "source": [
    "face_cascade = cv2.CascadeClassifier('haarcascade_frontalface_default.xml')\n",
    "\n",
    "# VideoCapture : 카메라 또는 파일로부터 영상을 입력 받을 수 있는 클래스\n",
    "cap = cv2.VideoCapture(0)\n",
    "\n",
    "#영상 입력 기능이 정상적으로 열렸으면 비디오 프레임을 읽어옴. \n",
    "while cap.isOpened():\n",
    "    ret, img = cap.read()\n",
    "    \n",
    "    if ret:\n",
    "        gray = cv2.cvtColor(img, cv2.COLOR_BGR2GRAY)\n",
    "        \n",
    "        faces = face_cascade.detectMultiScale(gray,1.3,5)\n",
    "        for (x,y,w,h) in faces:\n",
    "            img = cv2.rectangle(img, (x,y), (x+w, y+h),(255,0,0), 2)\n",
    "        \n",
    "        cv2.imshow('영상', img)\n",
    "        \n",
    "        key = cv2.waitKey(1) & 0xFF \n",
    "        \n",
    "        #key변수가 가리키는 값이 27(ESC 키 값)이면 종료\n",
    "        if key == 27:\n",
    "            break\n",
    "\n",
    "            \n",
    "#영상 입력 기능 종료\n",
    "cap.release()\n",
    "\n",
    "cv2.destroyAllWindows()\n"
   ]
  },
  {
   "cell_type": "markdown",
   "metadata": {},
   "source": [
    "## 얼굴 + 눈 인식"
   ]
  },
  {
   "cell_type": "code",
   "execution_count": 18,
   "metadata": {},
   "outputs": [],
   "source": [
    "face_cascade = cv2.CascadeClassifier('haarcascade_frontalface_default.xml')\n",
    "eye_cascade = cv2.CascadeClassifier('haarcascade_eye.xml')\n",
    "cap = cv2.VideoCapture(0)\n",
    "\n",
    "#영상 입력 기능이 정상적으으로 열렸으면 비디오 프레임을 읽어옴. \n",
    "while cap.isOpened():\n",
    "    ret, img = cap.read()\n",
    "    \n",
    "    if ret:\n",
    "        gray = cv2.cvtColor(img, cv2.COLOR_BGR2GRAY)\n",
    "        faces = face_cascade.detectMultiScale(gray, 1.3, 5)\n",
    "        \n",
    "        for (x, y, w, h) in faces:\n",
    "            img = cv2.rectangle(img, (x,y), (x+w, y+h), (255,0,0), 2)\n",
    "            \n",
    "            roi_gray = gray[y:y+h, x:x+w]\n",
    "            roi_color = img[y:y+h, x:x+w]\n",
    "            eyes = eye_cascade.detectMultiScale(roi_gray,1.3, 2)\n",
    "            for (ex, ey, ew, eh) in eyes:\n",
    "                cv2.rectangle(roi_color, (ex, ey), (ex+ew, ey+eh), (0,255,0), 2)\n",
    "        \n",
    "        \n",
    "        cv2.imshow('face_detected', img)\n",
    "        \n",
    "        key = cv2.waitKey(1) & 0xFF \n",
    "        \n",
    "        #key변수가 가리키는 값이 27(ESC 키 값)이면 종료\n",
    "        if key ==27:\n",
    "            break\n",
    "\n",
    "#영상 입력 기능 종료\n",
    "cap.release()\n",
    "\n",
    "cv2.destroyAllWindows()"
   ]
  },
  {
   "cell_type": "code",
   "execution_count": null,
   "metadata": {},
   "outputs": [],
   "source": []
  }
 ],
 "metadata": {
  "kernelspec": {
   "display_name": "Python 3",
   "language": "python",
   "name": "python3"
  },
  "language_info": {
   "codemirror_mode": {
    "name": "ipython",
    "version": 3
   },
   "file_extension": ".py",
   "mimetype": "text/x-python",
   "name": "python",
   "nbconvert_exporter": "python",
   "pygments_lexer": "ipython3",
   "version": "3.7.6"
  }
 },
 "nbformat": 4,
 "nbformat_minor": 4
}
