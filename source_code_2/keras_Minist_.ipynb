{
 "cells": [
  {
   "cell_type": "code",
   "execution_count": 1,
   "metadata": {},
   "outputs": [],
   "source": [
    "#데이터 import\n",
    "from tensorflow.keras.datasets import mnist\n",
    "\n",
    "#원핫인코딩\n",
    "from tensorflow.keras.utils import to_categorical\n",
    "\n",
    "#분석 기본 라이브러리\n",
    "import numpy as np\n",
    "import matplotlib.pyplot as plt"
   ]
  },
  {
   "cell_type": "code",
   "execution_count": 2,
   "metadata": {},
   "outputs": [],
   "source": [
    "(X_train, y_train), (X_test, y_test) = mnist.load_data()"
   ]
  },
  {
   "cell_type": "code",
   "execution_count": 3,
   "metadata": {},
   "outputs": [
    {
     "data": {
      "text/plain": [
       "((60000, 28, 28), (60000,))"
      ]
     },
     "execution_count": 3,
     "metadata": {},
     "output_type": "execute_result"
    }
   ],
   "source": [
    "X_train.shape, y_train.shape\n",
    "#데이터가 6만개 28,28 2차원으로 되어있다고 했었나.."
   ]
  },
  {
   "cell_type": "code",
   "execution_count": 4,
   "metadata": {},
   "outputs": [
    {
     "data": {
      "text/plain": [
       "((10000, 28, 28), (10000,))"
      ]
     },
     "execution_count": 4,
     "metadata": {},
     "output_type": "execute_result"
    }
   ],
   "source": [
    "X_test.shape, y_test.shape"
   ]
  },
  {
   "cell_type": "code",
   "execution_count": 5,
   "metadata": {},
   "outputs": [
    {
     "data": {
      "text/plain": [
       "<matplotlib.image.AxesImage at 0x237bba7f108>"
      ]
     },
     "execution_count": 5,
     "metadata": {},
     "output_type": "execute_result"
    },
    {
     "data": {
      "image/png": "[encoded data removed]",
      "text/plain": [
       "<Figure size 432x288 with 1 Axes>"
      ]
     },
     "metadata": {
      "needs_background": "light"
     },
     "output_type": "display_data"
    }
   ],
   "source": [
    "plt.imshow(X_train[0], cmap=\"gray\")"
   ]
  },
  {
   "cell_type": "code",
   "execution_count": 6,
   "metadata": {},
   "outputs": [
    {
     "data": {
      "text/plain": [
       "array([5923, 6742, 5958, 6131, 5842, 5421, 5918, 6265, 5851, 5949],\n",
       "      dtype=int64)"
      ]
     },
     "execution_count": 6,
     "metadata": {},
     "output_type": "execute_result"
    }
   ],
   "source": [
    "#데이터가 몇개씩 있는지 확인\n",
    "# 0 : 5923, 1: 6742\n",
    "np.bincount(y_train)"
   ]
  },
  {
   "cell_type": "code",
   "execution_count": 7,
   "metadata": {},
   "outputs": [],
   "source": [
    "#X데이터 전처리\n",
    "#3차원데이터를 2차원이터로"
   ]
  },
  {
   "cell_type": "code",
   "execution_count": 8,
   "metadata": {},
   "outputs": [],
   "source": [
    "# X_train = X_train[:20000]\n",
    "# y_test = y_test[:20000]"
   ]
  },
  {
   "cell_type": "code",
   "execution_count": 9,
   "metadata": {},
   "outputs": [
    {
     "data": {
      "text/plain": [
       "((60000, 28, 28), (28, 28))"
      ]
     },
     "execution_count": 9,
     "metadata": {},
     "output_type": "execute_result"
    }
   ],
   "source": [
    "X_train.shape, X_train[0].shape"
   ]
  },
  {
   "cell_type": "code",
   "execution_count": 10,
   "metadata": {},
   "outputs": [],
   "source": [
    "#reshape 차원수를 바꾸는 것\n",
    "X_train = X_train.reshape(X_train.shape[0],-1)\n",
    "X_test = X_test.reshape(X_test.shape[0],-1)"
   ]
  },
  {
   "cell_type": "code",
   "execution_count": 11,
   "metadata": {},
   "outputs": [
    {
     "data": {
      "text/plain": [
       "((60000, 784), (784,))"
      ]
     },
     "execution_count": 11,
     "metadata": {},
     "output_type": "execute_result"
    }
   ],
   "source": [
    "X_train.shape, X_train[0].shape"
   ]
  },
  {
   "cell_type": "code",
   "execution_count": 12,
   "metadata": {},
   "outputs": [],
   "source": [
    "### y데이터 전처리\n",
    "### 원핫 인코딩"
   ]
  },
  {
   "cell_type": "code",
   "execution_count": 13,
   "metadata": {},
   "outputs": [
    {
     "name": "stdout",
     "output_type": "stream",
     "text": [
      "(60000,)\n",
      "[5 0 4 1 9 2 1 3 1 4]\n"
     ]
    }
   ],
   "source": [
    "print(y_train.shape)\n",
    "print(y_train[:10])"
   ]
  },
  {
   "cell_type": "code",
   "execution_count": 14,
   "metadata": {},
   "outputs": [],
   "source": [
    "Y_train = to_categorical(y_train)\n",
    "Y_test = to_categorical(y_test)"
   ]
  },
  {
   "cell_type": "code",
   "execution_count": 15,
   "metadata": {},
   "outputs": [
    {
     "name": "stdout",
     "output_type": "stream",
     "text": [
      "(60000, 10)\n",
      "[[0. 0. 0. 0. 0. 1. 0. 0. 0. 0.]\n",
      " [1. 0. 0. 0. 0. 0. 0. 0. 0. 0.]\n",
      " [0. 0. 0. 0. 1. 0. 0. 0. 0. 0.]]\n"
     ]
    }
   ],
   "source": [
    "print(Y_train.shape)\n",
    "print(Y_train[:3])"
   ]
  },
  {
   "cell_type": "markdown",
   "metadata": {},
   "source": [
    "## 딥러닝 모델 생성"
   ]
  },
  {
   "cell_type": "code",
   "execution_count": 17,
   "metadata": {},
   "outputs": [],
   "source": [
    "from tensorflow.keras.models import Sequential\n",
    "from tensorflow.keras.layers import Dense\n",
    "from tensorflow.keras import optimizers"
   ]
  },
  {
   "cell_type": "code",
   "execution_count": 25,
   "metadata": {},
   "outputs": [],
   "source": [
    "model = Sequential()\n",
    "\n",
    "#은닉층1\n",
    "model.add(Dense(units=64,\n",
    "                input_dim=784,\n",
    "                activation=\"sigmoid\"))\n",
    "\n",
    "#은닉층2\n",
    "model.add(Dense(units=128,\n",
    "                activation=\"sigmoid\"))\n",
    "\n",
    "#은닉층3\n",
    "model.add(Dense(units=128,\n",
    "                activation=\"sigmoid\"))\n",
    "\n",
    "#출력층\n",
    "model.add(Dense(units=10,\n",
    "               activation=\"softmax\"))\n",
    "\n",
    "\n",
    "sgd = optimizers.SGD(lr=0.001) # 0~1 사이의 값\n",
    "model.compile(loss=\"categorical_crossentropy\",\n",
    "             optimizer=sgd,\n",
    "             metrics=[\"accuracy\"])"
   ]
  },
  {
   "cell_type": "code",
   "execution_count": 26,
   "metadata": {
    "scrolled": true
   },
   "outputs": [
    {
     "name": "stdout",
     "output_type": "stream",
     "text": [
      "Epoch 1/20\n",
      "1875/1875 [==============================] - 3s 2ms/step - loss: 2.3090 - accuracy: 0.1207 - val_loss: 2.2896 - val_accuracy: 0.1140\n",
      "Epoch 2/20\n",
      "1875/1875 [==============================] - 3s 2ms/step - loss: 2.2834 - accuracy: 0.1439 - val_loss: 2.2754 - val_accuracy: 0.1147\n",
      "Epoch 3/20\n",
      "1875/1875 [==============================] - 3s 2ms/step - loss: 2.2693 - accuracy: 0.1562 - val_loss: 2.2608 - val_accuracy: 0.2311\n",
      "Epoch 4/20\n",
      "1875/1875 [==============================] - 3s 2ms/step - loss: 2.2541 - accuracy: 0.2544 - val_loss: 2.2439 - val_accuracy: 0.2837\n",
      "Epoch 5/20\n",
      "1875/1875 [==============================] - 4s 2ms/step - loss: 2.2367 - accuracy: 0.3431 - val_loss: 2.2254 - val_accuracy: 0.3195\n",
      "Epoch 6/20\n",
      "1875/1875 [==============================] - 3s 2ms/step - loss: 2.2167 - accuracy: 0.4031 - val_loss: 2.2036 - val_accuracy: 0.3553\n",
      "Epoch 7/20\n",
      "1875/1875 [==============================] - 3s 2ms/step - loss: 2.1933 - accuracy: 0.4439 - val_loss: 2.1776 - val_accuracy: 0.4337\n",
      "Epoch 8/20\n",
      "1875/1875 [==============================] - 3s 2ms/step - loss: 2.1655 - accuracy: 0.4877 - val_loss: 2.1466 - val_accuracy: 0.5245\n",
      "Epoch 9/20\n",
      "1875/1875 [==============================] - 3s 2ms/step - loss: 2.1316 - accuracy: 0.5194 - val_loss: 2.1086 - val_accuracy: 0.5452\n",
      "Epoch 10/20\n",
      "1875/1875 [==============================] - 3s 2ms/step - loss: 2.0907 - accuracy: 0.5455 - val_loss: 2.0633 - val_accuracy: 0.5651\n",
      "Epoch 11/20\n",
      "1875/1875 [==============================] - 3s 2ms/step - loss: 2.0418 - accuracy: 0.5598 - val_loss: 2.0096 - val_accuracy: 0.5898\n",
      "Epoch 12/20\n",
      "1875/1875 [==============================] - 3s 2ms/step - loss: 1.9844 - accuracy: 0.5833 - val_loss: 1.9474 - val_accuracy: 0.5819\n",
      "Epoch 13/20\n",
      "1875/1875 [==============================] - 3s 2ms/step - loss: 1.9186 - accuracy: 0.5948 - val_loss: 1.8768 - val_accuracy: 0.6078\n",
      "Epoch 14/20\n",
      "1875/1875 [==============================] - 3s 2ms/step - loss: 1.8460 - accuracy: 0.6075 - val_loss: 1.8008 - val_accuracy: 0.6253\n",
      "Epoch 15/20\n",
      "1875/1875 [==============================] - 3s 2ms/step - loss: 1.7680 - accuracy: 0.6253 - val_loss: 1.7206 - val_accuracy: 0.6373\n",
      "Epoch 16/20\n",
      "1875/1875 [==============================] - 3s 2ms/step - loss: 1.6874 - accuracy: 0.6365 - val_loss: 1.6394 - val_accuracy: 0.6563\n",
      "Epoch 17/20\n",
      "1875/1875 [==============================] - 3s 2ms/step - loss: 1.6058 - accuracy: 0.6535 - val_loss: 1.5582 - val_accuracy: 0.6641\n",
      "Epoch 18/20\n",
      "1875/1875 [==============================] - 3s 2ms/step - loss: 1.5252 - accuracy: 0.6661 - val_loss: 1.4785 - val_accuracy: 0.6811\n",
      "Epoch 19/20\n",
      "1875/1875 [==============================] - 3s 2ms/step - loss: 1.4464 - accuracy: 0.6813 - val_loss: 1.4016 - val_accuracy: 0.6923\n",
      "Epoch 20/20\n",
      "1875/1875 [==============================] - 3s 2ms/step - loss: 1.3697 - accuracy: 0.6966 - val_loss: 1.3272 - val_accuracy: 0.7092\n"
     ]
    }
   ],
   "source": [
    "#학습 validation_data는 검증할수 있는 데이터\n",
    "hist = model.fit(X_train,Y_train,epochs=20,\n",
    "          validation_data=(X_test,Y_test))"
   ]
  },
  {
   "cell_type": "code",
   "execution_count": 47,
   "metadata": {
    "scrolled": true
   },
   "outputs": [
    {
     "data": {
      "text/plain": [
       "dict_keys(['loss', 'accuracy', 'val_loss', 'val_accuracy'])"
      ]
     },
     "execution_count": 47,
     "metadata": {},
     "output_type": "execute_result"
    }
   ],
   "source": [
    "hist.history.keys()"
   ]
  },
  {
   "cell_type": "code",
   "execution_count": 30,
   "metadata": {},
   "outputs": [
    {
     "data": {
      "image/png": "[encoded data removed]",
      "text/plain": [
       "<Figure size 432x288 with 1 Axes>"
      ]
     },
     "metadata": {
      "needs_background": "light"
     },
     "output_type": "display_data"
    }
   ],
   "source": [
    "plt.plot(hist.history[\"accuracy\"],label=\"train\")\n",
    "plt.plot(hist.history[\"val_accuracy\"], label=\"test\")\n",
    "plt.legend()\n",
    "plt.xlabel(\"epochs\")\n",
    "plt.ylabel(\"accuracy\")\n",
    "plt.grid()"
   ]
  },
  {
   "cell_type": "code",
   "execution_count": 32,
   "metadata": {},
   "outputs": [],
   "source": [
    "### 가중치 초기화"
   ]
  },
  {
   "cell_type": "code",
   "execution_count": 33,
   "metadata": {},
   "outputs": [],
   "source": [
    "model = Sequential()\n",
    "\n",
    "#은닉층1\n",
    "model.add(Dense(units=64,\n",
    "                input_dim=784,\n",
    "                activation=\"sigmoid\",\n",
    "                kernel_initializer=\"he_normal\"))\n",
    "\n",
    "#은닉층2\n",
    "model.add(Dense(units=128,\n",
    "                activation=\"sigmoid\"))\n",
    "\n",
    "#은닉층3\n",
    "model.add(Dense(units=128,\n",
    "                activation=\"sigmoid\"))\n",
    "\n",
    "#출력층\n",
    "model.add(Dense(units=10,\n",
    "               activation=\"softmax\"))\n",
    "\n",
    "\n",
    "sgd = optimizers.SGD(lr=0.001) # 0~1 사이의 값\n",
    "model.compile(loss=\"categorical_crossentropy\",\n",
    "             optimizer=sgd,\n",
    "             metrics=[\"accuracy\"])\n",
    "\n",
    "hist = model.fit(X_train,Y_train,epochs=20,\n",
    "          validation_data=(X_test,Y_test), verbose=0)"
   ]
  },
  {
   "cell_type": "code",
   "execution_count": 34,
   "metadata": {},
   "outputs": [
    {
     "data": {
      "image/png": "[encoded data removed]",
      "text/plain": [
       "<Figure size 432x288 with 1 Axes>"
      ]
     },
     "metadata": {
      "needs_background": "light"
     },
     "output_type": "display_data"
    }
   ],
   "source": [
    "plt.plot(hist.history[\"accuracy\"],label=\"train\")\n",
    "plt.plot(hist.history[\"val_accuracy\"], label=\"test\")\n",
    "plt.legend()\n",
    "plt.xlabel(\"epochs\")\n",
    "plt.ylabel(\"accuracy\")\n",
    "plt.grid()"
   ]
  },
  {
   "cell_type": "code",
   "execution_count": 39,
   "metadata": {},
   "outputs": [],
   "source": [
    "#활성화 함수 sigmoid -> relu"
   ]
  },
  {
   "cell_type": "code",
   "execution_count": 42,
   "metadata": {},
   "outputs": [],
   "source": [
    "model = Sequential()\n",
    "\n",
    "#은닉층1\n",
    "model.add(Dense(units=64,\n",
    "                input_dim=784,\n",
    "                activation=\"relu\",\n",
    "                kernel_initializer=\"he_normal\"))\n",
    "\n",
    "#은닉층2\n",
    "model.add(Dense(units=128,\n",
    "                activation=\"relu\"))\n",
    "\n",
    "#은닉층3\n",
    "model.add(Dense(units=128,\n",
    "                activation=\"relu\"))\n",
    "\n",
    "#출력층\n",
    "model.add(Dense(units=10,\n",
    "               activation=\"softmax\"))\n",
    "\n",
    "\n",
    "sgd = optimizers.SGD(lr=0.001) # 0~1 사이의 값\n",
    "model.compile(loss=\"categorical_crossentropy\",\n",
    "             optimizer=sgd,\n",
    "             metrics=[\"accuracy\"])\n",
    "\n",
    "hist = model.fit(X_train,Y_train,epochs=20,\n",
    "          validation_data=(X_test,Y_test), verbose=0)"
   ]
  },
  {
   "cell_type": "code",
   "execution_count": 43,
   "metadata": {},
   "outputs": [
    {
     "data": {
      "image/png": "[encoded data removed]",
      "text/plain": [
       "<Figure size 432x288 with 1 Axes>"
      ]
     },
     "metadata": {
      "needs_background": "light"
     },
     "output_type": "display_data"
    }
   ],
   "source": [
    "plt.plot(hist.history[\"accuracy\"],label=\"train\")\n",
    "plt.plot(hist.history[\"val_accuracy\"], label=\"test\")\n",
    "plt.legend()\n",
    "plt.xlabel(\"epochs\")\n",
    "plt.ylabel(\"accuracy\")\n",
    "plt.grid()"
   ]
  },
  {
   "cell_type": "code",
   "execution_count": 44,
   "metadata": {},
   "outputs": [],
   "source": [
    "#optimizer 변경"
   ]
  },
  {
   "cell_type": "code",
   "execution_count": 45,
   "metadata": {},
   "outputs": [],
   "source": [
    "model = Sequential()\n",
    "\n",
    "#은닉층1\n",
    "model.add(Dense(units=64,\n",
    "                input_dim=784,\n",
    "                activation=\"relu\",\n",
    "                kernel_initializer=\"he_normal\"))\n",
    "\n",
    "#은닉층2\n",
    "model.add(Dense(units=128,\n",
    "                activation=\"relu\"))\n",
    "\n",
    "#은닉층3\n",
    "model.add(Dense(units=128,\n",
    "                activation=\"relu\"))\n",
    "\n",
    "#출력층\n",
    "model.add(Dense(units=10,\n",
    "               activation=\"softmax\"))\n",
    "\n",
    "\n",
    "sgd = optimizers.SGD(lr=0.001) # 0~1 사이의 값\n",
    "model.compile(loss=\"categorical_crossentropy\",\n",
    "             optimizer=\"adam\",\n",
    "             metrics=[\"accuracy\"])\n",
    "\n",
    "hist = model.fit(X_train,Y_train,epochs=20,\n",
    "          validation_data=(X_test,Y_test), verbose=0)"
   ]
  },
  {
   "cell_type": "code",
   "execution_count": 46,
   "metadata": {},
   "outputs": [
    {
     "data": {
      "image/png": "[encoded data removed]",
      "text/plain": [
       "<Figure size 432x288 with 1 Axes>"
      ]
     },
     "metadata": {
      "needs_background": "light"
     },
     "output_type": "display_data"
    }
   ],
   "source": [
    "plt.plot(hist.history[\"accuracy\"],label=\"train\")\n",
    "plt.plot(hist.history[\"val_accuracy\"], label=\"test\")\n",
    "plt.legend()\n",
    "plt.xlabel(\"epochs\")\n",
    "plt.ylabel(\"accuracy\")\n",
    "plt.grid()"
   ]
  },
  {
   "cell_type": "code",
   "execution_count": null,
   "metadata": {},
   "outputs": [],
   "source": []
  }
 ],
 "metadata": {
  "kernelspec": {
   "display_name": "Python 3",
   "language": "python",
   "name": "python3"
  },
  "language_info": {
   "codemirror_mode": {
    "name": "ipython",
    "version": 3
   },
   "file_extension": ".py",
   "mimetype": "text/x-python",
   "name": "python",
   "nbconvert_exporter": "python",
   "pygments_lexer": "ipython3",
   "version": "3.7.6"
  }
 },
 "nbformat": 4,
 "nbformat_minor": 4
}
