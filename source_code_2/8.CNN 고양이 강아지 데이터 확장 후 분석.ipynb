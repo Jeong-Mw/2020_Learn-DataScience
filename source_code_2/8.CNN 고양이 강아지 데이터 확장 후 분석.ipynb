{
 "cells": [
  {
   "cell_type": "code",
   "execution_count": 4,
   "metadata": {},
   "outputs": [],
   "source": [
    "import numpy as np\n",
    "import pandas as pd\n",
    "from tensorflow.keras.models import Sequential\n",
    "from tensorflow.keras.layers import Conv2D, MaxPooling2D, Flatten, Dense\n",
    "from tensorflow.keras.preprocessing.image import ImageDataGenerator"
   ]
  },
  {
   "cell_type": "code",
   "execution_count": 8,
   "metadata": {},
   "outputs": [],
   "source": [
    "train_img_gen = ImageDataGenerator(rescale=1./255, # 0~1 사이값으로 단위변환\n",
    "                  rotation_range=180,# 0~180도 사이로 회전\n",
    "                  width_shift_range=0.1, # 좌우로 10%내로 이동\n",
    "                  height_shift_range=0.2, # 상하로 10%내로 이동\n",
    "                  zoom_range=0.3, # 0.7~1.3배 축소 및 확대\n",
    "                  horizontal_flip=True,# 50%확률로 좌우반전\n",
    "                  vertical_flip=True)# 50%확률로 상하반전\n",
    "\n",
    "test_img_gen = ImageDataGenerator(rescale=1./255)"
   ]
  },
  {
   "cell_type": "code",
   "execution_count": 9,
   "metadata": {},
   "outputs": [
    {
     "name": "stdout",
     "output_type": "stream",
     "text": [
      "Found 3000 images belonging to 2 classes.\n"
     ]
    },
    {
     "data": {
      "text/plain": [
       "<tensorflow.python.keras.preprocessing.image.DirectoryIterator at 0x2950538ae88>"
      ]
     },
     "execution_count": 9,
     "metadata": {},
     "output_type": "execute_result"
    }
   ],
   "source": [
    "train_img_gen.flow_from_directory(directory=\"../data2/cats_and_dogs_filtered/\",\n",
    "                                 target_size=(224,224),\n",
    "                                 class_mode=\"binary\",\n",
    "                                 batch_size=100)"
   ]
  },
  {
   "cell_type": "code",
   "execution_count": null,
   "metadata": {},
   "outputs": [],
   "source": []
  }
 ],
 "metadata": {
  "kernelspec": {
   "display_name": "Python 3",
   "language": "python",
   "name": "python3"
  },
  "language_info": {
   "codemirror_mode": {
    "name": "ipython",
    "version": 3
   },
   "file_extension": ".py",
   "mimetype": "text/x-python",
   "name": "python",
   "nbconvert_exporter": "python",
   "pygments_lexer": "ipython3",
   "version": "3.7.6"
  }
 },
 "nbformat": 4,
 "nbformat_minor": 4
}
